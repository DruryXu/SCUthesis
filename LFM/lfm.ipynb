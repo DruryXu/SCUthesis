{
 "cells": [
  {
   "cell_type": "code",
   "execution_count": 1,
   "metadata": {},
   "outputs": [],
   "source": [
    "import numpy as np\n",
    "import pandas as pd\n",
    "import math\n",
    "import random"
   ]
  },
  {
   "cell_type": "code",
   "execution_count": 2,
   "metadata": {},
   "outputs": [
    {
     "name": "stdout",
     "output_type": "stream",
     "text": [
      "9775\n"
     ]
    }
   ],
   "source": [
    "data = pd.read_csv(\"~/Data/clean_rating4.csv\").drop([\"id\"], axis = 1)\n",
    "print(len(set(data.anime_id.tolist())))"
   ]
  },
  {
   "cell_type": "code",
   "execution_count": 3,
   "metadata": {},
   "outputs": [],
   "source": [
    "data = pd.read_csv('~/Data/clean_rating4.csv').drop([\"id\"], axis = 1)\n",
    "\n",
    "idx_to_user = list(set(data.user_id))\n",
    "idx_to_item = list(set(data.anime_id))\n",
    "\n",
    "user_to_idx = {user: idx for idx, user in enumerate(idx_to_user)}\n",
    "item_to_idx = {item: idx for idx, item in enumerate(idx_to_item)}"
   ]
  },
  {
   "cell_type": "code",
   "execution_count": 5,
   "metadata": {},
   "outputs": [
    {
     "name": "stdout",
     "output_type": "stream",
     "text": [
      "[[0.04186862 0.03501887 0.05150125 ... 0.06878365 0.06032171 0.0523683 ]\n",
      " [0.07666143 0.06644667 0.04408552 ... 0.09449302 0.07899567 0.03497836]\n",
      " [0.06091234 0.00315532 0.02958437 ... 0.0836783  0.03427751 0.00404149]\n",
      " ...\n",
      " [0.02151923 0.00907406 0.02159938 ... 0.01591178 0.08004413 0.08474887]\n",
      " [0.01553068 0.07358949 0.00415209 ... 0.05967594 0.04992596 0.03977697]\n",
      " [0.02950404 0.09832602 0.09536331 ... 0.01518481 0.02261967 0.09897285]]\n"
     ]
    }
   ],
   "source": [
    "# ratings = data[data.rating > 0].rating.values.tolist()\n",
    "# data = data[data.rating > 0].values\n",
    "\n",
    "F, alpha, lam_bda, batch_size = 100, 0.02, 0.01, 512000\n",
    "num_epochs, k = 30, 1 / math.sqrt(F)\n",
    "\n",
    "P = np.array([[random.random() * k for _ in range(F)] for _ in range(len(idx_to_user))])\n",
    "Q = np.array([[random.random() * k for _ in range(len(idx_to_item))] for _ in range(F)])\n",
    "print(P)"
   ]
  },
  {
   "cell_type": "code",
   "execution_count": 6,
   "metadata": {},
   "outputs": [],
   "source": [
    "def sigmoid(x):\n",
    "#     print(x)\n",
    "    return 1.0 / (1 + math.exp(-x))"
   ]
  },
  {
   "cell_type": "code",
   "execution_count": 7,
   "metadata": {},
   "outputs": [],
   "source": [
    "def train(train_data, alpha, lam_bda):\n",
    "    index = [i for i in range(train_data.shape[0])]\n",
    "    for epoch in range(num_epochs):\n",
    "        sample = random.sample(index, batch_size)\n",
    "        loss = 0\n",
    "        for i in range(batch_size):\n",
    "            user = user_to_idx[train_data[sample[i], 0]]\n",
    "            item = item_to_idx[train_data[sample[i], 1]]\n",
    "            rui = train_data[sample[i], 2]\n",
    "\n",
    "            eui = rui - sigmoid(P[user, :].dot(Q[:, item]))\n",
    "            loss += eui\n",
    "            for f in range(F):\n",
    "                P[user, f] += alpha * (eui * Q[f, item] - lam_bda * P[user, f])\n",
    "                Q[f, item] += alpha * (eui * P[user, f] - lam_bda * Q[f, item])\n",
    "\n",
    "        alpha *= 0.9\n",
    "        print(epoch + 1, loss / batch_size)"
   ]
  },
  {
   "cell_type": "code",
   "execution_count": 8,
   "metadata": {},
   "outputs": [],
   "source": [
    "def get_hot():\n",
    "    animes = pd.read_csv(\"~/Data/anime.csv\")\n",
    "    animes = animes[animes[\"anime_id\"].isin(idx_to_item)].loc[:, [\"anime_id\", \"rating\", \"members\"]].fillna(0)\n",
    "\n",
    "    scalar = lambda x: (x - np.min(x)) / (np.max(x) - np.min(x))\n",
    "    animes[\"rating_norm\"] = animes[[\"rating\"]].apply(scalar)\n",
    "    animes[\"members_norm\"] = animes[[\"members\"]].apply(scalar)\n",
    "    animes[\"weight\"] = 0.6 * animes[\"rating_norm\"] + 0.4 * animes[\"members_norm\"]\n",
    "    animes = animes.sort_values(by = \"weight\", ascending = False)\n",
    "    \n",
    "    return animes.anime_id.tolist()"
   ]
  },
  {
   "cell_type": "code",
   "execution_count": 9,
   "metadata": {},
   "outputs": [],
   "source": [
    "def negative_sample():\n",
    "    sample_num = 100\n",
    "    hot_items, neg_sample = get_hot(), []\n",
    "    data = pd.read_csv(\"~/Data/clean_rating4.csv\")\n",
    "    grouped = data.groupby([\"user_id\"])\n",
    "    for gp in grouped.groups:\n",
    "        p, num = grouped.get_group(gp).anime_id.tolist(), 0\n",
    "        for item in hot_items:\n",
    "            if item not in p: \n",
    "                neg_sample.append([gp, item, 0])\n",
    "                num += 1\n",
    "            if num == sample_num:\n",
    "                break\n",
    "\n",
    "    return np.array(neg_sample)"
   ]
  },
  {
   "cell_type": "code",
   "execution_count": 10,
   "metadata": {},
   "outputs": [
    {
     "name": "stdout",
     "output_type": "stream",
     "text": [
      "[[    1    24     1]\n",
      " [    1    30     1]\n",
      " [    1    63     1]\n",
      " ...\n",
      " [ 4701 17895     0]\n",
      " [ 4701 26243     0]\n",
      " [ 4701 25013     0]]\n"
     ]
    }
   ],
   "source": [
    "train_data = np.array(pd.read_csv(\"~/Thesis/Data/train.csv\"))\n",
    "train_data[:, -1] = np.array([1 for _ in range(train_data.shape[0])])\n",
    "train_data = np.concatenate((train_data, negative_sample()))\n",
    "print(train_data)\n",
    "# from sklearn.model_selection import train_test_split\n",
    "# train_data, test_data = train_test_split(data, test_size = 0.3)\n",
    "# train_ratio = 0.9\n",
    "# train_data = data[:int(len(data) * train_ratio)]\n",
    "# test_data = data[int(len(data) * train_ratio):]\n",
    "# print(train_data.shape, test_data.shape)"
   ]
  },
  {
   "cell_type": "code",
   "execution_count": 55,
   "metadata": {},
   "outputs": [
    {
     "name": "stdout",
     "output_type": "stream",
     "text": [
      "1 0.18030898087022273\n",
      "2 0.10848601644591498\n",
      "3 0.0709805096193708\n",
      "4 0.0527580640736663\n",
      "5 0.043247173574194504\n",
      "6 0.03734086560867708\n",
      "7 0.0335774526962298\n",
      "8 0.030060293921356455\n",
      "9 0.028271445582630114\n",
      "10 0.026635097122290084\n",
      "11 0.025345283139165883\n",
      "12 0.024212969759301893\n",
      "13 0.023434833138787258\n",
      "14 0.02255711258725834\n",
      "15 0.0223114990172638\n",
      "16 0.02200024780382737\n",
      "17 0.020914185943746003\n",
      "18 0.020875434378049923\n",
      "19 0.02028482928001763\n",
      "20 0.020124117336000058\n",
      "21 0.01994991355278006\n",
      "22 0.020115463519858216\n",
      "23 0.019422970193320926\n",
      "24 0.019307259660603076\n",
      "25 0.01928419077902894\n",
      "26 0.018771222958243548\n",
      "27 0.018768842033407184\n",
      "28 0.01869189932446103\n",
      "29 0.019206361817647653\n",
      "30 0.019255725324471465\n"
     ]
    }
   ],
   "source": [
    "train(train_data, alpha, lam_bda)"
   ]
  },
  {
   "cell_type": "code",
   "execution_count": 10,
   "metadata": {},
   "outputs": [],
   "source": [
    "def ndcg(k, ranklist, testlist):\n",
    "    if not testlist: return 0\n",
    "    idcg_k, dcg_k = 0, 0\n",
    "    if len(testlist) < k:\n",
    "        k = len(testlist)\n",
    "    for i in range(k):\n",
    "        idcg_k += 1 / math.log(i + 2, 2)\n",
    "        \n",
    "    s = set(testlist)\n",
    "    hits = [idx for idx, val in enumerate(ranklist) if val in s]\n",
    "    count = len(hits)\n",
    "    \n",
    "    for i in range(count):\n",
    "        dcg_k += 1 / math.log(hits[i] + 2, 2)\n",
    "        \n",
    "    return float(dcg_k / idcg_k)"
   ]
  },
  {
   "cell_type": "code",
   "execution_count": 65,
   "metadata": {},
   "outputs": [
    {
     "name": "stdout",
     "output_type": "stream",
     "text": [
      "1.0\n",
      "0.9927674962773878\n",
      "0.9833652414379922\n",
      "0.9658796000850883\n",
      "0.9320144650074453\n",
      "0.865049989363965\n",
      "0.7365241437991916\n",
      "0.48810891299723463\n",
      "0.23731121038077002\n",
      "0.08959795788130184\n"
     ]
    }
   ],
   "source": [
    "df = pd.read_csv(\"~/Thesis/Data/test.csv\")\n",
    "test_users = list(set(df.user))\n",
    "# df = pd.read_csv(\"~/Data/clean_rating4.csv\").drop([\"id\"], axis = 1)\n",
    "user_dict, final, precision = {}, [], []\n",
    "recall, f1, ndcg_k = [], [], []\n",
    "predict = P.dot(Q)\n",
    "for k in range(10):\n",
    "    ndcg_k, precision = [], []\n",
    "    for user in test_users:\n",
    "        dic = {}\n",
    "        test_items = [item_to_idx[i] for i in df[df.user == user].anime.tolist()]\n",
    "        target = [item_to_idx[data] for data in df[(df.user == user) & (df.rating > k)].anime.tolist()]\n",
    "        \n",
    "        user_idx = user_to_idx[user]\n",
    "        pred = predict[user_idx, :]\n",
    "        \n",
    "        for item in test_items:\n",
    "            dic[item] = pred[item]\n",
    "        \n",
    "#         print(set(dic.keys()) == set(target))\n",
    "        topk = [i[0] for i in sorted(dic.items(), key = lambda x: x[1], reverse = True)[:5]]\n",
    "        both = list(set(topk) & set(target))\n",
    "#         print(len(both))\n",
    "\n",
    "        precision.append(len(both) / len(topk))\n",
    "\n",
    "\n",
    "    print(np.mean(precision))\n",
    "    final.append(np.mean(precision))"
   ]
  },
  {
   "cell_type": "code",
   "execution_count": 66,
   "metadata": {},
   "outputs": [
    {
     "name": "stdout",
     "output_type": "stream",
     "text": [
      "[1.0, 0.9927674962773878, 0.9833652414379922, 0.9658796000850883, 0.9320144650074453, 0.865049989363965, 0.7365241437991916, 0.48810891299723463, 0.23731121038077002, 0.08959795788130184]\n"
     ]
    }
   ],
   "source": [
    "print(final)"
   ]
  },
  {
   "cell_type": "code",
   "execution_count": 2,
   "metadata": {},
   "outputs": [
    {
     "ename": "SyntaxError",
     "evalue": "illegal expression for augmented assignment (<ipython-input-2-b5e5c79f0a1a>, line 2)",
     "output_type": "error",
     "traceback": [
      "\u001b[0;36m  File \u001b[0;32m\"<ipython-input-2-b5e5c79f0a1a>\"\u001b[0;36m, line \u001b[0;32m2\u001b[0m\n\u001b[0;31m    a, b, c += 1,1, 1\u001b[0m\n\u001b[0m                     ^\u001b[0m\n\u001b[0;31mSyntaxError\u001b[0m\u001b[0;31m:\u001b[0m illegal expression for augmented assignment\n"
     ]
    }
   ],
   "source": [
    "a, b, c = 0, 0, 0\n",
    "\n",
    "print(a, b, c)"
   ]
  }
 ],
 "metadata": {
  "kernelspec": {
   "display_name": "Python 3",
   "language": "python",
   "name": "python3"
  },
  "language_info": {
   "codemirror_mode": {
    "name": "ipython",
    "version": 3
   },
   "file_extension": ".py",
   "mimetype": "text/x-python",
   "name": "python",
   "nbconvert_exporter": "python",
   "pygments_lexer": "ipython3",
   "version": "3.7.4"
  }
 },
 "nbformat": 4,
 "nbformat_minor": 4
}
