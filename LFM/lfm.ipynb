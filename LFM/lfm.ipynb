{
 "cells": [
  {
   "cell_type": "code",
   "execution_count": 2,
   "metadata": {},
   "outputs": [],
   "source": [
    "import numpy as np\n",
    "import pandas as pd\n",
    "import math\n",
    "import random"
   ]
  },
  {
   "cell_type": "code",
   "execution_count": 2,
   "metadata": {},
   "outputs": [
    {
     "name": "stdout",
     "output_type": "stream",
     "text": [
      "9775\n"
     ]
    }
   ],
   "source": [
    "data = pd.read_csv(\"~/Data/clean_rating4.csv\").drop([\"id\"], axis = 1)\n",
    "print(len(set(data.anime_id.tolist())))"
   ]
  },
  {
   "cell_type": "code",
   "execution_count": 4,
   "metadata": {},
   "outputs": [],
   "source": [
    "data = pd.read_csv('~/Data/clean_rating4.csv').drop([\"id\"], axis = 1)\n",
    "\n",
    "idx_to_user = list(set(data.user_id))\n",
    "idx_to_item = list(set(data.anime_id))\n",
    "\n",
    "user_to_idx = {user: idx for idx, user in enumerate(idx_to_user)}\n",
    "item_to_idx = {item: idx for idx, item in enumerate(idx_to_item)}"
   ]
  },
  {
   "cell_type": "code",
   "execution_count": 12,
   "metadata": {},
   "outputs": [
    {
     "name": "stdout",
     "output_type": "stream",
     "text": [
      "[[0.00837757 0.07145481 0.05360349 ... 0.06733769 0.06129742 0.07747173]\n",
      " [0.00456755 0.04984179 0.05882774 ... 0.09882802 0.08714208 0.06718382]\n",
      " [0.04382356 0.08646178 0.09176005 ... 0.07711914 0.03064835 0.08595886]\n",
      " ...\n",
      " [0.08032087 0.08022453 0.04225595 ... 0.01407782 0.00485343 0.01694809]\n",
      " [0.07562786 0.08026737 0.06079744 ... 0.0477532  0.05579164 0.08609135]\n",
      " [0.00103994 0.05371762 0.09992921 ... 0.06650408 0.00012493 0.04377633]]\n"
     ]
    }
   ],
   "source": [
    "# ratings = data[data.rating > 0].rating.values.tolist()\n",
    "# data = data[data.rating > 0].values\n",
    "\n",
    "F, alpha, lam_bda, batch_size = 100, 0.02, 0.01, 512000\n",
    "num_epochs, k = 30, 1 / math.sqrt(F)\n",
    "\n",
    "P = np.array([[random.random() * k for _ in range(F)] for _ in range(len(idx_to_user))])\n",
    "Q = np.array([[random.random() * k for _ in range(len(idx_to_item))] for _ in range(F)])\n",
    "print(P)"
   ]
  },
  {
   "cell_type": "code",
   "execution_count": 6,
   "metadata": {},
   "outputs": [],
   "source": [
    "def sigmoid(x):\n",
    "#     print(x)\n",
    "    return 1.0 / (1 + math.exp(-x))"
   ]
  },
  {
   "cell_type": "code",
   "execution_count": 13,
   "metadata": {},
   "outputs": [],
   "source": [
    "def train(train_data, alpha, lam_bda):\n",
    "    index = [i for i in range(train_data.shape[0])]\n",
    "    for epoch in range(num_epochs):\n",
    "        sample = random.sample(index, batch_size)\n",
    "        loss = 0\n",
    "        for i in range(batch_size):\n",
    "            user = user_to_idx[train_data[sample[i], 0]]\n",
    "            item = item_to_idx[train_data[sample[i], 1]]\n",
    "            rui = train_data[sample[i], 2]\n",
    "\n",
    "            eui = rui - sigmoid(P[user, :].dot(Q[:, item]))\n",
    "            loss += eui\n",
    "            for f in range(F):\n",
    "                P[user, f] += alpha * (eui * Q[f, item] - lam_bda * P[user, f])\n",
    "                Q[f, item] += alpha * (eui * P[user, f] - lam_bda * Q[f, item])\n",
    "\n",
    "        alpha *= 0.9\n",
    "        print(epoch + 1, loss / batch_size)"
   ]
  },
  {
   "cell_type": "code",
   "execution_count": 8,
   "metadata": {},
   "outputs": [],
   "source": [
    "def get_hot():\n",
    "    animes = pd.read_csv(\"~/Data/anime.csv\")\n",
    "    animes = animes[animes[\"anime_id\"].isin(idx_to_item)].loc[:, [\"anime_id\", \"rating\", \"members\"]].fillna(0)\n",
    "\n",
    "    scalar = lambda x: (x - np.min(x)) / (np.max(x) - np.min(x))\n",
    "    animes[\"rating_norm\"] = animes[[\"rating\"]].apply(scalar)\n",
    "    animes[\"members_norm\"] = animes[[\"members\"]].apply(scalar)\n",
    "    animes[\"weight\"] = 0.6 * animes[\"rating_norm\"] + 0.4 * animes[\"members_norm\"]\n",
    "    animes = animes.sort_values(by = \"weight\", ascending = False)\n",
    "    \n",
    "    return animes.anime_id.tolist()"
   ]
  },
  {
   "cell_type": "code",
   "execution_count": 9,
   "metadata": {},
   "outputs": [],
   "source": [
    "def negative_sample():\n",
    "    sample_num = 100\n",
    "    hot_items, neg_sample = get_hot(), []\n",
    "    data = pd.read_csv(\"~/Data/clean_rating4.csv\")\n",
    "    grouped = data.groupby([\"user_id\"])\n",
    "    for gp in grouped.groups:\n",
    "        p, num = grouped.get_group(gp).anime_id.tolist(), 0\n",
    "        for item in hot_items:\n",
    "            if item not in p: \n",
    "                neg_sample.append([gp, item, 0])\n",
    "                num += 1\n",
    "            if num == sample_num:\n",
    "                break\n",
    "\n",
    "    return np.array(neg_sample)"
   ]
  },
  {
   "cell_type": "code",
   "execution_count": 10,
   "metadata": {},
   "outputs": [
    {
     "name": "stdout",
     "output_type": "stream",
     "text": [
      "[[    1    24     1]\n",
      " [    1    30     1]\n",
      " [    1    63     1]\n",
      " ...\n",
      " [ 4701 17895     0]\n",
      " [ 4701 26243     0]\n",
      " [ 4701 25013     0]]\n"
     ]
    }
   ],
   "source": [
    "train_data = np.array(pd.read_csv(\"~/Thesis/Data/train.csv\"))\n",
    "train_data[:, -1] = np.array([1 for _ in range(train_data.shape[0])])\n",
    "train_data = np.concatenate((train_data, negative_sample()))\n",
    "print(train_data)\n",
    "# from sklearn.model_selection import train_test_split\n",
    "# train_data, test_data = train_test_split(data, test_size = 0.3)\n",
    "# train_ratio = 0.9\n",
    "# train_data = data[:int(len(data) * train_ratio)]\n",
    "# test_data = data[int(len(data) * train_ratio):]\n",
    "# print(train_data.shape, test_data.shape)"
   ]
  },
  {
   "cell_type": "code",
   "execution_count": 14,
   "metadata": {},
   "outputs": [
    {
     "name": "stdout",
     "output_type": "stream",
     "text": [
      "1 0.1805125371192668\n",
      "2 0.10802295006503719\n",
      "3 0.07061943493590289\n",
      "4 0.0527743867225866\n",
      "5 0.043354288663434284\n",
      "6 0.037106950795542284\n",
      "7 0.0331560186651994\n",
      "8 0.030424067390972188\n",
      "9 0.028197914545233203\n",
      "10 0.02707026362977587\n",
      "11 0.025151407649559383\n",
      "12 0.024520688793599286\n",
      "13 0.02320414520207114\n",
      "14 0.022549380207388593\n",
      "15 0.022576024754730556\n",
      "16 0.022046508344297885\n",
      "17 0.02100827288890135\n",
      "18 0.020683177142277732\n",
      "19 0.0207888087263882\n",
      "20 0.020233985930775616\n",
      "21 0.019852637419754543\n",
      "22 0.019735136642961667\n",
      "23 0.01959093455686906\n",
      "24 0.01925241058823292\n",
      "25 0.01939202481947437\n",
      "26 0.01925370317180438\n",
      "27 0.018931980016117202\n",
      "28 0.019010014452250878\n",
      "29 0.018774330907021106\n",
      "30 0.018809070428013556\n"
     ]
    }
   ],
   "source": [
    "train(train_data, alpha, lam_bda)"
   ]
  },
  {
   "cell_type": "code",
   "execution_count": 11,
   "metadata": {},
   "outputs": [],
   "source": [
    "def ndcg(k, ranklist, testlist):\n",
    "    if not testlist: return 0\n",
    "    idcg_k, dcg_k = 0, 0\n",
    "    if len(testlist) < k:\n",
    "        k = len(testlist)\n",
    "    for i in range(k):\n",
    "        idcg_k += 1 / math.log(i + 2, 2)\n",
    "        \n",
    "    s = set(testlist)\n",
    "    hits = [idx for idx, val in enumerate(ranklist) if val in s]\n",
    "    count = len(hits)\n",
    "    \n",
    "    for i in range(count):\n",
    "        dcg_k += 1 / math.log(hits[i] + 2, 2)\n",
    "        \n",
    "    return float(dcg_k / idcg_k)"
   ]
  },
  {
   "cell_type": "code",
   "execution_count": 15,
   "metadata": {},
   "outputs": [],
   "source": [
    "def NDCG(ratings):\n",
    "    idcg, dcg = 0, 0\n",
    "    for idx, r in enumerate(ratings):\n",
    "        dcg += (2 ** r - 1) / math.log(idx + 2, 2)\n",
    "        \n",
    "#     print(sorted(ratings, reverse = True))\n",
    "    for idx, r in enumerate(sorted(ratings, reverse = True)):\n",
    "        idcg += (2 ** r - 1) / math.log(idx + 2, 2)\n",
    "        \n",
    "    return float(dcg / idcg)"
   ]
  },
  {
   "cell_type": "code",
   "execution_count": 17,
   "metadata": {},
   "outputs": [
    {
     "name": "stdout",
     "output_type": "stream",
     "text": [
      "0.8401839398098622\n"
     ]
    }
   ],
   "source": [
    "df = pd.read_csv(\"~/Thesis/Data/test.csv\")\n",
    "test_users = list(set(df.user))\n",
    "# df = pd.read_csv(\"~/Data/clean_rating4.csv\").drop([\"id\"], axis = 1)\n",
    "user_dict, final, precision = {}, [], []\n",
    "recall, f1, ndcg_k = [], [], []\n",
    "predict = P.dot(Q)\n",
    "for k in range(9, 10):\n",
    "    ndcg_k, precision = [], []\n",
    "    for user in test_users:\n",
    "        dic = {}\n",
    "        test_items = [item_to_idx[i] for i in df[df.user == user].anime.tolist()]\n",
    "        target = [item_to_idx[data] for data in df[(df.user == user) & (df.rating > k)].anime.tolist()]\n",
    "        \n",
    "        user_idx = user_to_idx[user]\n",
    "        pred = predict[user_idx, :]\n",
    "        \n",
    "        for item in test_items:\n",
    "            dic[item] = pred[item]\n",
    "        \n",
    "#         print(set(dic.keys()) == set(target))\n",
    "        topk = [i[0] for i in sorted(dic.items(), key = lambda x: x[1], reverse = True)[:5]]\n",
    "        idx = [idx_to_item[d] for d in topk]\n",
    "        rates = [df[(df.user == user) & (df.anime == st)].rating.tolist()[0] for st in idx]\n",
    "#         both = list(set(topk) & set(target))\n",
    "#         print(len(both))\n",
    "\n",
    "        precision.append(NDCG(rates))\n",
    "\n",
    "\n",
    "    print(np.mean(precision))\n",
    "    final.append(np.mean(precision))"
   ]
  },
  {
   "cell_type": "code",
   "execution_count": 66,
   "metadata": {},
   "outputs": [
    {
     "name": "stdout",
     "output_type": "stream",
     "text": [
      "[1.0, 0.9927674962773878, 0.9833652414379922, 0.9658796000850883, 0.9320144650074453, 0.865049989363965, 0.7365241437991916, 0.48810891299723463, 0.23731121038077002, 0.08959795788130184]\n"
     ]
    }
   ],
   "source": [
    "print(final)"
   ]
  },
  {
   "cell_type": "code",
   "execution_count": 2,
   "metadata": {},
   "outputs": [
    {
     "ename": "SyntaxError",
     "evalue": "illegal expression for augmented assignment (<ipython-input-2-b5e5c79f0a1a>, line 2)",
     "output_type": "error",
     "traceback": [
      "\u001b[0;36m  File \u001b[0;32m\"<ipython-input-2-b5e5c79f0a1a>\"\u001b[0;36m, line \u001b[0;32m2\u001b[0m\n\u001b[0;31m    a, b, c += 1,1, 1\u001b[0m\n\u001b[0m                     ^\u001b[0m\n\u001b[0;31mSyntaxError\u001b[0m\u001b[0;31m:\u001b[0m illegal expression for augmented assignment\n"
     ]
    }
   ],
   "source": [
    "a, b, c = 0, 0, 0\n",
    "\n",
    "print(a, b, c)"
   ]
  }
 ],
 "metadata": {
  "kernelspec": {
   "display_name": "Python 3",
   "language": "python",
   "name": "python3"
  },
  "language_info": {
   "codemirror_mode": {
    "name": "ipython",
    "version": 3
   },
   "file_extension": ".py",
   "mimetype": "text/x-python",
   "name": "python",
   "nbconvert_exporter": "python",
   "pygments_lexer": "ipython3",
   "version": "3.7.4"
  }
 },
 "nbformat": 4,
 "nbformat_minor": 4
}
