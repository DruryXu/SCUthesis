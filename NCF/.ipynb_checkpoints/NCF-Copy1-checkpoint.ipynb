{
 "cells": [
  {
   "cell_type": "code",
   "execution_count": 11,
   "metadata": {
    "colab": {},
    "colab_type": "code",
    "id": "-oKuADFDpu37"
   },
   "outputs": [],
   "source": [
    "import torch\n",
    "import torch.nn as nn\n",
    "import pandas as pd\n",
    "import numpy as np\n",
    "import torch.utils.data as Data\n",
    "import matplotlib.pyplot as plt\n",
    "import random"
   ]
  },
  {
   "cell_type": "code",
   "execution_count": 2,
   "metadata": {
    "colab": {
     "base_uri": "https://localhost:8080/",
     "height": 71
    },
    "colab_type": "code",
    "executionInfo": {
     "elapsed": 9188,
     "status": "ok",
     "timestamp": 1582782823798,
     "user": {
      "displayName": "king jeff",
      "photoUrl": "",
      "userId": "00861212005360345850"
     },
     "user_tz": -480
    },
    "id": "EwPQ5D3MqnsE",
    "outputId": "3c9398ee-ec38-4bd1-c2b1-893212844791"
   },
   "outputs": [],
   "source": [
    "ratings = pd.read_csv('~/Data/clean_rating3.csv')\n",
    "\n",
    "idx_to_animes = list(set(ratings['anime_id'].tolist()))\n",
    "idx_to_users = list(set(ratings['user_id'].tolist()))\n",
    "anime_to_idx = {anime: idx for idx, anime in enumerate(idx_to_animes)}\n",
    "user_to_idx = {user: idx for idx, user in enumerate(idx_to_users)}\n",
    "num_users, num_animes = len(idx_to_users), len(idx_to_animes)\n",
    "\n",
    "# train_ratio = 0.9\n",
    "# all_users = list(set(ratings.user_id))\n",
    "# train_sample = random.sample(all_users, int(num_users * train_ratio))\n",
    "# train_data = ratings[ratings.user_id.isin(train_sample)]\n",
    "# test_data = list(set(all_users) - set(train_sample))\n",
    "# print(train_data.shape)\n",
    "\n",
    "data_ps = np.array(ratings.values.tolist())\n",
    "\n",
    "from collections import defaultdict\n",
    "user_item_dic, data, labels = defaultdict(list), [], []\n",
    "for d in data_ps:\n",
    "    user_item_dic[user_to_idx[d[0]]].append(anime_to_idx[d[1]])\n",
    "    data.append([user_to_idx[d[0]], anime_to_idx[d[1]]])\n",
    "    if d[2] != -1:\n",
    "        labels.append(d[2] / 10)\n",
    "    else:\n",
    "        labels.append(0.5)"
   ]
  },
  {
   "cell_type": "code",
   "execution_count": 3,
   "metadata": {},
   "outputs": [],
   "source": [
    "def get_hot_items():\n",
    "    animes = pd.read_csv(\"~/Data/anime.csv\")\n",
    "    animes = animes[animes[\"anime_id\"].isin(idx_to_animes)].loc[:, [\"anime_id\", \"rating\", \"members\"]].fillna(0)\n",
    "\n",
    "    scalar = lambda x: (x - np.min(x)) / (np.max(x) - np.min(x))\n",
    "    animes[\"rating_norm\"] = animes[[\"rating\"]].apply(scalar)\n",
    "    animes[\"members_norm\"] = animes[[\"members\"]].apply(scalar)\n",
    "    animes[\"weight\"] = 0.6 * animes[\"rating_norm\"] + 0.4 * animes[\"members_norm\"]\n",
    "    animes = animes.sort_values(by = \"weight\", ascending = False)\n",
    "    \n",
    "    return [anime_to_idx[i] for i in animes.anime_id.tolist()]"
   ]
  },
  {
   "cell_type": "code",
   "execution_count": 4,
   "metadata": {
    "colab": {},
    "colab_type": "code",
    "id": "7k-YI1ajMThk"
   },
   "outputs": [],
   "source": [
    "class NCFDataset(Data.Dataset):\n",
    "    def __init__(self, data, labels, hot_items, user_item_dic):\n",
    "        super(NCFDataset, self).__init__()\n",
    "        self.data = data\n",
    "        self.hot_items = hot_items\n",
    "        self.labels = labels\n",
    "        self.dic = user_item_dic\n",
    "        \n",
    "        \n",
    "    def select_ng(self):\n",
    "        ng_sample, users, n = [], set(list(zip(*self.data))[0]), 0\n",
    "#         print(len(users))\n",
    "        for user in users:\n",
    "            for item in self.hot_items:\n",
    "                if item not in self.dic[user]:\n",
    "                    ng_sample.append([user, item])\n",
    "                    n += 1\n",
    "                if n == 10:\n",
    "                    break\n",
    "            n = 0\n",
    "        \n",
    "#         print(len(ng_sample))\n",
    "        self.data += ng_sample\n",
    "        self.labels += [0 for _ in range(len(ng_sample))]\n",
    "        \n",
    "    def __getitem__(self, idx):\n",
    "        user, item = self.data[idx][0], self.data[idx][1]\n",
    "        label = self.labels[idx]\n",
    "        \n",
    "        return user, item, label\n",
    "\n",
    "    def __len__(self):\n",
    "        return len(self.data)"
   ]
  },
  {
   "cell_type": "code",
   "execution_count": 5,
   "metadata": {},
   "outputs": [
    {
     "name": "stdout",
     "output_type": "stream",
     "text": [
      "tensor([3062, 1895, 2262,  ..., 1213, 1255, 2502]) tensor([2625, 7103, 6249,  ..., 7701,   43,  368])\n"
     ]
    }
   ],
   "source": [
    "batch_size = 5120\n",
    "dataset = NCFDataset(data, labels, get_hot_items(), user_item_dic)\n",
    "# dataset.select_ng()\n",
    "data_iter = Data.DataLoader(dataset, batch_size = batch_size, shuffle = True)\n",
    "for user, item, label in data_iter:\n",
    "    print(user, item)\n",
    "    break"
   ]
  },
  {
   "cell_type": "code",
   "execution_count": 6,
   "metadata": {
    "colab": {
     "base_uri": "https://localhost:8080/",
     "height": 341
    },
    "colab_type": "code",
    "executionInfo": {
     "elapsed": 879,
     "status": "ok",
     "timestamp": 1582783159809,
     "user": {
      "displayName": "king jeff",
      "photoUrl": "",
      "userId": "00861212005360345850"
     },
     "user_tz": -480
    },
    "id": "gApTtGldU-Cj",
    "outputId": "d5f04ed0-993d-484f-c25c-fbb3f27d0bf3"
   },
   "outputs": [],
   "source": [
    "class NCF(nn.Module):\n",
    "    def __init__(self, num_users, num_items, model, factor_num = 8, num_layers = 3,\n",
    "               MLP_model = None, GMF_model = None, alpha = 0.5, dropout = 0.5):\n",
    "        super(NCF, self).__init__()\n",
    "        self.MLP_model = MLP_model\n",
    "        self.GMF_model = GMF_model\n",
    "        self.alpha = alpha\n",
    "        self.dropout = dropout\n",
    "        self.user_embed_GMF = nn.Embedding(num_users, factor_num)\n",
    "        self.item_embed_GMF = nn.Embedding(num_items, factor_num)\n",
    "        self.user_embed_MLP = nn.Embedding(num_users, factor_num * (2 ** (num_layers - 1)))\n",
    "        self.item_embed_MLP = nn.Embedding(num_items, factor_num * (2 ** (num_layers - 1)))\n",
    "        self.sigmoid = nn.Sigmoid()\n",
    "\n",
    "        self.MLP = nn.Sequential(\n",
    "            nn.Dropout(p = self.dropout),\n",
    "            nn.Linear(factor_num * (2 ** num_layers), factor_num * (2 ** (num_layers - 1))),\n",
    "            nn.ReLU()\n",
    "        )\n",
    "        for layer in range(num_layers - 1, 0, -1):\n",
    "            self.MLP.add_module('dropout' + str(num_layers - layer), nn.Dropout(p = self.dropout))\n",
    "            self.MLP.add_module('linear' + str(num_layers - layer), nn.Linear(factor_num * (2 ** layer), factor_num * (2 ** (layer - 1))))\n",
    "            self.MLP.add_module('relu' + str(num_layers - layer), nn.ReLU())\n",
    "\n",
    "        self.model = model\n",
    "        if self.model in ['GMF', 'MLP']:\n",
    "            self.NeuMF = nn.Linear(factor_num, 1)\n",
    "        else:\n",
    "            self.NeuMF = nn.Linear(2 * factor_num, 1)\n",
    "\n",
    "        self.__init_weights__()\n",
    "\n",
    "    def __init_weights__(self):\n",
    "        if self.model in ['GMF', 'MLP']:\n",
    "            nn.init.normal_(self.user_embed_GMF.weight, std = 0.01)\n",
    "            nn.init.normal_(self.item_embed_GMF.weight, std = 0.01)\n",
    "            nn.init.normal_(self.user_embed_MLP.weight, std = 0.01)\n",
    "            nn.init.normal_(self.item_embed_MLP.weight, std = 0.01)\n",
    "\n",
    "            for layer in self.MLP:\n",
    "                if isinstance(layer, nn.Linear):\n",
    "                    nn.init.xavier_uniform_(layer.weight)\n",
    "#                   nn.init.normal_(layer.weight, std = 0.01)\n",
    "\n",
    "            nn.init.kaiming_uniform_(self.NeuMF.weight, a = 1, nonlinearity = 'sigmoid')\n",
    "#             nn.init.normal_(self.NeuMF.weight, std = 0.01)\n",
    "\n",
    "        elif self.GMF_model and self.MLP_model:\n",
    "            self.user_embed_GMF.weight.data.copy_(self.GMF_model.user_embed_GMF.weight)\n",
    "            self.item_embed_GMF.weight.data.copy_(self.GMF_model.item_embed_GMF.weight)\n",
    "            self.user_embed_MLP.weight.data.copy_(self.MLP_model.user_embed_MLP.weight)\n",
    "            self.item_embed_MLP.weight.data.copy_(self.MLP_model.item_embed_MLP.weight)\n",
    "\n",
    "            for (m1, m2) in zip(self.MLP, self.MLP_model.MLP):\n",
    "                if isinstance(m1, nn.Linear) and isinstance(m2, nn.Linear):\n",
    "                    m1.weight.data.copy_(m2.weight)\n",
    "                    m1.bias.data.copy_(m2.bias)\n",
    "\n",
    "            NeuMF_weight = torch.cat((self.alpha * self.GMF_model.NeuMF.weight, (1 - self.alpha) * self.MLP_model.NeuMF.weight), 1)\n",
    "            NeuMF_bias = self.GMF_model.NeuMF.bias + self.MLP_model.NeuMF.bias\n",
    "\n",
    "            self.NeuMF.weight.data.copy_(NeuMF_weight)\n",
    "            self.NeuMF.bias.data.copy_(NeuMF_bias)\n",
    "            \n",
    "    def forward(self, user, item):\n",
    "        if self.model is 'GMF' or 'NCF':\n",
    "            user_embed_GMF = self.user_embed_GMF(user)\n",
    "            item_embed_GMF = self.item_embed_GMF(item)\n",
    "            \n",
    "#             print(user_embed_GMF.device, item_embed_GMF.decive)\n",
    "            GMF_output = user_embed_GMF * item_embed_GMF\n",
    "\n",
    "        if self.model is 'MLP' or 'NCF':\n",
    "            user_embed_MLP = self.user_embed_MLP(user)\n",
    "            item_embed_MLP = self.item_embed_MLP(item)\n",
    "\n",
    "            MLP_input = torch.cat((user_embed_MLP, item_embed_MLP), 1)\n",
    "            MLP_output = self.MLP(MLP_input)\n",
    "\n",
    "        if self.model is 'NCF':\n",
    "            output = self.NeuMF(torch.cat((MLP_output, GMF_output), 1))\n",
    "        elif self.model is 'MLP':\n",
    "            output = self.NeuMF(MLP_output)\n",
    "        elif self.model is 'GMF':\n",
    "            output = self.NeuMF(GMF_output)\n",
    "            \n",
    "        return self.sigmoid(output)"
   ]
  },
  {
   "cell_type": "code",
   "execution_count": 9,
   "metadata": {
    "colab": {},
    "colab_type": "code",
    "id": "yMMtvfYqjBuV"
   },
   "outputs": [],
   "source": [
    "MLP_Loss, GMF_Loss, NCF_Loss = [], [], [] \n",
    "def train(net, num_epochs, lr, train_type = 'NCF'):\n",
    "    print(train_type)\n",
    "    device = torch.device('cuda' if torch.cuda.is_available() else 'cpu')\n",
    "#     device = torch.device('cpu')\n",
    "    print('train on', device)\n",
    "    net = net.to(device)\n",
    "    optimizer = torch.optim.Adam(net.parameters(), lr = lr)\n",
    "    loss = nn.MSELoss()\n",
    "    for epoch in range(num_epochs):\n",
    "        l_sum,n = 0, 0\n",
    "        for user, item, label in data_iter:\n",
    "            user = user.to(device)\n",
    "            item = item.to(device)\n",
    "            label = label.to(device)\n",
    "            pred = net(user, item)\n",
    "            l = loss(pred.view(label.shape), label.float())\n",
    "\n",
    "            optimizer.zero_grad()\n",
    "            l.backward()\n",
    "            optimizer.step()\n",
    "            l_sum += l.cpu().item()\n",
    "            n += 1\n",
    "            \n",
    "        if train_type == \"MLP\":\n",
    "            MLP_Loss.append(l_sum / n)\n",
    "        elif train_type == \"GMF\":\n",
    "            GMF_Loss.append(l_sum / n)\n",
    "        elif train_type == \"NCF\":\n",
    "            NCF_Loss.append(l_sum / n)\n",
    "            \n",
    "        print(epoch + 1, l_sum / n)"
   ]
  },
  {
   "cell_type": "code",
   "execution_count": 10,
   "metadata": {
    "colab": {
     "base_uri": "https://localhost:8080/",
     "height": 665
    },
    "colab_type": "code",
    "executionInfo": {
     "elapsed": 1626318,
     "status": "ok",
     "timestamp": 1582784794369,
     "user": {
      "displayName": "king jeff",
      "photoUrl": "",
      "userId": "00861212005360345850"
     },
     "user_tz": -480
    },
    "id": "yh7mILPNMtMf",
    "outputId": "46c39d07-b22b-4946-e0d3-ff034778924a"
   },
   "outputs": [
    {
     "name": "stdout",
     "output_type": "stream",
     "text": [
      "MLP\n",
      "train on cuda\n",
      "1 0.06789686378691896\n",
      "2 0.02925719694125468\n",
      "3 0.022706579355313287\n",
      "4 0.020695380155186252\n",
      "5 0.019672665309169172\n",
      "6 0.01904538972406066\n",
      "7 0.018540430624885012\n",
      "8 0.018072231206014984\n",
      "9 0.017709011614947655\n",
      "10 0.017388225288416114\n",
      "11 0.01712755694015005\n",
      "12 0.016915661453477067\n",
      "13 0.016754728238248404\n",
      "14 0.016620849606644766\n",
      "15 0.01652278969265833\n",
      "16 0.016427897412338136\n",
      "17 0.016362846680972355\n",
      "18 0.016280676495226278\n",
      "19 0.016221899456996265\n",
      "20 0.01616760966867603\n",
      "21 0.016120511651960167\n",
      "22 0.016059109217448214\n",
      "23 0.016019183712668108\n",
      "24 0.015989748927585732\n",
      "25 0.015943673274851924\n",
      "26 0.015909931534041896\n",
      "27 0.015887265802909997\n",
      "28 0.01585809738225166\n",
      "29 0.01584826512611728\n",
      "30 0.015819732868677997\n",
      "GMF\n",
      "train on cuda\n",
      "1 0.10257256582017503\n",
      "2 0.09585429560269741\n",
      "3 0.08580256136705806\n",
      "4 0.07270059413862544\n",
      "5 0.05864026145824534\n",
      "6 0.04576867284298469\n",
      "7 0.0356140946578769\n",
      "8 0.028572576289079575\n",
      "9 0.024143186177869244\n",
      "10 0.021502001815481692\n",
      "11 0.019931843866148005\n",
      "12 0.018958077093722017\n",
      "13 0.01831418475666583\n",
      "14 0.017856201769631957\n",
      "15 0.017510650786375894\n",
      "16 0.017241565095338862\n",
      "17 0.017024252703516162\n",
      "18 0.016845574507913314\n",
      "19 0.016698422796497938\n",
      "20 0.016569119752703386\n",
      "21 0.016459330902013427\n",
      "22 0.016362052723337746\n",
      "23 0.016277361379537492\n",
      "24 0.01619973914414052\n",
      "25 0.016133506243707196\n",
      "26 0.016074974698407234\n",
      "27 0.016021413965023247\n",
      "28 0.01597473021826931\n",
      "29 0.015931797209740604\n",
      "30 0.015895943249890347\n",
      "NCF\n",
      "train on cuda\n",
      "1 0.032338578665164396\n",
      "2 0.01915111191669442\n",
      "3 0.01751718832134674\n",
      "4 0.016828922281415915\n",
      "5 0.01647713105040078\n",
      "6 0.01622688975884162\n",
      "7 0.016048794139431537\n",
      "8 0.01590759940774367\n",
      "9 0.01577820113056214\n",
      "10 0.01564925488816455\n",
      "11 0.015563076528541695\n",
      "12 0.015467919662150722\n",
      "13 0.015381732242177785\n",
      "14 0.01529439219436043\n",
      "15 0.015230616184555932\n",
      "16 0.015172460657147646\n",
      "17 0.015118365599537395\n",
      "18 0.015061523008754449\n",
      "19 0.015016938463083692\n",
      "20 0.014976720640201443\n",
      "21 0.014951694002231094\n",
      "22 0.01491283458836426\n",
      "23 0.01489245103339091\n",
      "24 0.014860891515006688\n",
      "25 0.014836358564348673\n",
      "26 0.014820144690622558\n",
      "27 0.014801713681181536\n",
      "28 0.014783291187277166\n",
      "29 0.014764836828982988\n",
      "30 0.014754303800924856\n"
     ]
    }
   ],
   "source": [
    "MLP_net = NCF(num_users, num_animes, model = 'MLP')\n",
    "train(MLP_net, 30, lr = 0.0001, train_type = 'MLP')\n",
    "\n",
    "GMF_net = NCF(num_users, num_animes, model = 'GMF')\n",
    "train(GMF_net, 30, lr = 0.0001, train_type = 'GMF')\n",
    "\n",
    "NCF_net = NCF(num_users, num_animes, model = 'NCF', GMF_model = GMF_net, MLP_model = MLP_net)\n",
    "train(NCF_net, 30, lr = 0.0001)"
   ]
  },
  {
   "cell_type": "code",
   "execution_count": 19,
   "metadata": {},
   "outputs": [
    {
     "data": {
      "image/png": "[encoded data removed]",
      "text/plain": [
       "<Figure size 432x288 with 1 Axes>"
      ]
     },
     "metadata": {
      "needs_background": "light"
     },
     "output_type": "display_data"
    }
   ],
   "source": [
    "x_data = [n for n in range(1, 31)]\n",
    "mlp, = plt.plot(x_data, MLP_Loss, color = 'blue')\n",
    "gmf, = plt.plot(x_data, GMF_Loss, color = 'red')\n",
    "ncf, = plt.plot(x_data, NCF_Loss, color = 'black')\n",
    "plt.legend([mlp, gmf, ncf], ['MLP', 'GMF', 'NCF'])\n",
    "plt.savefig(\"loss.jpg\")\n",
    "plt.show()"
   ]
  },
  {
   "cell_type": "code",
   "execution_count": 138,
   "metadata": {
    "colab": {},
    "colab_type": "code",
    "id": "IMTUjG-KlpWT"
   },
   "outputs": [],
   "source": [
    "def metrics(net, test_data):\n",
    "    recall, precise = [], []\n",
    "    for user in test_data:\n",
    "        all_items = torch.LongTensor([i for i in range(num_animes)]).cuda()\n",
    "        test_user = torch.LongTensor([user for i in range(num_animes)]).cuda()\n",
    "        pred = net(test_user, all_items)\n",
    "        _, idx = torch.topk(pred, k = 100, dim = 0)\n",
    "        \n",
    "        target = [anime_to_idx[i] for i in ratings[ratings.user_id == user].anime_id.tolist()]\n",
    "        idx = idx.cpu().numpy().flatten()\n",
    "        overlap = list(set(target) & set(idx))\n",
    "        recall.append(len(overlap) / len(target))\n",
    "        precise.append(len(overlap) / len(idx))\n",
    "        \n",
    "    print(np.mean(recall), np.mean(precise))"
   ]
  },
  {
   "cell_type": "code",
   "execution_count": 12,
   "metadata": {},
   "outputs": [],
   "source": [
    "torch.save(NCF_net.state_dict(), \"NCF1.pt\")\n",
    "torch.save(GMF_net.state_dict(), \"GMF1.pt\")\n",
    "torch.save(MLP_net.state_dict(), \"MLP1.pt\")"
   ]
  },
  {
   "cell_type": "code",
   "execution_count": 139,
   "metadata": {},
   "outputs": [
    {
     "name": "stdout",
     "output_type": "stream",
     "text": [
      "0.03497713525106813 0.1664543524416136\n"
     ]
    }
   ],
   "source": [
    "model = NCF(num_users, num_animes, model = 'NCF', GMF_model = GMF_net, MLP_model = MLP_net).cuda()\n",
    "model.load_state_dict(torch.load(\"NCF.pt\"))\n",
    "metrics(model, test_data)"
   ]
  }
 ],
 "metadata": {
  "accelerator": "GPU",
  "colab": {
   "authorship_tag": "ABX9TyMIrs4udGF4i0DSXmyPQxBf",
   "collapsed_sections": [],
   "name": "NCF.ipynb",
   "provenance": []
  },
  "kernelspec": {
   "display_name": "Python 3",
   "language": "python",
   "name": "python3"
  },
  "language_info": {
   "codemirror_mode": {
    "name": "ipython",
    "version": 3
   },
   "file_extension": ".py",
   "mimetype": "text/x-python",
   "name": "python",
   "nbconvert_exporter": "python",
   "pygments_lexer": "ipython3",
   "version": "3.7.4"
  }
 },
 "nbformat": 4,
 "nbformat_minor": 4
}
