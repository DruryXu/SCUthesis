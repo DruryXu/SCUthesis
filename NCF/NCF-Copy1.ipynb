{
 "cells": [
  {
   "cell_type": "code",
   "execution_count": 1,
   "metadata": {
    "colab": {},
    "colab_type": "code",
    "id": "-oKuADFDpu37"
   },
   "outputs": [],
   "source": [
    "import torch\n",
    "import torch.nn as nn\n",
    "import pandas as pd\n",
    "import numpy as np\n",
    "import torch.utils.data as Data\n",
    "import matplotlib.pyplot as plt\n",
    "import random"
   ]
  },
  {
   "cell_type": "code",
   "execution_count": 60,
   "metadata": {
    "colab": {
     "base_uri": "https://localhost:8080/",
     "height": 71
    },
    "colab_type": "code",
    "executionInfo": {
     "elapsed": 9188,
     "status": "ok",
     "timestamp": 1582782823798,
     "user": {
      "displayName": "king jeff",
      "photoUrl": "",
      "userId": "00861212005360345850"
     },
     "user_tz": -480
    },
    "id": "EwPQ5D3MqnsE",
    "outputId": "3c9398ee-ec38-4bd1-c2b1-893212844791"
   },
   "outputs": [
    {
     "name": "stdout",
     "output_type": "stream",
     "text": [
      "(2084856, 3) (231651, 3)\n"
     ]
    }
   ],
   "source": [
    "ratings = pd.read_csv('~/Data/clean_rating4.csv')\n",
    "\n",
    "idx_to_animes = list(set(ratings['anime_id'].tolist()))\n",
    "idx_to_users = list(set(ratings['user_id'].tolist()))\n",
    "anime_to_idx = {anime: idx for idx, anime in enumerate(idx_to_animes)}\n",
    "user_to_idx = {user: idx for idx, user in enumerate(idx_to_users)}\n",
    "num_users, num_animes = len(idx_to_users), len(idx_to_animes)\n",
    "\n",
    "train_ratio = 0.9\n",
    "# all_users = list(set(ratings.user_id))\n",
    "# train_sample = random.sample(all_users, int(num_users * train_ratio))\n",
    "# train_data = ratings[ratings.user_id.isin(train_sample)]\n",
    "# test_data = list(set(all_users) - set(train_sample))\n",
    "# print(train_data.shape)\n",
    "\n",
    "data_ps = np.array(ratings.values.tolist())\n",
    "train_data = data_ps[:int(train_ratio * len(data_ps))]\n",
    "test_data = data_ps[int(train_ratio * len(data_ps)):]\n",
    "print(train_data.shape, test_data.shape)\n",
    "\n",
    "from collections import defaultdict\n",
    "user_item_dic, data, labels = defaultdict(list), [], []\n",
    "for d in train_data:\n",
    "    user_item_dic[user_to_idx[d[0]]].append(anime_to_idx[d[1]])\n",
    "    data.append([user_to_idx[d[0]], anime_to_idx[d[1]]])\n",
    "    if d[2] != -1:\n",
    "        labels.append(d[2] / 10)\n",
    "    else:\n",
    "        labels.append(fill_rating(anime_to_idx[d[1]]))"
   ]
  },
  {
   "cell_type": "code",
   "execution_count": 61,
   "metadata": {},
   "outputs": [],
   "source": [
    "def get_hot_items():\n",
    "    animes = pd.read_csv(\"~/Data/anime.csv\")\n",
    "    animes = animes[animes[\"anime_id\"].isin(idx_to_animes)].loc[:, [\"anime_id\", \"rating\", \"members\"]].fillna(0)\n",
    "\n",
    "    scalar = lambda x: (x - np.min(x)) / (np.max(x) - np.min(x))\n",
    "    animes[\"rating_norm\"] = animes[[\"rating\"]].apply(scalar)\n",
    "    animes[\"members_norm\"] = animes[[\"members\"]].apply(scalar)\n",
    "    animes[\"weight\"] = 0.6 * animes[\"rating_norm\"] + 0.4 * animes[\"members_norm\"]\n",
    "    animes = animes.sort_values(by = \"weight\", ascending = False)\n",
    "    \n",
    "    return {anime_to_idx[i[0]]: i[1] for i in animes[[\"anime_id\", \"weight\"]].values}"
   ]
  },
  {
   "cell_type": "code",
   "execution_count": 59,
   "metadata": {},
   "outputs": [],
   "source": [
    "hot_items = get_hot_items()\n",
    "keys, animes = hot_items.keys(), [i for i in range(num_animes)]\n",
    "def fill_rating(anime_id):\n",
    "    return hot_items[anime_id]"
   ]
  },
  {
   "cell_type": "code",
   "execution_count": 62,
   "metadata": {
    "colab": {},
    "colab_type": "code",
    "id": "7k-YI1ajMThk"
   },
   "outputs": [],
   "source": [
    "class NCFDataset(Data.Dataset):\n",
    "    def __init__(self, data_ps, users, labels):\n",
    "        super(NCFDataset, self).__init__()\n",
    "        self.data = data_ps\n",
    "        self.users = users\n",
    "        self.label = labels\n",
    "\n",
    "    def __getitem__(self, idx):\n",
    "        user = self.data[idx][0]\n",
    "        item = self.data[idx][1]\n",
    "        label = self.label[idx]\n",
    "\n",
    "        return user, item, label\n",
    "\n",
    "    def __len__(self):\n",
    "#         return self.num_ng * len(self.users) + len(self.data_ps)\n",
    "        return len(self.data)"
   ]
  },
  {
   "cell_type": "code",
   "execution_count": 63,
   "metadata": {},
   "outputs": [
    {
     "name": "stdout",
     "output_type": "stream",
     "text": [
      "torch.Size([5120])\n"
     ]
    }
   ],
   "source": [
    "batch_size = 5120\n",
    "users = [user_to_idx[i] for i in list(set(train_data[:, 0]))]\n",
    "dataset = NCFDataset(data, users, labels)\n",
    "\n",
    "data_iter = Data.DataLoader(dataset, batch_size = batch_size, shuffle = True)\n",
    "for user, item, label in data_iter:\n",
    "    print(label.shape)\n",
    "    break"
   ]
  },
  {
   "cell_type": "code",
   "execution_count": 64,
   "metadata": {
    "colab": {
     "base_uri": "https://localhost:8080/",
     "height": 341
    },
    "colab_type": "code",
    "executionInfo": {
     "elapsed": 879,
     "status": "ok",
     "timestamp": 1582783159809,
     "user": {
      "displayName": "king jeff",
      "photoUrl": "",
      "userId": "00861212005360345850"
     },
     "user_tz": -480
    },
    "id": "gApTtGldU-Cj",
    "outputId": "d5f04ed0-993d-484f-c25c-fbb3f27d0bf3"
   },
   "outputs": [],
   "source": [
    "class NCF(nn.Module):\n",
    "    def __init__(self, num_users, num_items, model, factor_num = 8, num_layers = 3,\n",
    "               MLP_model = None, GMF_model = None, alpha = 0.5, dropout = 0.5):\n",
    "        super(NCF, self).__init__()\n",
    "        self.MLP_model = MLP_model\n",
    "        self.GMF_model = GMF_model\n",
    "        self.alpha = alpha\n",
    "        self.dropout = dropout\n",
    "        self.user_embed_GMF = nn.Embedding(num_users, factor_num)\n",
    "        self.item_embed_GMF = nn.Embedding(num_items, factor_num)\n",
    "        self.user_embed_MLP = nn.Embedding(num_users, factor_num * (2 ** (num_layers - 1)))\n",
    "        self.item_embed_MLP = nn.Embedding(num_items, factor_num * (2 ** (num_layers - 1)))\n",
    "        self.sigmoid = nn.Sigmoid()\n",
    "\n",
    "        self.MLP = nn.Sequential(\n",
    "            nn.Dropout(p = self.dropout),\n",
    "            nn.Linear(factor_num * (2 ** num_layers), factor_num * (2 ** (num_layers - 1))),\n",
    "            nn.ReLU()\n",
    "        )\n",
    "        for layer in range(num_layers - 1, 0, -1):\n",
    "            self.MLP.add_module('dropout' + str(num_layers - layer), nn.Dropout(p = self.dropout))\n",
    "            self.MLP.add_module('linear' + str(num_layers - layer), nn.Linear(factor_num * (2 ** layer), factor_num * (2 ** (layer - 1))))\n",
    "            self.MLP.add_module('relu' + str(num_layers - layer), nn.ReLU())\n",
    "\n",
    "        self.model = model\n",
    "        if self.model in ['GMF', 'MLP']:\n",
    "            self.NeuMF = nn.Linear(factor_num, 1)\n",
    "        else:\n",
    "            self.NeuMF = nn.Linear(2 * factor_num, 1)\n",
    "\n",
    "        self.__init_weights__()\n",
    "\n",
    "    def __init_weights__(self):\n",
    "        if self.model in ['GMF', 'MLP']:\n",
    "            nn.init.normal_(self.user_embed_GMF.weight, std = 0.01)\n",
    "            nn.init.normal_(self.item_embed_GMF.weight, std = 0.01)\n",
    "            nn.init.normal_(self.user_embed_MLP.weight, std = 0.01)\n",
    "            nn.init.normal_(self.item_embed_MLP.weight, std = 0.01)\n",
    "\n",
    "            for layer in self.MLP:\n",
    "                if isinstance(layer, nn.Linear):\n",
    "                    nn.init.xavier_uniform_(layer.weight)\n",
    "#                   nn.init.normal_(layer.weight, std = 0.01)\n",
    "\n",
    "            nn.init.kaiming_uniform_(self.NeuMF.weight, a = 1, nonlinearity = 'sigmoid')\n",
    "#             nn.init.normal_(self.NeuMF.weight, std = 0.01)\n",
    "\n",
    "        elif self.GMF_model and self.MLP_model:\n",
    "            self.user_embed_GMF.weight.data.copy_(self.GMF_model.user_embed_GMF.weight)\n",
    "            self.item_embed_GMF.weight.data.copy_(self.GMF_model.item_embed_GMF.weight)\n",
    "            self.user_embed_MLP.weight.data.copy_(self.MLP_model.user_embed_MLP.weight)\n",
    "            self.item_embed_MLP.weight.data.copy_(self.MLP_model.item_embed_MLP.weight)\n",
    "\n",
    "            for (m1, m2) in zip(self.MLP, self.MLP_model.MLP):\n",
    "                if isinstance(m1, nn.Linear) and isinstance(m2, nn.Linear):\n",
    "                    m1.weight.data.copy_(m2.weight)\n",
    "                    m1.bias.data.copy_(m2.bias)\n",
    "\n",
    "            NeuMF_weight = torch.cat((self.alpha * self.GMF_model.NeuMF.weight, (1 - self.alpha) * self.MLP_model.NeuMF.weight), 1)\n",
    "            NeuMF_bias = self.GMF_model.NeuMF.bias + self.MLP_model.NeuMF.bias\n",
    "\n",
    "            self.NeuMF.weight.data.copy_(NeuMF_weight)\n",
    "            self.NeuMF.bias.data.copy_(NeuMF_bias)\n",
    "            \n",
    "    def forward(self, user, item):\n",
    "        if self.model is 'GMF' or 'NCF':\n",
    "            user_embed_GMF = self.user_embed_GMF(user)\n",
    "            item_embed_GMF = self.item_embed_GMF(item)\n",
    "            \n",
    "#             print(user_embed_GMF.device, item_embed_GMF.decive)\n",
    "            GMF_output = user_embed_GMF * item_embed_GMF\n",
    "\n",
    "        if self.model is 'MLP' or 'NCF':\n",
    "            user_embed_MLP = self.user_embed_MLP(user)\n",
    "            item_embed_MLP = self.item_embed_MLP(item)\n",
    "\n",
    "            MLP_input = torch.cat((user_embed_MLP, item_embed_MLP), 1)\n",
    "            MLP_output = self.MLP(MLP_input)\n",
    "\n",
    "        if self.model is 'NCF':\n",
    "            output = self.NeuMF(torch.cat((MLP_output, GMF_output), 1))\n",
    "        elif self.model is 'MLP':\n",
    "            output = self.NeuMF(MLP_output)\n",
    "        elif self.model is 'GMF':\n",
    "            output = self.NeuMF(GMF_output)\n",
    "            \n",
    "        return self.sigmoid(output)"
   ]
  },
  {
   "cell_type": "code",
   "execution_count": 65,
   "metadata": {
    "colab": {},
    "colab_type": "code",
    "id": "yMMtvfYqjBuV"
   },
   "outputs": [],
   "source": [
    "MLP_Loss, GMF_Loss, NCF_Loss = [], [], [] \n",
    "def train(net, num_epochs, lr, train_type = 'NCF'):\n",
    "    print(train_type)\n",
    "    device = torch.device('cuda' if torch.cuda.is_available() else 'cpu')\n",
    "#     device = torch.device('cpu')\n",
    "    print('train on', device)\n",
    "    net = net.to(device)\n",
    "    optimizer = torch.optim.Adam(net.parameters(), lr = lr)\n",
    "    loss = nn.MSELoss()\n",
    "    for epoch in range(num_epochs):\n",
    "        l_sum,n = 0, 0\n",
    "        for user, item, label in data_iter:\n",
    "            user = user.to(device)\n",
    "            item = item.to(device)\n",
    "            label = label.to(device)\n",
    "            pred = net(user, item)\n",
    "            l = loss(pred.view(label.shape), label.float())\n",
    "\n",
    "            optimizer.zero_grad()\n",
    "            l.backward()\n",
    "            optimizer.step()\n",
    "            l_sum += l.cpu().item()\n",
    "            n += 1\n",
    "            \n",
    "        if train_type == \"MLP\":\n",
    "            MLP_Loss.append(l_sum / n)\n",
    "        elif train_type == \"GMF\":\n",
    "            GMF_Loss.append(l_sum / n)\n",
    "        elif train_type == \"NCF\":\n",
    "            NCF_Loss.append(l_sum / n)\n",
    "            \n",
    "        print(epoch + 1, l_sum / n)"
   ]
  },
  {
   "cell_type": "code",
   "execution_count": 66,
   "metadata": {
    "colab": {
     "base_uri": "https://localhost:8080/",
     "height": 665
    },
    "colab_type": "code",
    "executionInfo": {
     "elapsed": 1626318,
     "status": "ok",
     "timestamp": 1582784794369,
     "user": {
      "displayName": "king jeff",
      "photoUrl": "",
      "userId": "00861212005360345850"
     },
     "user_tz": -480
    },
    "id": "yh7mILPNMtMf",
    "outputId": "46c39d07-b22b-4946-e0d3-ff034778924a"
   },
   "outputs": [
    {
     "name": "stdout",
     "output_type": "stream",
     "text": [
      "MLP\n",
      "train on cuda\n",
      "1 0.05055103606233994\n",
      "2 0.02836231305720467\n",
      "3 0.02248989138752222\n",
      "4 0.020677382021448483\n",
      "5 0.019755479729022172\n",
      "6 0.019067840961118538\n",
      "7 0.01847629439469208\n",
      "8 0.017994927666971788\n",
      "9 0.01759950087551831\n",
      "10 0.017265572399814046\n",
      "11 0.016973909940205367\n",
      "12 0.01670047058039071\n",
      "13 0.016470116318897436\n",
      "14 0.016263453958683883\n",
      "15 0.016137182342765087\n",
      "16 0.01601739135552563\n",
      "17 0.015909732278326854\n",
      "18 0.015824775172707934\n",
      "19 0.015755656442385826\n",
      "20 0.015704126861950784\n",
      "21 0.01564739402566178\n",
      "22 0.015606125125058871\n",
      "23 0.015567534836009145\n",
      "24 0.015527065126590576\n",
      "25 0.01549083958882108\n",
      "26 0.015464930477844295\n",
      "27 0.015435034107855138\n",
      "28 0.01541552100074934\n",
      "29 0.015387434592269654\n",
      "30 0.015381464867067396\n",
      "GMF\n",
      "train on cuda\n",
      "1 0.11659630199930832\n",
      "2 0.10969336708898053\n",
      "3 0.09892526877057903\n",
      "4 0.0848500161048244\n",
      "5 0.06941940853664395\n",
      "6 0.0547210076531651\n",
      "7 0.04244820628424778\n",
      "8 0.033362494786178656\n",
      "9 0.02727307778253567\n",
      "10 0.02344828391192006\n",
      "11 0.021111187593573156\n",
      "12 0.019659307022925978\n",
      "13 0.01872337059866564\n",
      "14 0.01808504357605296\n",
      "15 0.01761746690517255\n",
      "16 0.017263551215257716\n",
      "17 0.016986895421081605\n",
      "18 0.016760038784887715\n",
      "19 0.016577734411054968\n",
      "20 0.016423816571249535\n",
      "21 0.016295208568301273\n",
      "22 0.016183780905717583\n",
      "23 0.01608904000079515\n",
      "24 0.016003260217771372\n",
      "25 0.015928362192604326\n",
      "26 0.015863688511993077\n",
      "27 0.015802332937406998\n",
      "28 0.015748414284020077\n",
      "29 0.015704821566959806\n",
      "30 0.01565580068420911\n",
      "NCF\n",
      "train on cuda\n",
      "1 0.029607266735504654\n",
      "2 0.018837806312184707\n",
      "3 0.01715861826075935\n",
      "4 0.016517415330014832\n",
      "5 0.016145714430832396\n",
      "6 0.01586854008172511\n",
      "7 0.0156786250722065\n",
      "8 0.015520777585277078\n",
      "9 0.015384158576089962\n",
      "10 0.015279881642473972\n",
      "11 0.015176401806849182\n",
      "12 0.015094939270056784\n",
      "13 0.015019321914616168\n",
      "14 0.014977579751490232\n",
      "15 0.014909062454677826\n",
      "16 0.014852581847020808\n",
      "17 0.014798740550473916\n",
      "18 0.014759192156477594\n",
      "19 0.014710449419605235\n",
      "20 0.014676006631834396\n",
      "21 0.014638757344572713\n",
      "22 0.014599791650349895\n",
      "23 0.01457904142272823\n",
      "24 0.01454900068632674\n",
      "25 0.014535907895632964\n",
      "26 0.014512875500847311\n",
      "27 0.014491343254442601\n",
      "28 0.014473707887672764\n",
      "29 0.01445680779551028\n",
      "30 0.01444360252707174\n"
     ]
    }
   ],
   "source": [
    "MLP_net = NCF(num_users, num_animes, model = 'MLP')\n",
    "train(MLP_net, 30, lr = 0.0001, train_type = 'MLP')\n",
    "\n",
    "GMF_net = NCF(num_users, num_animes, model = 'GMF')\n",
    "train(GMF_net, 30, lr = 0.0001, train_type = 'GMF')\n",
    "\n",
    "NCF_net = NCF(num_users, num_animes, model = 'NCF', GMF_model = GMF_net, MLP_model = MLP_net)\n",
    "train(NCF_net, 30, lr = 0.0001)"
   ]
  },
  {
   "cell_type": "code",
   "execution_count": 19,
   "metadata": {},
   "outputs": [
    {
     "data": {
      "image/png": "[encoded data removed]",
      "text/plain": [
       "<Figure size 432x288 with 1 Axes>"
      ]
     },
     "metadata": {
      "needs_background": "light"
     },
     "output_type": "display_data"
    }
   ],
   "source": [
    "x_data = [n for n in range(1, 31)]\n",
    "mlp, = plt.plot(x_data, MLP_Loss, color = 'blue')\n",
    "gmf, = plt.plot(x_data, GMF_Loss, color = 'red')\n",
    "ncf, = plt.plot(x_data, NCF_Loss, color = 'black')\n",
    "plt.legend([mlp, gmf, ncf], ['MLP', 'GMF', 'NCF'])\n",
    "plt.savefig(\"loss.jpg\")\n",
    "plt.show()"
   ]
  },
  {
   "cell_type": "code",
   "execution_count": 79,
   "metadata": {
    "colab": {},
    "colab_type": "code",
    "id": "IMTUjG-KlpWT"
   },
   "outputs": [],
   "source": [
    "def metrics(net, test_data, bound):\n",
    "    users = list(set(test_data[:,0].tolist()))\n",
    "    recall, precise = [], []\n",
    "    for user in users:\n",
    "        all_items = torch.LongTensor([i for i in range(num_animes)]).cuda()\n",
    "        test_user = torch.LongTensor([user for i in range(num_animes)]).cuda()\n",
    "        pred = net(test_user, all_items)\n",
    "#         print(pred.shape)\n",
    "        _, idx = torch.topk(pred, k = 5, dim = 0)\n",
    "        \n",
    "        target = [anime_to_idx[i[1]] for i in ratings[ratings.user_id == user].values if i[2] > bound]\n",
    "        if not target: continue\n",
    "        idx = idx.cpu().numpy().flatten()\n",
    "        overlap = list(set(target) & set(idx))\n",
    "        recall.append(len(overlap) / len(target))\n",
    "        precise.append(len(overlap) / len(idx))\n",
    "        \n",
    "#         print(recall[-1], precise[-1])\n",
    "        \n",
    "    return np.mean(precise)"
   ]
  },
  {
   "cell_type": "code",
   "execution_count": 12,
   "metadata": {},
   "outputs": [],
   "source": [
    "torch.save(NCF_net.state_dict(), \"NCF1.pt\")\n",
    "torch.save(GMF_net.state_dict(), \"GMF1.pt\")\n",
    "torch.save(MLP_net.state_dict(), \"MLP1.pt\")"
   ]
  },
  {
   "cell_type": "code",
   "execution_count": 80,
   "metadata": {},
   "outputs": [
    {
     "name": "stdout",
     "output_type": "stream",
     "text": [
      "[0.14497816593886464, 0.1388646288209607, 0.14716157205240177, 0.1388646288209607, 0.14148471615720526, 0.1502183406113537, 0.13799126637554585, 0.1318777292576419, 0.10218340611353711, 0.06578366445916115]\n"
     ]
    }
   ],
   "source": [
    "# model = NCF(num_users, num_animes, model = 'NCF', GMF_model = GMF_net, MLP_model = MLP_net).cuda()\n",
    "# model.load_state_dict(torch.load(\"NCF.pt\"))\n",
    "precise = []\n",
    "for bound in range(10):\n",
    "    precise.append(metrics(NCF_net, test_data, bound))\n",
    "    \n",
    "print(precise)"
   ]
  },
  {
   "cell_type": "code",
   "execution_count": 81,
   "metadata": {},
   "outputs": [
    {
     "data": {
      "image/png": "[encoded data removed]",
      "text/plain": [
       "<Figure size 432x288 with 1 Axes>"
      ]
     },
     "metadata": {
      "needs_background": "light"
     },
     "output_type": "display_data"
    }
   ],
   "source": [
    "tmp = [0.18340611353711792, 0.17292576419213973, 0.16331877729257643, 0.1646288209606987, 0.15938864628820962, 0.14890829694323146, 0.1427947598253275, 0.07554585152838426, 0.03449781659388646, 0.011920529801324504]\n",
    "x_data = [n for n in range(10)]\n",
    "test, = plt.plot(x_data, tmp, color = 'blue')\n",
    "fact, = plt.plot(x_data, precise, color = 'red')\n",
    "\n",
    "plt.legend([test, fact], ['old', 'new'])\n",
    "plt.savefig(\"precision.jpg\")\n",
    "plt.show()"
   ]
  }
 ],
 "metadata": {
  "accelerator": "GPU",
  "colab": {
   "authorship_tag": "ABX9TyMIrs4udGF4i0DSXmyPQxBf",
   "collapsed_sections": [],
   "name": "NCF.ipynb",
   "provenance": []
  },
  "kernelspec": {
   "display_name": "Python 3",
   "language": "python",
   "name": "python3"
  },
  "language_info": {
   "codemirror_mode": {
    "name": "ipython",
    "version": 3
   },
   "file_extension": ".py",
   "mimetype": "text/x-python",
   "name": "python",
   "nbconvert_exporter": "python",
   "pygments_lexer": "ipython3",
   "version": "3.7.4"
  }
 },
 "nbformat": 4,
 "nbformat_minor": 4
}
