{
 "cells": [
  {
   "cell_type": "code",
   "execution_count": 2,
   "metadata": {
    "colab": {},
    "colab_type": "code",
    "id": "-oKuADFDpu37"
   },
   "outputs": [],
   "source": [
    "import torch\n",
    "import torch.nn as nn\n",
    "import pandas as pd\n",
    "import numpy as np\n",
    "import torch.utils.data as Data\n",
    "import matplotlib.pyplot as plt\n",
    "import random"
   ]
  },
  {
   "cell_type": "code",
   "execution_count": 6,
   "metadata": {
    "colab": {
     "base_uri": "https://localhost:8080/",
     "height": 71
    },
    "colab_type": "code",
    "executionInfo": {
     "elapsed": 9188,
     "status": "ok",
     "timestamp": 1582782823798,
     "user": {
      "displayName": "king jeff",
      "photoUrl": "",
      "userId": "00861212005360345850"
     },
     "user_tz": -480
    },
    "id": "EwPQ5D3MqnsE",
    "outputId": "3c9398ee-ec38-4bd1-c2b1-893212844791"
   },
   "outputs": [
    {
     "name": "stdout",
     "output_type": "stream",
     "text": [
      "(2084856, 3) (231651, 3)\n"
     ]
    }
   ],
   "source": [
    "ratings = pd.read_csv('~/Data/clean_rating4.csv').drop([\"id\"], axis = 1)\n",
    "\n",
    "idx_to_animes = list(set(ratings['anime_id'].tolist()))\n",
    "idx_to_users = list(set(ratings['user_id'].tolist()))\n",
    "anime_to_idx = {anime: idx for idx, anime in enumerate(idx_to_animes)}\n",
    "user_to_idx = {user: idx for idx, user in enumerate(idx_to_users)}\n",
    "num_users, num_animes = len(idx_to_users), len(idx_to_animes)\n",
    "\n",
    "train_ratio = 0.9\n",
    "# all_users = list(set(ratings.user_id))\n",
    "# train_sample = random.sample(all_users, int(num_users * train_ratio))\n",
    "# train_data = ratings[ratings.user_id.isin(train_sample)]\n",
    "# test_data = list(set(all_users) - set(train_sample))\n",
    "# print(train_data.shape)\n",
    "\n",
    "data_ps = np.array(ratings.values.tolist())\n",
    "train_data = data_ps[:int(train_ratio * len(data_ps))]\n",
    "test_data = data_ps[int(train_ratio * len(data_ps)):]\n",
    "print(train_data.shape, test_data.shape)\n",
    "\n",
    "from collections import defaultdict\n",
    "user_item_dic, data, labels = defaultdict(list), [], []\n",
    "for d in train_data:\n",
    "    user_item_dic[user_to_idx[d[0]]].append(anime_to_idx[d[1]])\n",
    "    data.append([user_to_idx[d[0]], anime_to_idx[d[1]]])\n",
    "    if d[2] != -1:\n",
    "        labels.append(d[2] / 10)\n",
    "    else:\n",
    "        labels.append(fill_rating(anime_to_idx[d[1]]))"
   ]
  },
  {
   "cell_type": "code",
   "execution_count": 5,
   "metadata": {},
   "outputs": [],
   "source": [
    "hot_items = get_hot_items()\n",
    "keys, animes = hot_items.keys(), [i for i in range(num_animes)]\n",
    "def fill_rating(anime_id):\n",
    "    return hot_items[anime_id]"
   ]
  },
  {
   "cell_type": "code",
   "execution_count": 4,
   "metadata": {},
   "outputs": [],
   "source": [
    "def get_hot_items():\n",
    "    animes = pd.read_csv(\"~/Data/anime.csv\")\n",
    "    animes = animes[animes[\"anime_id\"].isin(idx_to_animes)].loc[:, [\"anime_id\", \"rating\", \"members\"]].fillna(0)\n",
    "\n",
    "    scalar = lambda x: (x - np.min(x)) / (np.max(x) - np.min(x))\n",
    "    animes[\"rating_norm\"] = animes[[\"rating\"]].apply(scalar)\n",
    "    animes[\"members_norm\"] = animes[[\"members\"]].apply(scalar)\n",
    "    animes[\"weight\"] = 0.6 * animes[\"rating_norm\"] + 0.4 * animes[\"members_norm\"]\n",
    "    animes = animes.sort_values(by = \"weight\", ascending = False)\n",
    "    \n",
    "    return {anime_to_idx[i[0]]: i[1] for i in animes[[\"anime_id\", \"weight\"]].values}"
   ]
  },
  {
   "cell_type": "code",
   "execution_count": 14,
   "metadata": {
    "colab": {},
    "colab_type": "code",
    "id": "7k-YI1ajMThk"
   },
   "outputs": [],
   "source": [
    "class NCFDataset(Data.Dataset):\n",
    "    def __init__(self, data_ps, users, labels):\n",
    "        super(NCFDataset, self).__init__()\n",
    "        self.data = data_ps\n",
    "        self.users = users\n",
    "        self.label = labels\n",
    "\n",
    "    def __getitem__(self, idx):\n",
    "        user = self.data[idx][0]\n",
    "        item = self.data[idx][1]\n",
    "        label = self.label[idx]\n",
    "\n",
    "        return user, item, label\n",
    "\n",
    "    def __len__(self):\n",
    "#         return self.num_ng * len(self.users) + len(self.data_ps)\n",
    "        return len(self.data)"
   ]
  },
  {
   "cell_type": "code",
   "execution_count": 15,
   "metadata": {},
   "outputs": [
    {
     "name": "stdout",
     "output_type": "stream",
     "text": [
      "torch.Size([10000])\n"
     ]
    }
   ],
   "source": [
    "batch_size = 10000\n",
    "users = [user_to_idx[i] for i in list(set(train_data[:, 0]))]\n",
    "dataset = NCFDataset(data, users, labels)\n",
    "\n",
    "data_iter = Data.DataLoader(dataset, batch_size = batch_size, shuffle = True)\n",
    "for user, item, label in data_iter:\n",
    "    print(label.shape)\n",
    "    break"
   ]
  },
  {
   "cell_type": "code",
   "execution_count": 7,
   "metadata": {
    "colab": {
     "base_uri": "https://localhost:8080/",
     "height": 341
    },
    "colab_type": "code",
    "executionInfo": {
     "elapsed": 879,
     "status": "ok",
     "timestamp": 1582783159809,
     "user": {
      "displayName": "king jeff",
      "photoUrl": "",
      "userId": "00861212005360345850"
     },
     "user_tz": -480
    },
    "id": "gApTtGldU-Cj",
    "outputId": "d5f04ed0-993d-484f-c25c-fbb3f27d0bf3"
   },
   "outputs": [],
   "source": [
    "class NCF(nn.Module):\n",
    "    def __init__(self, num_users, num_items, model, factor_num = 8, num_layers = 3,\n",
    "               MLP_model = None, GMF_model = None, alpha = 0.5, dropout = 0.5):\n",
    "        super(NCF, self).__init__()\n",
    "        self.MLP_model = MLP_model\n",
    "        self.GMF_model = GMF_model\n",
    "        self.alpha = alpha\n",
    "        self.dropout = dropout\n",
    "        self.user_embed_GMF = nn.Embedding(num_users, factor_num)\n",
    "        self.item_embed_GMF = nn.Embedding(num_items, factor_num)\n",
    "        self.user_embed_MLP = nn.Embedding(num_users, factor_num * (2 ** (num_layers - 1)))\n",
    "        self.item_embed_MLP = nn.Embedding(num_items, factor_num * (2 ** (num_layers - 1)))\n",
    "        self.sigmoid = nn.Sigmoid()\n",
    "\n",
    "        self.MLP = nn.Sequential(\n",
    "            nn.Dropout(p = self.dropout),\n",
    "            nn.Linear(factor_num * (2 ** num_layers), factor_num * (2 ** (num_layers - 1))),\n",
    "            nn.ReLU()\n",
    "        )\n",
    "        for layer in range(num_layers - 1, 0, -1):\n",
    "            self.MLP.add_module('dropout' + str(num_layers - layer), nn.Dropout(p = self.dropout))\n",
    "            self.MLP.add_module('linear' + str(num_layers - layer), nn.Linear(factor_num * (2 ** layer), factor_num * (2 ** (layer - 1))))\n",
    "            self.MLP.add_module('relu' + str(num_layers - layer), nn.ReLU())\n",
    "\n",
    "        self.model = model\n",
    "        if self.model in ['GMF', 'MLP']:\n",
    "            self.NeuMF = nn.Linear(factor_num, 1)\n",
    "        else:\n",
    "            self.NeuMF = nn.Linear(2 * factor_num, 1)\n",
    "\n",
    "        self.__init_weights__()\n",
    "\n",
    "    def __init_weights__(self):\n",
    "        if self.model in ['GMF', 'MLP']:\n",
    "            nn.init.normal_(self.user_embed_GMF.weight, std = 0.01)\n",
    "            nn.init.normal_(self.item_embed_GMF.weight, std = 0.01)\n",
    "            nn.init.normal_(self.user_embed_MLP.weight, std = 0.01)\n",
    "            nn.init.normal_(self.item_embed_MLP.weight, std = 0.01)\n",
    "\n",
    "            for layer in self.MLP:\n",
    "                if isinstance(layer, nn.Linear):\n",
    "                    nn.init.xavier_uniform_(layer.weight)\n",
    "#                   nn.init.normal_(layer.weight, std = 0.01)\n",
    "\n",
    "            nn.init.kaiming_uniform_(self.NeuMF.weight, a = 1, nonlinearity = 'sigmoid')\n",
    "#             nn.init.normal_(self.NeuMF.weight, std = 0.01)\n",
    "\n",
    "        elif self.GMF_model and self.MLP_model:\n",
    "            self.user_embed_GMF.weight.data.copy_(self.GMF_model.user_embed_GMF.weight)\n",
    "            self.item_embed_GMF.weight.data.copy_(self.GMF_model.item_embed_GMF.weight)\n",
    "            self.user_embed_MLP.weight.data.copy_(self.MLP_model.user_embed_MLP.weight)\n",
    "            self.item_embed_MLP.weight.data.copy_(self.MLP_model.item_embed_MLP.weight)\n",
    "\n",
    "            for (m1, m2) in zip(self.MLP, self.MLP_model.MLP):\n",
    "                if isinstance(m1, nn.Linear) and isinstance(m2, nn.Linear):\n",
    "                    m1.weight.data.copy_(m2.weight)\n",
    "                    m1.bias.data.copy_(m2.bias)\n",
    "\n",
    "            NeuMF_weight = torch.cat((self.alpha * self.GMF_model.NeuMF.weight, (1 - self.alpha) * self.MLP_model.NeuMF.weight), 1)\n",
    "            NeuMF_bias = self.GMF_model.NeuMF.bias + self.MLP_model.NeuMF.bias\n",
    "\n",
    "            self.NeuMF.weight.data.copy_(NeuMF_weight)\n",
    "            self.NeuMF.bias.data.copy_(NeuMF_bias)\n",
    "            \n",
    "    def forward(self, user, item):\n",
    "        if self.model is 'GMF' or 'NCF':\n",
    "            user_embed_GMF = self.user_embed_GMF(user)\n",
    "            item_embed_GMF = self.item_embed_GMF(item)\n",
    "            \n",
    "#             print(user_embed_GMF.device, item_embed_GMF.decive)\n",
    "            GMF_output = user_embed_GMF * item_embed_GMF\n",
    "\n",
    "        if self.model is 'MLP' or 'NCF':\n",
    "            user_embed_MLP = self.user_embed_MLP(user)\n",
    "            item_embed_MLP = self.item_embed_MLP(item)\n",
    "\n",
    "            MLP_input = torch.cat((user_embed_MLP, item_embed_MLP), 1)\n",
    "            MLP_output = self.MLP(MLP_input)\n",
    "\n",
    "        if self.model is 'NCF':\n",
    "            output = self.NeuMF(torch.cat((MLP_output, GMF_output), 1))\n",
    "        elif self.model is 'MLP':\n",
    "            output = self.NeuMF(MLP_output)\n",
    "        elif self.model is 'GMF':\n",
    "            output = self.NeuMF(GMF_output)\n",
    "            \n",
    "        return self.sigmoid(output)"
   ]
  },
  {
   "cell_type": "code",
   "execution_count": 17,
   "metadata": {
    "colab": {},
    "colab_type": "code",
    "id": "yMMtvfYqjBuV"
   },
   "outputs": [],
   "source": [
    "MLP_Loss, GMF_Loss, NCF_Loss = [], [], [] \n",
    "def train(net, num_epochs, lr, train_type = 'NCF'):\n",
    "    print(train_type)\n",
    "    device = torch.device('cuda' if torch.cuda.is_available() else 'cpu')\n",
    "#     device = torch.device('cpu')\n",
    "    print('train on', device)\n",
    "    net = net.to(device)\n",
    "    optimizer = torch.optim.Adam(net.parameters(), lr = lr)\n",
    "    loss = nn.MSELoss()\n",
    "    for epoch in range(num_epochs):\n",
    "        l_sum,n = 0, 0\n",
    "        for user, item, label in data_iter:\n",
    "            user = user.to(device)\n",
    "            item = item.to(device)\n",
    "            label = label.to(device)\n",
    "            pred = net(user, item)\n",
    "            l = loss(pred.view(label.shape), label.float())\n",
    "\n",
    "            optimizer.zero_grad()\n",
    "            l.backward()\n",
    "            optimizer.step()\n",
    "            l_sum += l.cpu().item()\n",
    "            n += 1\n",
    "            \n",
    "        if train_type == \"MLP\":\n",
    "            MLP_Loss.append(l_sum / n)\n",
    "        elif train_type == \"GMF\":\n",
    "            GMF_Loss.append(l_sum / n)\n",
    "        elif train_type == \"NCF\":\n",
    "            NCF_Loss.append(l_sum / n)\n",
    "            \n",
    "        print(epoch + 1, l_sum / n)"
   ]
  },
  {
   "cell_type": "code",
   "execution_count": 18,
   "metadata": {
    "colab": {
     "base_uri": "https://localhost:8080/",
     "height": 665
    },
    "colab_type": "code",
    "executionInfo": {
     "elapsed": 1626318,
     "status": "ok",
     "timestamp": 1582784794369,
     "user": {
      "displayName": "king jeff",
      "photoUrl": "",
      "userId": "00861212005360345850"
     },
     "user_tz": -480
    },
    "id": "yh7mILPNMtMf",
    "outputId": "46c39d07-b22b-4946-e0d3-ff034778924a"
   },
   "outputs": [
    {
     "name": "stdout",
     "output_type": "stream",
     "text": [
      "MLP\n",
      "train on cpu\n",
      "1 0.07637518972301027\n",
      "2 0.05221820521083745\n",
      "3 0.03226711857689625\n",
      "4 0.025586263031551714\n",
      "5 0.022561474360133473\n",
      "6 0.020829509319871237\n",
      "7 0.019840790324233935\n",
      "8 0.01929143113953075\n",
      "9 0.01891704787763112\n",
      "10 0.018620622928062696\n",
      "11 0.018387080851995773\n",
      "12 0.018172218192493515\n",
      "13 0.01795292361394355\n",
      "14 0.01778081880267442\n",
      "15 0.01763443631882017\n",
      "16 0.01746436098866771\n",
      "17 0.01734035913097231\n",
      "18 0.01719206664265628\n",
      "19 0.017064951280016078\n",
      "20 0.01693248744323208\n",
      "21 0.016807032757968993\n",
      "22 0.01669691246377224\n",
      "23 0.016578418349749165\n",
      "24 0.01648257271738714\n",
      "25 0.016385821638958593\n",
      "26 0.016288648074287832\n",
      "27 0.016213408043010955\n",
      "28 0.01614676639615919\n",
      "29 0.01607758863762235\n",
      "30 0.016040289885939307\n",
      "GMF\n",
      "train on cpu\n",
      "1 0.06388760844700074\n",
      "2 0.061939439402100005\n",
      "3 0.059880400673624434\n",
      "4 0.057226571651024113\n",
      "5 0.053913637621408446\n",
      "6 0.05011666854888058\n",
      "7 0.0460554070093415\n",
      "8 0.04193857836238505\n",
      "9 0.03796918032485903\n",
      "10 0.03429825112009733\n",
      "11 0.031049560292058014\n",
      "12 0.028275842310495354\n",
      "13 0.025993000234713393\n",
      "14 0.02415871326967575\n",
      "15 0.022715938852378055\n",
      "16 0.021596602177577157\n",
      "17 0.02073330171049782\n",
      "18 0.020065585784079354\n",
      "19 0.019546503397194964\n",
      "20 0.019133657573512868\n",
      "21 0.018804230205892947\n",
      "22 0.01853392773160809\n",
      "23 0.018308316406450774\n",
      "24 0.01811282784994424\n",
      "25 0.01794699599975319\n",
      "26 0.017797712602042125\n",
      "27 0.017668217616645915\n",
      "28 0.01754876509594005\n",
      "29 0.017440164212190933\n",
      "30 0.017341305051694077\n",
      "NCF\n",
      "train on cpu\n",
      "1 0.14479964476025275\n",
      "2 0.07576019953241188\n",
      "3 0.04849679126408682\n",
      "4 0.037204013896758474\n",
      "5 0.03066591006752692\n",
      "6 0.026489927161609726\n",
      "7 0.02405303245205343\n",
      "8 0.022443805184019238\n",
      "9 0.02127847397191958\n",
      "10 0.020480054292524832\n",
      "11 0.019874527239414495\n",
      "12 0.019324257604456975\n",
      "13 0.01887118322641085\n",
      "14 0.01845896564887471\n",
      "15 0.018164647074692557\n",
      "16 0.01788164320531074\n",
      "17 0.017652926342695524\n",
      "18 0.017435170585316333\n",
      "19 0.017238927666436542\n",
      "20 0.017053784570839416\n",
      "21 0.016910494140318137\n",
      "22 0.016741433693318847\n",
      "23 0.016610856528915287\n",
      "24 0.016489187932827255\n",
      "25 0.016369891963435704\n",
      "26 0.016238327619383496\n",
      "27 0.016139011816723208\n",
      "28 0.016023748928600805\n",
      "29 0.015927873231007153\n",
      "30 0.01587849043077972\n"
     ]
    }
   ],
   "source": [
    "MLP_net = NCF(num_users, num_animes, model = 'MLP')\n",
    "train(MLP_net, 30, lr = 0.0001, train_type = 'MLP')\n",
    "\n",
    "GMF_net = NCF(num_users, num_animes, model = 'GMF')\n",
    "train(GMF_net, 30, lr = 0.0001, train_type = 'GMF')\n",
    "\n",
    "NCF_net = NCF(num_users, num_animes, model = 'NCF', GMF_model = GMF_net, MLP_model = MLP_net)\n",
    "train(NCF_net, 30, lr = 0.0001)"
   ]
  },
  {
   "cell_type": "code",
   "execution_count": 19,
   "metadata": {},
   "outputs": [
    {
     "data": {
      "image/png": "[encoded data removed]",
      "text/plain": [
       "<Figure size 432x288 with 1 Axes>"
      ]
     },
     "metadata": {
      "needs_background": "light"
     },
     "output_type": "display_data"
    }
   ],
   "source": [
    "x_data = [n for n in range(1, 31)]\n",
    "MLP_Loss = [0.05590997135453817, 0.04388035445264652, 0.03441229041968807, 0.026198633059716682,\n",
    "            0.02155782455248696, 0.019717730679794362, 0.01893876972452305, 0.018484929629989218,\n",
    "            0.01819698341440356, 0.017965885440698652, 0.017781578129130688, 0.01761494001204317,\n",
    "            0.017471235245466232, 0.017335133662705785, 0.017221350686259247, 0.017112711979227774,\n",
    "            0.01700326620320384, 0.016910347517169834, 0.01682083569823555, 0.016726248028674763,\n",
    "            0.016637995424702692, 0.01655022905132417, 0.016463012929168044, 0.01637699545481416,\n",
    "            0.016312729357853176, 0.016236763010826407, 0.016188110746265028, 0.016119342350788664,\n",
    "            0.016046185786145157, 0.01599544869138721]\n",
    "mlp, = plt.plot(x_data, MLP_Loss, color = 'blue')\n",
    "gmf, = plt.plot(x_data, GMF_Loss, color = 'red')\n",
    "ncf, = plt.plot(x_data, NCF_Loss, color = 'black')\n",
    "plt.legend([mlp, gmf, ncf], ['MLP', 'GMF', 'NCF'])\n",
    "plt.savefig(\"loss.jpg\")\n",
    "plt.show()"
   ]
  },
  {
   "cell_type": "code",
   "execution_count": 20,
   "metadata": {
    "colab": {},
    "colab_type": "code",
    "id": "IMTUjG-KlpWT"
   },
   "outputs": [],
   "source": [
    "def metrics(net, test_data, bound):\n",
    "    users = list(set(test_data[:,0].tolist()))\n",
    "    recall, precise, f1 = [], [], []\n",
    "    for user in users:\n",
    "        all_items = torch.LongTensor([i for i in range(num_animes)]).cuda()\n",
    "        test_user = torch.LongTensor([user for i in range(num_animes)]).cuda()\n",
    "        pred = net(test_user, all_items)\n",
    "#         print(pred.shape)\n",
    "        _, idx = torch.topk(pred, k = 5, dim = 0)\n",
    "        \n",
    "        target = [anime_to_idx[i[1]] for i in ratings[ratings.user_id == user].values if i[2] > bound]\n",
    "        if not target: continue\n",
    "        idx = idx.cpu().numpy().flatten()\n",
    "        overlap = list(set(target) & set(idx))\n",
    "        recall.append(len(overlap) / len(target))\n",
    "        precise.append(len(overlap) / len(idx))\n",
    "        f1.append((2 * recall[-1] * precise[-1]) / (recall[-1] + precise[-1]))\n",
    "#         print(recall[-1], precise[-1])\n",
    "        \n",
    "    return np.mean(f1)"
   ]
  },
  {
   "cell_type": "code",
   "execution_count": null,
   "metadata": {},
   "outputs": [],
   "source": [
    "torch.save(NCF_net.state_dict(), \"NCF1.pt\")\n",
    "torch.save(GMF_net.state_dict(), \"GMF1.pt\")\n",
    "torch.save(MLP_net.state_dict(), \"MLP1.pt\")"
   ]
  },
  {
   "cell_type": "code",
   "execution_count": 8,
   "metadata": {},
   "outputs": [
    {
     "ename": "RuntimeError",
     "evalue": "Error(s) in loading state_dict for NCF:\n\tUnexpected key(s) in state_dict: \"MLP_model.user_embed_GMF.weight\", \"MLP_model.item_embed_GMF.weight\", \"MLP_model.user_embed_MLP.weight\", \"MLP_model.item_embed_MLP.weight\", \"MLP_model.MLP.1.weight\", \"MLP_model.MLP.1.bias\", \"MLP_model.MLP.linear1.weight\", \"MLP_model.MLP.linear1.bias\", \"MLP_model.MLP.linear2.weight\", \"MLP_model.MLP.linear2.bias\", \"MLP_model.NeuMF.weight\", \"MLP_model.NeuMF.bias\", \"GMF_model.user_embed_GMF.weight\", \"GMF_model.item_embed_GMF.weight\", \"GMF_model.user_embed_MLP.weight\", \"GMF_model.item_embed_MLP.weight\", \"GMF_model.MLP.1.weight\", \"GMF_model.MLP.1.bias\", \"GMF_model.MLP.linear1.weight\", \"GMF_model.MLP.linear1.bias\", \"GMF_model.MLP.linear2.weight\", \"GMF_model.MLP.linear2.bias\", \"GMF_model.NeuMF.weight\", \"GMF_model.NeuMF.bias\". ",
     "output_type": "error",
     "traceback": [
      "\u001b[0;31m---------------------------------------------------------------------------\u001b[0m",
      "\u001b[0;31mRuntimeError\u001b[0m                              Traceback (most recent call last)",
      "\u001b[0;32m<ipython-input-8-9cefc5c3f3f6>\u001b[0m in \u001b[0;36m<module>\u001b[0;34m\u001b[0m\n\u001b[1;32m      1\u001b[0m \u001b[0mmodel\u001b[0m \u001b[0;34m=\u001b[0m \u001b[0mNCF\u001b[0m\u001b[0;34m(\u001b[0m\u001b[0mnum_users\u001b[0m\u001b[0;34m,\u001b[0m \u001b[0mnum_animes\u001b[0m\u001b[0;34m,\u001b[0m \u001b[0mmodel\u001b[0m \u001b[0;34m=\u001b[0m \u001b[0;34m'NCF'\u001b[0m\u001b[0;34m)\u001b[0m\u001b[0;34m\u001b[0m\u001b[0;34m\u001b[0m\u001b[0m\n\u001b[0;32m----> 2\u001b[0;31m \u001b[0mmodel\u001b[0m\u001b[0;34m.\u001b[0m\u001b[0mload_state_dict\u001b[0m\u001b[0;34m(\u001b[0m\u001b[0mtorch\u001b[0m\u001b[0;34m.\u001b[0m\u001b[0mload\u001b[0m\u001b[0;34m(\u001b[0m\u001b[0;34m\"NCF1.pt\"\u001b[0m\u001b[0;34m)\u001b[0m\u001b[0;34m)\u001b[0m\u001b[0;34m\u001b[0m\u001b[0;34m\u001b[0m\u001b[0m\n\u001b[0m\u001b[1;32m      3\u001b[0m \u001b[0mprecise\u001b[0m \u001b[0;34m=\u001b[0m \u001b[0;34m[\u001b[0m\u001b[0;34m]\u001b[0m\u001b[0;34m\u001b[0m\u001b[0;34m\u001b[0m\u001b[0m\n\u001b[1;32m      4\u001b[0m \u001b[0;32mfor\u001b[0m \u001b[0mbound\u001b[0m \u001b[0;32min\u001b[0m \u001b[0mrange\u001b[0m\u001b[0;34m(\u001b[0m\u001b[0;36m10\u001b[0m\u001b[0;34m)\u001b[0m\u001b[0;34m:\u001b[0m\u001b[0;34m\u001b[0m\u001b[0;34m\u001b[0m\u001b[0m\n\u001b[1;32m      5\u001b[0m     \u001b[0mprecise\u001b[0m\u001b[0;34m.\u001b[0m\u001b[0mappend\u001b[0m\u001b[0;34m(\u001b[0m\u001b[0mmetrics\u001b[0m\u001b[0;34m(\u001b[0m\u001b[0mNCF_net\u001b[0m\u001b[0;34m,\u001b[0m \u001b[0mtest_data\u001b[0m\u001b[0;34m,\u001b[0m \u001b[0mbound\u001b[0m\u001b[0;34m)\u001b[0m\u001b[0;34m)\u001b[0m\u001b[0;34m\u001b[0m\u001b[0;34m\u001b[0m\u001b[0m\n",
      "\u001b[0;32m~/anaconda3/lib/python3.7/site-packages/torch/nn/modules/module.py\u001b[0m in \u001b[0;36mload_state_dict\u001b[0;34m(self, state_dict, strict)\u001b[0m\n\u001b[1;32m    828\u001b[0m         \u001b[0;32mif\u001b[0m \u001b[0mlen\u001b[0m\u001b[0;34m(\u001b[0m\u001b[0merror_msgs\u001b[0m\u001b[0;34m)\u001b[0m \u001b[0;34m>\u001b[0m \u001b[0;36m0\u001b[0m\u001b[0;34m:\u001b[0m\u001b[0;34m\u001b[0m\u001b[0;34m\u001b[0m\u001b[0m\n\u001b[1;32m    829\u001b[0m             raise RuntimeError('Error(s) in loading state_dict for {}:\\n\\t{}'.format(\n\u001b[0;32m--> 830\u001b[0;31m                                self.__class__.__name__, \"\\n\\t\".join(error_msgs)))\n\u001b[0m\u001b[1;32m    831\u001b[0m         \u001b[0;32mreturn\u001b[0m \u001b[0m_IncompatibleKeys\u001b[0m\u001b[0;34m(\u001b[0m\u001b[0mmissing_keys\u001b[0m\u001b[0;34m,\u001b[0m \u001b[0munexpected_keys\u001b[0m\u001b[0;34m)\u001b[0m\u001b[0;34m\u001b[0m\u001b[0;34m\u001b[0m\u001b[0m\n\u001b[1;32m    832\u001b[0m \u001b[0;34m\u001b[0m\u001b[0m\n",
      "\u001b[0;31mRuntimeError\u001b[0m: Error(s) in loading state_dict for NCF:\n\tUnexpected key(s) in state_dict: \"MLP_model.user_embed_GMF.weight\", \"MLP_model.item_embed_GMF.weight\", \"MLP_model.user_embed_MLP.weight\", \"MLP_model.item_embed_MLP.weight\", \"MLP_model.MLP.1.weight\", \"MLP_model.MLP.1.bias\", \"MLP_model.MLP.linear1.weight\", \"MLP_model.MLP.linear1.bias\", \"MLP_model.MLP.linear2.weight\", \"MLP_model.MLP.linear2.bias\", \"MLP_model.NeuMF.weight\", \"MLP_model.NeuMF.bias\", \"GMF_model.user_embed_GMF.weight\", \"GMF_model.item_embed_GMF.weight\", \"GMF_model.user_embed_MLP.weight\", \"GMF_model.item_embed_MLP.weight\", \"GMF_model.MLP.1.weight\", \"GMF_model.MLP.1.bias\", \"GMF_model.MLP.linear1.weight\", \"GMF_model.MLP.linear1.bias\", \"GMF_model.MLP.linear2.weight\", \"GMF_model.MLP.linear2.bias\", \"GMF_model.NeuMF.weight\", \"GMF_model.NeuMF.bias\". "
     ]
    }
   ],
   "source": [
    "model = NCF(num_users, num_animes, model = 'NCF')\n",
    "model.load_state_dict(torch.load(\"NCF1.pt\"))\n",
    "precise = []\n",
    "for bound in range(10):\n",
    "    precise.append(metrics(NCF_net, test_data, bound))\n",
    "    print(precise[-1])\n",
    "    \n",
    "print(precise)"
   ]
  },
  {
   "cell_type": "code",
   "execution_count": 4,
   "metadata": {},
   "outputs": [
    {
     "data": {
      "image/png": "[encoded data removed]",
      "text/plain": [
       "<Figure size 432x288 with 1 Axes>"
      ]
     },
     "metadata": {
      "needs_background": "light"
     },
     "output_type": "display_data"
    }
   ],
   "source": [
    "tmp = [0.1777292576419214, 0.18995633187772926, 0.1646288209606987, 0.17729257641921395, 0.1685589519650655, 0.15807860262008736, 0.12532751091703057, 0.08602620087336246, 0.035371179039301315, 0.013245033112582781]\n",
    "precise = [0.22838427947598255, 0.24279475982532753, 0.24759825327510918, 0.23624454148471616, 0.23231441048034937, 0.22227074235807862, 0.2314410480349345, 0.20786026200873364, 0.18384279475982535, 0.11655629139072847]\n",
    "x_data = [n for n in range(10)]\n",
    "test, = plt.plot(x_data, tmp, color = 'blue')\n",
    "fact, = plt.plot(x_data, precise, color = 'red')\n",
    "\n",
    "plt.legend([test, fact], ['old', 'new'])\n",
    "plt.savefig(\"precision.jpg\")\n",
    "plt.show()"
   ]
  },
  {
   "cell_type": "code",
   "execution_count": 8,
   "metadata": {},
   "outputs": [
    {
     "name": "stdout",
     "output_type": "stream",
     "text": [
      "False\n"
     ]
    }
   ],
   "source": [
    "print('1234' > '789')"
   ]
  }
 ],
 "metadata": {
  "accelerator": "GPU",
  "colab": {
   "authorship_tag": "ABX9TyMIrs4udGF4i0DSXmyPQxBf",
   "collapsed_sections": [],
   "name": "NCF.ipynb",
   "provenance": []
  },
  "kernelspec": {
   "display_name": "Python 3",
   "language": "python",
   "name": "python3"
  },
  "language_info": {
   "codemirror_mode": {
    "name": "ipython",
    "version": 3
   },
   "file_extension": ".py",
   "mimetype": "text/x-python",
   "name": "python",
   "nbconvert_exporter": "python",
   "pygments_lexer": "ipython3",
   "version": "3.7.4"
  }
 },
 "nbformat": 4,
 "nbformat_minor": 4
}
