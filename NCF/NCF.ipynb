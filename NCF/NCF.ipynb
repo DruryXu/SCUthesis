{
 "cells": [
  {
   "cell_type": "code",
   "execution_count": 1,
   "metadata": {
    "colab": {},
    "colab_type": "code",
    "id": "-oKuADFDpu37"
   },
   "outputs": [],
   "source": [
    "import torch\n",
    "import torch.nn as nn\n",
    "import pandas as pd\n",
    "import numpy as np\n",
    "import torch.utils.data as Data\n",
    "import random"
   ]
  },
  {
   "cell_type": "code",
   "execution_count": 2,
   "metadata": {
    "colab": {
     "base_uri": "https://localhost:8080/",
     "height": 71
    },
    "colab_type": "code",
    "executionInfo": {
     "elapsed": 9188,
     "status": "ok",
     "timestamp": 1582782823798,
     "user": {
      "displayName": "king jeff",
      "photoUrl": "",
      "userId": "00861212005360345850"
     },
     "user_tz": -480
    },
    "id": "EwPQ5D3MqnsE",
    "outputId": "3c9398ee-ec38-4bd1-c2b1-893212844791"
   },
   "outputs": [
    {
     "name": "stdout",
     "output_type": "stream",
     "text": [
      "(2084856, 2) (231651, 2)\n"
     ]
    }
   ],
   "source": [
    "ratings = pd.read_csv('~/Data/clean_rating4.csv').drop([\"id\"], axis = 1)\n",
    "\n",
    "idx_to_animes = list(set(ratings['anime_id'].tolist()))\n",
    "idx_to_users = list(set(ratings['user_id'].tolist()))\n",
    "anime_to_idx = {anime: idx for idx, anime in enumerate(idx_to_animes)}\n",
    "user_to_idx = {user: idx for idx, user in enumerate(idx_to_users)}\n",
    "num_users, num_animes = len(idx_to_users), len(idx_to_animes)\n",
    "\n",
    "train_ratio = 0.9\n",
    "# all_users = list(set(ratings.user_id))\n",
    "# train_sample = random.sample(all_users, int(num_users * train_ratio))\n",
    "# train_data = ratings[ratings.user_id.isin(train_sample)]\n",
    "# test_data = list(set(all_users) - set(train_sample))\n",
    "# print(train_data.shape)\n",
    "\n",
    "data_ps = np.array(ratings.values.tolist())[:, :-1]\n",
    "train_data = data_ps[:int(train_ratio * len(data_ps))]\n",
    "test_data = data_ps[int(train_ratio * len(data_ps)):]\n",
    "print(train_data.shape, test_data.shape)\n",
    "\n",
    "from collections import defaultdict\n",
    "user_item_dic, data_ps_list = defaultdict(list), []\n",
    "for d in train_data:\n",
    "    user_item_dic[user_to_idx[d[0]]].append(anime_to_idx[d[1]])\n",
    "    data_ps_list.append([user_to_idx[d[0]], anime_to_idx[d[1]]])\n",
    "    \n",
    "user_item_dic, data_ps = dict(user_item_dic), data_ps_list"
   ]
  },
  {
   "cell_type": "code",
   "execution_count": 3,
   "metadata": {},
   "outputs": [],
   "source": [
    "def get_hot_items():\n",
    "    animes = pd.read_csv(\"~/Data/anime.csv\")\n",
    "    animes = animes[animes[\"anime_id\"].isin(idx_to_animes)].loc[:, [\"anime_id\", \"rating\", \"members\"]].fillna(0)\n",
    "\n",
    "    scalar = lambda x: (x - np.min(x)) / (np.max(x) - np.min(x))\n",
    "    animes[\"rating_norm\"] = animes[[\"rating\"]].apply(scalar)\n",
    "    animes[\"members_norm\"] = animes[[\"members\"]].apply(scalar)\n",
    "    animes[\"weight\"] = 0.6 * animes[\"rating_norm\"] + 0.4 * animes[\"members_norm\"]\n",
    "    animes = animes.sort_values(by = \"weight\", ascending = False)\n",
    "    \n",
    "    return [anime_to_idx[i] for i in animes.anime_id.tolist()]"
   ]
  },
  {
   "cell_type": "code",
   "execution_count": 4,
   "metadata": {
    "colab": {},
    "colab_type": "code",
    "id": "7k-YI1ajMThk"
   },
   "outputs": [],
   "source": [
    "class NCFDataset(Data.Dataset):\n",
    "    def __init__(self, data_ps, users, num_items, hot_items, dic, num_ng = 100):\n",
    "        super(NCFDataset, self).__init__()\n",
    "        self.data_ps = data_ps\n",
    "#         self.train_sample = train_sample\n",
    "        self.users = users\n",
    "        self.num_items = num_items\n",
    "        self.num_ng = num_ng\n",
    "        self.hot_items = hot_items\n",
    "        self.dic = dic\n",
    "\n",
    "    def select_ng(self):\n",
    "        self.data_ng, num = [], 0\n",
    "        for u in self.users:\n",
    "            for item in self.hot_items:\n",
    "                if item not in self.dic[u]:\n",
    "                    self.data_ng.append([u, item])\n",
    "                    num += 1\n",
    "                if num == self.num_ng: break\n",
    "            \n",
    "            num = 0\n",
    "                \n",
    "        print(len(self.data_ng))\n",
    "        self.label_ps = [1 for i in range(len(self.data_ps))]\n",
    "        self.label_ng = [0 for i in range(len(self.data_ng))]\n",
    "        self.data = self.data_ps + self.data_ng\n",
    "        self.label = self.label_ps + self.label_ng\n",
    "\n",
    "    def __getitem__(self, idx):\n",
    "        user = self.data[idx][0]\n",
    "        item = self.data[idx][1]\n",
    "        label = self.label[idx]\n",
    "\n",
    "        return user, item, label\n",
    "\n",
    "    def __len__(self):\n",
    "        return self.num_ng * len(self.users) + len(self.data_ps)"
   ]
  },
  {
   "cell_type": "code",
   "execution_count": 7,
   "metadata": {
    "colab": {},
    "colab_type": "code",
    "id": "Q4rdKXtv6Sd_",
    "jupyter": {
     "source_hidden": true
    }
   },
   "outputs": [],
   "source": [
    "def train_data_iter(train_data, batch_size = 5000):\n",
    "    user_inputs, item_inputs, labels = [], [], []\n",
    "    for u in range(len(train_data)):\n",
    "        for i in range(len(train_data[0])):\n",
    "            user_inputs.append(u)\n",
    "            item_inputs.append(i)\n",
    "            labels.append(train_data[u, i])\n",
    "            \n",
    "            if len(user_inputs) == batch_size:\n",
    "                yield torch.LongTensor(user_inputs), torch.LongTensor(item_inputs), torch.LongTensor(labels)\n",
    "            user_inputs, item_inputs, labels = [], [], []"
   ]
  },
  {
   "cell_type": "code",
   "execution_count": 8,
   "metadata": {
    "colab": {},
    "colab_type": "code",
    "id": "E0fkycKsl7k7",
    "jupyter": {
     "source_hidden": true
    }
   },
   "outputs": [],
   "source": [
    "def test_data_iter(test_data):\n",
    "    ng_items, ps_items = [], []\n",
    "    for u in range(len(test_data)):\n",
    "        for i in range(len(test_data[0])):\n",
    "            if test_data[u, i] == 0:\n",
    "                ng_items.append(i)\n",
    "            else:\n",
    "                ps_items.append(i)\n",
    "\n",
    "        yield torch.LongTensor([u for _ in range(len(ng_items))]), torch.LongTensor(ng_items), torch.LongTensor(ps_items)\n",
    "        ng_items, ps_items = [], []"
   ]
  },
  {
   "cell_type": "code",
   "execution_count": 5,
   "metadata": {
    "colab": {
     "base_uri": "https://localhost:8080/",
     "height": 35
    },
    "colab_type": "code",
    "executionInfo": {
     "elapsed": 748,
     "status": "ok",
     "timestamp": 1582783147623,
     "user": {
      "displayName": "king jeff",
      "photoUrl": "",
      "userId": "00861212005360345850"
     },
     "user_tz": -480
    },
    "id": "fx9x_lVBVOgO",
    "outputId": "9dd2b7b2-069e-4828-97d7-bdaeed34278f"
   },
   "outputs": [
    {
     "name": "stdout",
     "output_type": "stream",
     "text": [
      "424400\n"
     ]
    }
   ],
   "source": [
    "batch_size = 1024\n",
    "users = [user_to_idx[i] for i in list(set(train_data[:, 0]))]\n",
    "dataset = NCFDataset(data_ps, users, num_animes, get_hot_items(), user_item_dic, num_ng = 100)\n",
    "dataset.select_ng()\n",
    "data_iter = Data.DataLoader(dataset, batch_size = batch_size, shuffle = True)"
   ]
  },
  {
   "cell_type": "code",
   "execution_count": 6,
   "metadata": {
    "colab": {
     "base_uri": "https://localhost:8080/",
     "height": 341
    },
    "colab_type": "code",
    "executionInfo": {
     "elapsed": 879,
     "status": "ok",
     "timestamp": 1582783159809,
     "user": {
      "displayName": "king jeff",
      "photoUrl": "",
      "userId": "00861212005360345850"
     },
     "user_tz": -480
    },
    "id": "gApTtGldU-Cj",
    "outputId": "d5f04ed0-993d-484f-c25c-fbb3f27d0bf3"
   },
   "outputs": [],
   "source": [
    "class NCF(nn.Module):\n",
    "    def __init__(self, num_users, num_items, model, factor_num = 8, num_layers = 3,\n",
    "               MLP_model = None, GMF_model = None, alpha = 0.5, dropout = 0.5):\n",
    "        super(NCF, self).__init__()\n",
    "        self.MLP_model = MLP_model\n",
    "        self.GMF_model = GMF_model\n",
    "        self.alpha = alpha\n",
    "        self.dropout = dropout\n",
    "        self.user_embed_GMF = nn.Embedding(num_users, factor_num)\n",
    "        self.item_embed_GMF = nn.Embedding(num_items, factor_num)\n",
    "        self.user_embed_MLP = nn.Embedding(num_users, factor_num * (2 ** (num_layers - 1)))\n",
    "        self.item_embed_MLP = nn.Embedding(num_items, factor_num * (2 ** (num_layers - 1)))\n",
    "\n",
    "        self.MLP = nn.Sequential(\n",
    "            nn.Dropout(p = self.dropout),\n",
    "            nn.Linear(factor_num * (2 ** num_layers), factor_num * (2 ** (num_layers - 1))),\n",
    "            nn.ReLU()\n",
    "        )\n",
    "        for layer in range(num_layers - 1, 0, -1):\n",
    "            self.MLP.add_module('dropout' + str(num_layers - layer), nn.Dropout(p = self.dropout))\n",
    "            self.MLP.add_module('linear' + str(num_layers - layer), nn.Linear(factor_num * (2 ** layer), factor_num * (2 ** (layer - 1))))\n",
    "            self.MLP.add_module('relu' + str(num_layers - layer), nn.ReLU())\n",
    "\n",
    "        self.model = model\n",
    "        if self.model in ['GMF', 'MLP']:\n",
    "            self.NeuMF = nn.Linear(factor_num, 1)\n",
    "        else:\n",
    "            self.NeuMF = nn.Linear(2 * factor_num, 1)\n",
    "\n",
    "        self.__init_weights__()\n",
    "\n",
    "    def __init_weights__(self):\n",
    "        if self.model in ['GMF', 'MLP']:\n",
    "            nn.init.normal_(self.user_embed_GMF.weight, std = 0.01)\n",
    "            nn.init.normal_(self.item_embed_GMF.weight, std = 0.01)\n",
    "            nn.init.normal_(self.user_embed_MLP.weight, std = 0.01)\n",
    "            nn.init.normal_(self.item_embed_MLP.weight, std = 0.01)\n",
    "\n",
    "            for layer in self.MLP:\n",
    "                if isinstance(layer, nn.Linear):\n",
    "                    nn.init.xavier_uniform_(layer.weight)\n",
    "#                   nn.init.normal_(layer.weight, std = 0.01)\n",
    "\n",
    "            nn.init.kaiming_uniform_(self.NeuMF.weight, a = 1, nonlinearity = 'sigmoid')\n",
    "#             nn.init.normal_(self.NeuMF.weight, std = 0.01)\n",
    "\n",
    "        elif self.GMF_model and self.MLP_model:\n",
    "            self.user_embed_GMF.weight.data.copy_(self.GMF_model.user_embed_GMF.weight)\n",
    "            self.item_embed_GMF.weight.data.copy_(self.GMF_model.item_embed_GMF.weight)\n",
    "            self.user_embed_MLP.weight.data.copy_(self.MLP_model.user_embed_MLP.weight)\n",
    "            self.item_embed_MLP.weight.data.copy_(self.MLP_model.item_embed_MLP.weight)\n",
    "\n",
    "            for (m1, m2) in zip(self.MLP, self.MLP_model.MLP):\n",
    "                if isinstance(m1, nn.Linear) and isinstance(m2, nn.Linear):\n",
    "                    m1.weight.data.copy_(m2.weight)\n",
    "                    m1.bias.data.copy_(m2.bias)\n",
    "\n",
    "            NeuMF_weight = torch.cat((self.alpha * self.GMF_model.NeuMF.weight, (1 - self.alpha) * self.MLP_model.NeuMF.weight), 1)\n",
    "            NeuMF_bias = self.GMF_model.NeuMF.bias + self.MLP_model.NeuMF.bias\n",
    "\n",
    "            self.NeuMF.weight.data.copy_(NeuMF_weight)\n",
    "            self.NeuMF.bias.data.copy_(NeuMF_bias)\n",
    "            \n",
    "    def forward(self, user, item):\n",
    "        if self.model is 'GMF' or 'NCF':\n",
    "            user_embed_GMF = self.user_embed_GMF(user)\n",
    "            item_embed_GMF = self.item_embed_GMF(item)\n",
    "            \n",
    "#             print(user_embed_GMF.device, item_embed_GMF.decive)\n",
    "            GMF_output = user_embed_GMF * item_embed_GMF\n",
    "\n",
    "        if self.model is 'MLP' or 'NCF':\n",
    "            user_embed_MLP = self.user_embed_MLP(user)\n",
    "            item_embed_MLP = self.item_embed_MLP(item)\n",
    "\n",
    "            MLP_input = torch.cat((user_embed_MLP, item_embed_MLP), 1)\n",
    "            MLP_output = self.MLP(MLP_input)\n",
    "\n",
    "        if self.model is 'NCF':\n",
    "            return self.NeuMF(torch.cat((MLP_output, GMF_output), 1))\n",
    "        elif self.model is 'MLP':\n",
    "            return self.NeuMF(MLP_output)\n",
    "        elif self.model is 'GMF':\n",
    "            return self.NeuMF(GMF_output)"
   ]
  },
  {
   "cell_type": "code",
   "execution_count": 7,
   "metadata": {
    "colab": {},
    "colab_type": "code",
    "id": "yMMtvfYqjBuV"
   },
   "outputs": [],
   "source": [
    "def train(net, num_epochs, lr, train_type = 'NCF'):\n",
    "    print(train_type)\n",
    "    device = torch.device('cuda' if torch.cuda.is_available() else 'cpu')\n",
    "#     device = torch.device('cpu')\n",
    "    print('train on', device)\n",
    "    net = net.to(device)\n",
    "    optimizer = torch.optim.Adam(net.parameters(), lr = lr)\n",
    "    loss = nn.BCEWithLogitsLoss()\n",
    "    for epoch in range(num_epochs):\n",
    "        l_sum,n = 0, 0\n",
    "        for user, item, label in data_iter:\n",
    "            user = user.to(device)\n",
    "            item = item.to(device)\n",
    "            label = label.to(device)\n",
    "            pred = net(user, item)\n",
    "            l = loss(pred.view(label.shape), label.float())\n",
    "\n",
    "            optimizer.zero_grad()\n",
    "            l.backward()\n",
    "            optimizer.step()\n",
    "            l_sum += l.cpu().item()\n",
    "            n += 1\n",
    "\n",
    "        print(epoch + 1, l_sum / n)"
   ]
  },
  {
   "cell_type": "code",
   "execution_count": 8,
   "metadata": {
    "colab": {
     "base_uri": "https://localhost:8080/",
     "height": 665
    },
    "colab_type": "code",
    "executionInfo": {
     "elapsed": 1626318,
     "status": "ok",
     "timestamp": 1582784794369,
     "user": {
      "displayName": "king jeff",
      "photoUrl": "",
      "userId": "00861212005360345850"
     },
     "user_tz": -480
    },
    "id": "yh7mILPNMtMf",
    "outputId": "46c39d07-b22b-4946-e0d3-ff034778924a"
   },
   "outputs": [
    {
     "name": "stdout",
     "output_type": "stream",
     "text": [
      "MLP\n",
      "train on cuda\n",
      "1 0.38043207838456516\n",
      "2 0.24733153279826672\n",
      "3 0.23715683074933275\n",
      "4 0.23042895349737383\n",
      "5 0.2262595253835061\n",
      "6 0.22409595131436352\n",
      "7 0.22269748160421776\n",
      "8 0.22180199520362245\n",
      "9 0.22103478967146403\n",
      "10 0.22028064466967284\n",
      "11 0.2196555227065563\n",
      "12 0.21912138579281823\n",
      "13 0.21836897344771136\n",
      "14 0.21794458696643754\n",
      "15 0.21754849865965725\n",
      "16 0.21689254499634447\n",
      "17 0.21656830197862098\n",
      "18 0.2160119326539742\n",
      "19 0.2155003036250391\n",
      "20 0.2149459900891523\n",
      "21 0.2146112639677374\n",
      "22 0.21403273056716834\n",
      "23 0.21383292911029358\n",
      "24 0.21325034979215596\n",
      "25 0.21292503455958528\n",
      "26 0.2127088614200291\n",
      "27 0.21207381049889246\n",
      "28 0.21183964979741\n",
      "29 0.2115573250775627\n",
      "30 0.21122533772391525\n",
      "GMF\n",
      "train on cuda\n",
      "1 0.5636462153390397\n",
      "2 0.47374491890271503\n",
      "3 0.3668377446379286\n",
      "4 0.29745248585684064\n",
      "5 0.26370320257874036\n",
      "6 0.2473057594191342\n",
      "7 0.23846756034313732\n",
      "8 0.23326490885114146\n",
      "9 0.22995337637187704\n",
      "10 0.22769977684314763\n",
      "11 0.22601160033777362\n",
      "12 0.22462381713125765\n",
      "13 0.2233300730069284\n",
      "14 0.22200380355083227\n",
      "15 0.22054021030676604\n",
      "16 0.21884751739987351\n",
      "17 0.21687865620216804\n",
      "18 0.21462976334290523\n",
      "19 0.2121844315215161\n",
      "20 0.20967458063901467\n",
      "21 0.20726509665236673\n",
      "22 0.20508608962506092\n",
      "23 0.20325981569941898\n",
      "24 0.20177370815654522\n",
      "25 0.20060802182704757\n",
      "26 0.19968899055822972\n",
      "27 0.19892115307335753\n",
      "28 0.1982490408121445\n",
      "29 0.1976195263502696\n",
      "30 0.19698750043173122\n",
      "NCF\n",
      "train on cuda\n",
      "1 0.25354990732154276\n",
      "2 0.20841840124772257\n",
      "3 0.20375004435670177\n",
      "4 0.19975003853640913\n",
      "5 0.19619131322930367\n",
      "6 0.1931911110452417\n",
      "7 0.1908693365944205\n",
      "8 0.18888282704747292\n",
      "9 0.18732423930205117\n",
      "10 0.1859839150415348\n",
      "11 0.18481607664633362\n",
      "12 0.1839026598870049\n",
      "13 0.18272573620944255\n",
      "14 0.18160094546936134\n",
      "15 0.18078349629186796\n",
      "16 0.17984730243585587\n",
      "17 0.17884751741543733\n",
      "18 0.17795698987323866\n",
      "19 0.17695109982093662\n",
      "20 0.17603260896391695\n",
      "21 0.17511479286017198\n",
      "22 0.17422080809050605\n",
      "23 0.17336120450681494\n",
      "24 0.17256237310518882\n",
      "25 0.1716089973348542\n",
      "26 0.17082272514378669\n",
      "27 0.1701197278032688\n",
      "28 0.16933421585108493\n",
      "29 0.16862253491511786\n",
      "30 0.16783079848465557\n"
     ]
    }
   ],
   "source": [
    "MLP_net = NCF(num_users, num_animes, model = 'MLP')\n",
    "train(MLP_net, 30, lr = 0.0001, train_type = 'MLP')\n",
    "\n",
    "GMF_net = NCF(num_users, num_animes, model = 'GMF')\n",
    "train(GMF_net, 30, lr = 0.0001, train_type = 'GMF')\n",
    "\n",
    "NCF_net = NCF(num_users, num_animes, model = 'NCF', GMF_model = GMF_net, MLP_model = MLP_net)\n",
    "train(NCF_net, 30, lr = 0.0001)"
   ]
  },
  {
   "cell_type": "code",
   "execution_count": 9,
   "metadata": {
    "colab": {},
    "colab_type": "code",
    "id": "IMTUjG-KlpWT"
   },
   "outputs": [],
   "source": [
    "def metrics(net, test_data, bound):\n",
    "    users = list(set(test_data[:,0]))\n",
    "    recall, precise = [], []\n",
    "    for user in users:\n",
    "        all_items = torch.LongTensor([i for i in range(num_animes)]).cuda()\n",
    "        test_user = torch.LongTensor([user for i in range(num_animes)]).cuda()\n",
    "        pred = net(test_user, all_items)\n",
    "        _, idx = torch.topk(pred, k = 5, dim = 0)\n",
    "        \n",
    "        target = [anime_to_idx[i[1]] for i in ratings[ratings.user_id == user].values if i[2] > bound]\n",
    "        if not target: continue\n",
    "        idx = idx.cpu().numpy().flatten()\n",
    "        overlap = list(set(target) & set(idx))\n",
    "#         print(overlap)\n",
    "        recall.append(len(overlap) / len(target))\n",
    "        precise.append(len(overlap) / len(idx))\n",
    "        \n",
    "    return np.mean(precise)"
   ]
  },
  {
   "cell_type": "code",
   "execution_count": 97,
   "metadata": {},
   "outputs": [],
   "source": [
    "torch.save(NCF_net.state_dict(), \"NCF.pt\")\n",
    "torch.save(GMF_net.state_dict(), \"GMF.pt\")\n",
    "torch.save(MLP_net.state_dict(), \"MLP.pt\")"
   ]
  },
  {
   "cell_type": "code",
   "execution_count": 10,
   "metadata": {},
   "outputs": [
    {
     "name": "stdout",
     "output_type": "stream",
     "text": [
      "0.1777292576419214\n",
      "0.18995633187772926\n",
      "0.1646288209606987\n",
      "0.17729257641921395\n",
      "0.1685589519650655\n",
      "0.15807860262008736\n",
      "0.12532751091703057\n",
      "0.08602620087336246\n",
      "0.035371179039301315\n",
      "0.013245033112582781\n",
      "[0.1777292576419214, 0.18995633187772926, 0.1646288209606987, 0.17729257641921395, 0.1685589519650655, 0.15807860262008736, 0.12532751091703057, 0.08602620087336246, 0.035371179039301315, 0.013245033112582781]\n"
     ]
    }
   ],
   "source": [
    "# model = NCF(num_users, num_animes, model = 'NCF', GMF_model = GMF_net, MLP_model = MLP_net).cuda()\n",
    "# model.load_state_dict(torch.load(\"NCF.pt\"))\n",
    "precise = []\n",
    "for bound in range(10):\n",
    "    precise.append(metrics(NCF_net, test_data, bound))\n",
    "    print(precise[-1])\n",
    "print(precise)"
   ]
  }
 ],
 "metadata": {
  "accelerator": "GPU",
  "colab": {
   "authorship_tag": "ABX9TyMIrs4udGF4i0DSXmyPQxBf",
   "collapsed_sections": [],
   "name": "NCF.ipynb",
   "provenance": []
  },
  "kernelspec": {
   "display_name": "Python 3",
   "language": "python",
   "name": "python3"
  },
  "language_info": {
   "codemirror_mode": {
    "name": "ipython",
    "version": 3
   },
   "file_extension": ".py",
   "mimetype": "text/x-python",
   "name": "python",
   "nbconvert_exporter": "python",
   "pygments_lexer": "ipython3",
   "version": "3.7.4"
  }
 },
 "nbformat": 4,
 "nbformat_minor": 4
}
