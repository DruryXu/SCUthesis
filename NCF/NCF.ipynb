{
 "cells": [
  {
   "cell_type": "code",
   "execution_count": 13,
   "metadata": {
    "colab": {},
    "colab_type": "code",
    "id": "-oKuADFDpu37"
   },
   "outputs": [],
   "source": [
    "import torch\n",
    "import torch.nn as nn\n",
    "import pandas as pd\n",
    "import numpy as np\n",
    "import torch.utils.data as Data\n",
    "import random\n",
    "import math"
   ]
  },
  {
   "cell_type": "code",
   "execution_count": 14,
   "metadata": {},
   "outputs": [],
   "source": [
    "def get_data(ratings, ratio):\n",
    "    uids, aids = list(set(ratings.user_id.tolist())), list(set(ratings.anime_id.tolist()))\n",
    "    train_data, test_data = [], []\n",
    "    for u in uids:\n",
    "        if not uids.index(u) % 100: print(uids.index(u))\n",
    "        for r in range(1, 11):\n",
    "            temp = ratings[(ratings.user_id == u) & (ratings.rating == r)].values.tolist()\n",
    "            if not temp: \n",
    "                continue\n",
    "            \n",
    "            test_data += temp[int(len(temp) * ratio):]\n",
    "            train_data += temp[:int(len(temp) * ratio)]\n",
    "    \n",
    "    train_data += ratings[ratings.rating == -1].values.tolist()\n",
    "    return train_data, test_data"
   ]
  },
  {
   "cell_type": "code",
   "execution_count": 15,
   "metadata": {
    "colab": {
     "base_uri": "https://localhost:8080/",
     "height": 71
    },
    "colab_type": "code",
    "executionInfo": {
     "elapsed": 9188,
     "status": "ok",
     "timestamp": 1582782823798,
     "user": {
      "displayName": "king jeff",
      "photoUrl": "",
      "userId": "00861212005360345850"
     },
     "user_tz": -480
    },
    "id": "EwPQ5D3MqnsE",
    "outputId": "3c9398ee-ec38-4bd1-c2b1-893212844791"
   },
   "outputs": [],
   "source": [
    "ratings = pd.read_csv('~/Data/clean_rating4.csv').drop([\"id\"], axis = 1)\n",
    "\n",
    "idx_to_animes = list(set(ratings['anime_id'].tolist()))\n",
    "idx_to_users = list(set(ratings['user_id'].tolist()))\n",
    "anime_to_idx = {anime: idx for idx, anime in enumerate(idx_to_animes)}\n",
    "user_to_idx = {user: idx for idx, user in enumerate(idx_to_users)}\n",
    "num_users, num_animes = len(idx_to_users), len(idx_to_animes)\n",
    "\n",
    "train_ratio = 0.9"
   ]
  },
  {
   "cell_type": "code",
   "execution_count": 3,
   "metadata": {
    "colab": {
     "base_uri": "https://localhost:8080/",
     "height": 71
    },
    "colab_type": "code",
    "executionInfo": {
     "elapsed": 9188,
     "status": "ok",
     "timestamp": 1582782823798,
     "user": {
      "displayName": "king jeff",
      "photoUrl": "",
      "userId": "00861212005360345850"
     },
     "user_tz": -480
    },
    "id": "EwPQ5D3MqnsE",
    "outputId": "3c9398ee-ec38-4bd1-c2b1-893212844791"
   },
   "outputs": [],
   "source": [
    "train_data, test_data = get_data(ratings, 0.7)"
   ]
  },
  {
   "cell_type": "code",
   "execution_count": 4,
   "metadata": {
    "colab": {
     "base_uri": "https://localhost:8080/",
     "height": 71
    },
    "colab_type": "code",
    "executionInfo": {
     "elapsed": 9188,
     "status": "ok",
     "timestamp": 1582782823798,
     "user": {
      "displayName": "king jeff",
      "photoUrl": "",
      "userId": "00861212005360345850"
     },
     "user_tz": -480
    },
    "id": "EwPQ5D3MqnsE",
    "outputId": "3c9398ee-ec38-4bd1-c2b1-893212844791"
   },
   "outputs": [],
   "source": [
    "train_df = pd.DataFrame(train_data, columns = [\"user\", \"anime\", \"rating\"])\n",
    "test_df = pd.DataFrame(test_data, columns = [\"user\", \"anime\", \"rating\"])\n",
    "\n",
    "train_df.to_csv(\"train2.csv\", index = False)\n",
    "test_df.to_csv(\"test2.csv\", index = False)"
   ]
  },
  {
   "cell_type": "code",
   "execution_count": 7,
   "metadata": {},
   "outputs": [
    {
     "name": "stdout",
     "output_type": "stream",
     "text": [
      "1636407 680100\n"
     ]
    }
   ],
   "source": [
    "print(len(train_data), len(test_data))"
   ]
  },
  {
   "cell_type": "code",
   "execution_count": 17,
   "metadata": {},
   "outputs": [],
   "source": [
    "from collections import defaultdict\n",
    "train_data = pd.read_csv(\"train.csv\").values.tolist()\n",
    "user_item_dic, data_ps_list = defaultdict(list), []\n",
    "for d in train_data:\n",
    "    user_item_dic[user_to_idx[d[0]]].append(anime_to_idx[d[1]])\n",
    "    data_ps_list.append([user_to_idx[d[0]], anime_to_idx[d[1]]])\n",
    "    \n",
    "user_item_dic, data_ps = dict(user_item_dic), data_ps_list"
   ]
  },
  {
   "cell_type": "code",
   "execution_count": 18,
   "metadata": {},
   "outputs": [],
   "source": [
    "def get_hot_items():\n",
    "    animes = pd.read_csv(\"~/Data/anime.csv\")\n",
    "    animes = animes[animes[\"anime_id\"].isin(idx_to_animes)].loc[:, [\"anime_id\", \"rating\", \"members\"]].fillna(0)\n",
    "\n",
    "    scalar = lambda x: (x - np.min(x)) / (np.max(x) - np.min(x))\n",
    "    animes[\"rating_norm\"] = animes[[\"rating\"]].apply(scalar)\n",
    "    animes[\"members_norm\"] = animes[[\"members\"]].apply(scalar)\n",
    "    animes[\"weight\"] = 0.6 * animes[\"rating_norm\"] + 0.4 * animes[\"members_norm\"]\n",
    "    animes = animes.sort_values(by = \"weight\", ascending = False)\n",
    "    \n",
    "    return [anime_to_idx[i] for i in animes.anime_id.tolist()]"
   ]
  },
  {
   "cell_type": "code",
   "execution_count": 19,
   "metadata": {
    "colab": {},
    "colab_type": "code",
    "id": "7k-YI1ajMThk"
   },
   "outputs": [],
   "source": [
    "class NCFDataset(Data.Dataset):\n",
    "    def __init__(self, data_ps, users, num_items, hot_items, dic, num_ng = 100):\n",
    "        super(NCFDataset, self).__init__()\n",
    "        self.data_ps = data_ps\n",
    "#         self.train_sample = train_sample\n",
    "        self.users = users\n",
    "        self.num_items = num_items\n",
    "        self.num_ng = num_ng\n",
    "        self.hot_items = hot_items\n",
    "        self.dic = dic\n",
    "\n",
    "    def select_ng(self):\n",
    "        self.data_ng, num = [], 0\n",
    "        for u in self.users:\n",
    "            for item in self.hot_items:\n",
    "                if item not in self.dic[u]:\n",
    "                    self.data_ng.append([u, item])\n",
    "                    num += 1\n",
    "                if num == self.num_ng: break\n",
    "            \n",
    "            num = 0\n",
    "                \n",
    "        print(len(self.data_ng))\n",
    "        self.label_ps = [1 for i in range(len(self.data_ps))]\n",
    "        self.label_ng = [0 for i in range(len(self.data_ng))]\n",
    "        self.data = self.data_ps + self.data_ng\n",
    "        self.label = self.label_ps + self.label_ng\n",
    "\n",
    "    def __getitem__(self, idx):\n",
    "        user = self.data[idx][0]\n",
    "        item = self.data[idx][1]\n",
    "        label = self.label[idx]\n",
    "\n",
    "        return user, item, label\n",
    "\n",
    "    def __len__(self):\n",
    "        return self.num_ng * len(self.users) + len(self.data_ps)"
   ]
  },
  {
   "cell_type": "code",
   "execution_count": 7,
   "metadata": {
    "colab": {},
    "colab_type": "code",
    "id": "Q4rdKXtv6Sd_",
    "jupyter": {
     "source_hidden": true
    }
   },
   "outputs": [],
   "source": [
    "def train_data_iter(train_data, batch_size = 5000):\n",
    "    user_inputs, item_inputs, labels = [], [], []\n",
    "    for u in range(len(train_data)):\n",
    "        for i in range(len(train_data[0])):\n",
    "            user_inputs.append(u)\n",
    "            item_inputs.append(i)\n",
    "            labels.append(train_data[u, i])\n",
    "            \n",
    "            if len(user_inputs) == batch_size:\n",
    "                yield torch.LongTensor(user_inputs), torch.LongTensor(item_inputs), torch.LongTensor(labels)\n",
    "            user_inputs, item_inputs, labels = [], [], []"
   ]
  },
  {
   "cell_type": "code",
   "execution_count": 8,
   "metadata": {
    "colab": {},
    "colab_type": "code",
    "id": "E0fkycKsl7k7",
    "jupyter": {
     "source_hidden": true
    }
   },
   "outputs": [],
   "source": [
    "def test_data_iter(test_data):\n",
    "    ng_items, ps_items = [], []\n",
    "    for u in range(len(test_data)):\n",
    "        for i in range(len(test_data[0])):\n",
    "            if test_data[u, i] == 0:\n",
    "                ng_items.append(i)\n",
    "            else:\n",
    "                ps_items.append(i)\n",
    "\n",
    "        yield torch.LongTensor([u for _ in range(len(ng_items))]), torch.LongTensor(ng_items), torch.LongTensor(ps_items)\n",
    "        ng_items, ps_items = [], []"
   ]
  },
  {
   "cell_type": "code",
   "execution_count": 27,
   "metadata": {
    "colab": {
     "base_uri": "https://localhost:8080/",
     "height": 35
    },
    "colab_type": "code",
    "executionInfo": {
     "elapsed": 748,
     "status": "ok",
     "timestamp": 1582783147623,
     "user": {
      "displayName": "king jeff",
      "photoUrl": "",
      "userId": "00861212005360345850"
     },
     "user_tz": -480
    },
    "id": "fx9x_lVBVOgO",
    "outputId": "9dd2b7b2-069e-4828-97d7-bdaeed34278f"
   },
   "outputs": [
    {
     "name": "stdout",
     "output_type": "stream",
     "text": [
      "470100\n"
     ]
    }
   ],
   "source": [
    "batch_size = 4096\n",
    "users = [user_to_idx[i] for i in list(set(ratings.user_id.tolist()))]\n",
    "dataset = NCFDataset(data_ps, users, num_animes, get_hot_items(), user_item_dic, num_ng = 100)\n",
    "dataset.select_ng()\n",
    "data_iter = Data.DataLoader(dataset, batch_size = batch_size, shuffle = True)"
   ]
  },
  {
   "cell_type": "code",
   "execution_count": 21,
   "metadata": {
    "colab": {
     "base_uri": "https://localhost:8080/",
     "height": 341
    },
    "colab_type": "code",
    "executionInfo": {
     "elapsed": 879,
     "status": "ok",
     "timestamp": 1582783159809,
     "user": {
      "displayName": "king jeff",
      "photoUrl": "",
      "userId": "00861212005360345850"
     },
     "user_tz": -480
    },
    "id": "gApTtGldU-Cj",
    "outputId": "d5f04ed0-993d-484f-c25c-fbb3f27d0bf3"
   },
   "outputs": [],
   "source": [
    "class NCF(nn.Module):\n",
    "    def __init__(self, num_users, num_items, model, factor_num = 8, num_layers = 3,\n",
    "               MLP_model = None, GMF_model = None, alpha = 0.5, dropout = 0.5):\n",
    "        super(NCF, self).__init__()\n",
    "        self.MLP_model = MLP_model\n",
    "        self.GMF_model = GMF_model\n",
    "        self.alpha = alpha\n",
    "        self.dropout = dropout\n",
    "        self.user_embed_GMF = nn.Embedding(num_users, factor_num)\n",
    "        self.item_embed_GMF = nn.Embedding(num_items, factor_num)\n",
    "        self.user_embed_MLP = nn.Embedding(num_users, factor_num * (2 ** (num_layers - 1)))\n",
    "        self.item_embed_MLP = nn.Embedding(num_items, factor_num * (2 ** (num_layers - 1)))\n",
    "\n",
    "        self.MLP = nn.Sequential(\n",
    "            nn.Dropout(p = self.dropout),\n",
    "            nn.Linear(factor_num * (2 ** num_layers), factor_num * (2 ** (num_layers - 1))),\n",
    "            nn.ReLU()\n",
    "        )\n",
    "        for layer in range(num_layers - 1, 0, -1):\n",
    "            self.MLP.add_module('dropout' + str(num_layers - layer), nn.Dropout(p = self.dropout))\n",
    "            self.MLP.add_module('linear' + str(num_layers - layer), nn.Linear(factor_num * (2 ** layer), factor_num * (2 ** (layer - 1))))\n",
    "            self.MLP.add_module('relu' + str(num_layers - layer), nn.ReLU())\n",
    "\n",
    "        self.model = model\n",
    "        if self.model in ['GMF', 'MLP']:\n",
    "            self.NeuMF = nn.Linear(factor_num, 1)\n",
    "        else:\n",
    "            self.NeuMF = nn.Linear(2 * factor_num, 1)\n",
    "\n",
    "        self.__init_weights__()\n",
    "\n",
    "    def __init_weights__(self):\n",
    "        if self.model in ['GMF', 'MLP']:\n",
    "            nn.init.normal_(self.user_embed_GMF.weight, std = 0.01)\n",
    "            nn.init.normal_(self.item_embed_GMF.weight, std = 0.01)\n",
    "            nn.init.normal_(self.user_embed_MLP.weight, std = 0.01)\n",
    "            nn.init.normal_(self.item_embed_MLP.weight, std = 0.01)\n",
    "\n",
    "            for layer in self.MLP:\n",
    "                if isinstance(layer, nn.Linear):\n",
    "                    nn.init.xavier_uniform_(layer.weight)\n",
    "#                   nn.init.normal_(layer.weight, std = 0.01)\n",
    "\n",
    "            nn.init.kaiming_uniform_(self.NeuMF.weight, a = 1, nonlinearity = 'sigmoid')\n",
    "#             nn.init.normal_(self.NeuMF.weight, std = 0.01)\n",
    "\n",
    "        elif self.GMF_model and self.MLP_model:\n",
    "            self.user_embed_GMF.weight.data.copy_(self.GMF_model.user_embed_GMF.weight)\n",
    "            self.item_embed_GMF.weight.data.copy_(self.GMF_model.item_embed_GMF.weight)\n",
    "            self.user_embed_MLP.weight.data.copy_(self.MLP_model.user_embed_MLP.weight)\n",
    "            self.item_embed_MLP.weight.data.copy_(self.MLP_model.item_embed_MLP.weight)\n",
    "\n",
    "            for (m1, m2) in zip(self.MLP, self.MLP_model.MLP):\n",
    "                if isinstance(m1, nn.Linear) and isinstance(m2, nn.Linear):\n",
    "                    m1.weight.data.copy_(m2.weight)\n",
    "                    m1.bias.data.copy_(m2.bias)\n",
    "\n",
    "            NeuMF_weight = torch.cat((self.alpha * self.GMF_model.NeuMF.weight, (1 - self.alpha) * self.MLP_model.NeuMF.weight), 1)\n",
    "            NeuMF_bias = self.GMF_model.NeuMF.bias + self.MLP_model.NeuMF.bias\n",
    "\n",
    "            self.NeuMF.weight.data.copy_(NeuMF_weight)\n",
    "            self.NeuMF.bias.data.copy_(NeuMF_bias)\n",
    "            \n",
    "    def forward(self, user, item):\n",
    "        if self.model is 'GMF' or 'NCF':\n",
    "            user_embed_GMF = self.user_embed_GMF(user)\n",
    "            item_embed_GMF = self.item_embed_GMF(item)\n",
    "            \n",
    "#             print(user_embed_GMF.device, item_embed_GMF.decive)\n",
    "            GMF_output = user_embed_GMF * item_embed_GMF\n",
    "\n",
    "        if self.model is 'MLP' or 'NCF':\n",
    "            user_embed_MLP = self.user_embed_MLP(user)\n",
    "            item_embed_MLP = self.item_embed_MLP(item)\n",
    "\n",
    "            MLP_input = torch.cat((user_embed_MLP, item_embed_MLP), 1)\n",
    "            MLP_output = self.MLP(MLP_input)\n",
    "\n",
    "        if self.model is 'NCF':\n",
    "            return self.NeuMF(torch.cat((MLP_output, GMF_output), 1))\n",
    "        elif self.model is 'MLP':\n",
    "            return self.NeuMF(MLP_output)\n",
    "        elif self.model is 'GMF':\n",
    "            return self.NeuMF(GMF_output)"
   ]
  },
  {
   "cell_type": "code",
   "execution_count": 22,
   "metadata": {
    "colab": {},
    "colab_type": "code",
    "id": "yMMtvfYqjBuV"
   },
   "outputs": [],
   "source": [
    "def train(net, num_epochs, lr, train_type = 'NCF'):\n",
    "    print(train_type)\n",
    "    device = torch.device('cuda' if torch.cuda.is_available() else 'cpu')\n",
    "#     device = torch.device('cpu')\n",
    "    print('train on', device)\n",
    "    net = net.to(device)\n",
    "    optimizer = torch.optim.Adam(net.parameters(), lr = lr)\n",
    "    loss = nn.BCEWithLogitsLoss()\n",
    "    for epoch in range(num_epochs):\n",
    "        l_sum,n = 0, 0\n",
    "        for user, item, label in data_iter:\n",
    "            user = user.to(device)\n",
    "            item = item.to(device)\n",
    "            label = label.to(device)\n",
    "            pred = net(user, item)\n",
    "            l = loss(pred.view(label.shape), label.float())\n",
    "\n",
    "            optimizer.zero_grad()\n",
    "            l.backward()\n",
    "            optimizer.step()\n",
    "            l_sum += l.cpu().item()\n",
    "            n += 1\n",
    "\n",
    "        print(epoch + 1, l_sum / n)"
   ]
  },
  {
   "cell_type": "code",
   "execution_count": 28,
   "metadata": {
    "colab": {
     "base_uri": "https://localhost:8080/",
     "height": 665
    },
    "colab_type": "code",
    "executionInfo": {
     "elapsed": 1626318,
     "status": "ok",
     "timestamp": 1582784794369,
     "user": {
      "displayName": "king jeff",
      "photoUrl": "",
      "userId": "00861212005360345850"
     },
     "user_tz": -480
    },
    "id": "yh7mILPNMtMf",
    "outputId": "46c39d07-b22b-4946-e0d3-ff034778924a"
   },
   "outputs": [
    {
     "name": "stdout",
     "output_type": "stream",
     "text": [
      "MLP\n",
      "train on cuda\n",
      "1 0.5473053760320238\n",
      "2 0.31030057260712374\n",
      "3 0.23855344114951718\n",
      "4 0.2239905748841832\n",
      "5 0.21605043312878286\n",
      "6 0.2109541681495685\n",
      "7 0.20654746875600907\n",
      "8 0.20324878640545224\n",
      "9 0.20028397247050572\n",
      "10 0.19790608110358415\n",
      "11 0.19541133919965872\n",
      "12 0.19348490171640823\n",
      "13 0.1919140131149477\n",
      "14 0.19063020415097764\n",
      "15 0.18921423186954942\n",
      "16 0.18826078396399043\n",
      "17 0.18726446509939954\n",
      "18 0.1863216351536871\n",
      "19 0.18533459586425893\n",
      "20 0.18473056632916904\n",
      "21 0.1836261051083074\n",
      "22 0.18288828157684178\n",
      "23 0.18209520236959736\n",
      "24 0.18096447644881833\n",
      "25 0.18053603811750135\n",
      "26 0.1797845419170787\n",
      "27 0.17908976323974943\n",
      "28 0.17849499719235504\n",
      "29 0.17788991224997253\n",
      "30 0.17711455738081516\n",
      "GMF\n",
      "train on cuda\n",
      "1 0.7685238730560229\n",
      "2 0.7482787285036254\n",
      "3 0.7146213742135797\n",
      "4 0.667024151792804\n",
      "5 0.6093402631074479\n",
      "6 0.5468448964137476\n",
      "7 0.4851112399286437\n",
      "8 0.4286900534791854\n",
      "9 0.38020060884142387\n",
      "10 0.340376574032515\n",
      "11 0.3086431459894458\n",
      "12 0.28374543890212345\n",
      "13 0.2643707709405029\n",
      "14 0.24923140490518034\n",
      "15 0.23742612533777663\n",
      "16 0.2280814811442662\n",
      "17 0.22063182248073873\n",
      "18 0.21470567563783774\n",
      "19 0.20982845891447902\n",
      "20 0.20589845368584384\n",
      "21 0.2026104374417981\n",
      "22 0.19989065073647547\n",
      "23 0.19757310678657977\n",
      "24 0.19560111778453715\n",
      "25 0.19398665338465312\n",
      "26 0.19248653386981743\n",
      "27 0.19121874912271222\n",
      "28 0.1900438535850025\n",
      "29 0.18903240795853068\n",
      "30 0.1880779170874253\n",
      "NCF\n",
      "train on cuda\n",
      "1 0.601068966365555\n",
      "2 0.3321887317791726\n",
      "3 0.26265044898084067\n",
      "4 0.23197681348300675\n",
      "5 0.21485859074638886\n",
      "6 0.20469166963424498\n",
      "7 0.1979629316086908\n",
      "8 0.19312459042350066\n",
      "9 0.18937522439123358\n",
      "10 0.18608199977180334\n",
      "11 0.18329068477292662\n",
      "12 0.18075901837024874\n",
      "13 0.17879824508162379\n",
      "14 0.17667025371083936\n",
      "15 0.17502753558089432\n",
      "16 0.17328596288718065\n",
      "17 0.1715969898747009\n",
      "18 0.1700373423909678\n",
      "19 0.16864589675537592\n",
      "20 0.16769526910434648\n",
      "21 0.16660841497981432\n",
      "22 0.16601219796439975\n",
      "23 0.1651881731250911\n",
      "24 0.16470952728419627\n",
      "25 0.16400857984440997\n",
      "26 0.16351805647600046\n",
      "27 0.16292512885575156\n",
      "28 0.1625200913369077\n",
      "29 0.16196804483538693\n",
      "30 0.16149699994661276\n"
     ]
    }
   ],
   "source": [
    "MLP_net = NCF(num_users, num_animes, model = 'MLP')\n",
    "train(MLP_net, 30, lr = 0.0001, train_type = 'MLP')\n",
    "\n",
    "GMF_net = NCF(num_users, num_animes, model = 'GMF')\n",
    "train(GMF_net, 30, lr = 0.0001, train_type = 'GMF')\n",
    "\n",
    "NCF_net = NCF(num_users, num_animes, model = 'NCF', GMF_model = GMF_net, MLP_model = MLP_net)\n",
    "train(NCF_net, 30, lr = 0.0001)\n"
   ]
  },
  {
   "cell_type": "code",
   "execution_count": 15,
   "metadata": {},
   "outputs": [],
   "source": [
    "torch.save(NCF_net.state_dict(), \"NCF2.pt\")"
   ]
  },
  {
   "cell_type": "code",
   "execution_count": 4,
   "metadata": {},
   "outputs": [
    {
     "data": {
      "text/plain": [
       "<All keys matched successfully>"
      ]
     },
     "execution_count": 4,
     "metadata": {},
     "output_type": "execute_result"
    }
   ],
   "source": [
    "MLP_net = NCF(num_users, num_animes, model = 'MLP')\n",
    "# train(MLP_net, epochs, lr = 0.0001, train_type = 'MLP')\n",
    "\n",
    "GMF_net = NCF(num_users, num_animes, model = 'GMF')\n",
    "# train(GMF_net, epochs, lr = 0.0001, train_type = 'GMF')\n",
    "\n",
    "\n",
    "model = NCF(num_users, num_animes, model = 'NCF', GMF_model = GMF_net, MLP_model = MLP_net).cuda()\n",
    "model.load_state_dict(torch.load(\"NCF2.pt\"))"
   ]
  },
  {
   "cell_type": "code",
   "execution_count": 25,
   "metadata": {},
   "outputs": [],
   "source": [
    "df = pd.read_csv(\"test.csv\")\n",
    "users = list(set(df.user))"
   ]
  },
  {
   "cell_type": "code",
   "execution_count": 29,
   "metadata": {},
   "outputs": [
    {
     "name": "stdout",
     "output_type": "stream",
     "text": [
      "0.08389704318230165\n"
     ]
    }
   ],
   "source": [
    "df = pd.read_csv(\"test.csv\")\n",
    "users = list(set(df.user))\n",
    "precise = []\n",
    "for u in users:\n",
    "#     print(u)\n",
    "    all_item = [anime_to_idx[i] for i in df[df.user == u].anime.tolist()]\n",
    "    all_items = torch.LongTensor(all_item).cuda()\n",
    "    test_user = torch.LongTensor([user_to_idx[u] for i in range(len(all_item))]).cuda()\n",
    "    \n",
    "#     print(all_items.shape, test_user.shape)\n",
    "    \n",
    "    pred = NCF_net(test_user, all_items)\n",
    "    pred = pred.view(1, -1).detach().cpu().numpy()[0]\n",
    "    index = [i for i in range(len(pred))]\n",
    "    idx = sorted(dict(zip(pred, index)).items(), key = lambda x: x[0], reverse = True)[:5]\n",
    "    idx = [all_item[d[1]] for d in idx]\n",
    "    \n",
    "        \n",
    "    target = [anime_to_idx[i] for i in df[(df.user == u) & (df.rating > 9)].anime.tolist()]\n",
    "    \n",
    "    \n",
    "    overlap = list(set(target) & set(idx))\n",
    "        \n",
    "    precise.append(len(overlap) / len(idx))\n",
    "#     print(precise[-1])\n",
    "    \n",
    "print(np.mean(precise))"
   ]
  },
  {
   "cell_type": "code",
   "execution_count": 12,
   "metadata": {},
   "outputs": [],
   "source": [
    "def ndcg(k, ranklist, testlist):\n",
    "    idcg_k, dcg_k = 0, 0\n",
    "    if len(testlist) < k:\n",
    "        k = len(testlist)\n",
    "    for i in range(k):\n",
    "        idcg_k += 1 / math.log(i + 2, 2)\n",
    "        \n",
    "    s = set(testlist)\n",
    "    hits = [idx for idx, val in enumerate(ranklist) if val in s]\n",
    "    count = len(hits)\n",
    "    \n",
    "    for i in range(count):\n",
    "        dcg_k += 1 / math.log(hits[i] + 2, 2)\n",
    "        \n",
    "    return float(dcg_k / idcg_k)"
   ]
  },
  {
   "cell_type": "code",
   "execution_count": 11,
   "metadata": {
    "colab": {},
    "colab_type": "code",
    "id": "IMTUjG-KlpWT"
   },
   "outputs": [],
   "source": [
    "def metrics(net, df, bound):\n",
    "    precise, ndcg_k = [], []\n",
    "    users = list(set(df.user))\n",
    "    for u in users:\n",
    "        all_item = [anime_to_idx[i] for i in df[df.user == u].anime.tolist()]\n",
    "    #     print(all_item)\n",
    "        all_items = torch.LongTensor(all_item).cuda()\n",
    "        test_user = torch.LongTensor([user_to_idx[u] for i in range(len(all_item))]).cuda()\n",
    "\n",
    "        pred = net(test_user, all_items)\n",
    "\n",
    "        pred = pred.view(1, -1).detach().cpu().numpy()[0]\n",
    "        index = [i for i in range(len(pred))]\n",
    "        idx = sorted(dict(zip(pred, index)).items(), key = lambda x: x[0], reverse = True)[:5]\n",
    "        idx = [all_item[d[1]] for d in idx]\n",
    "\n",
    "        target = [anime_to_idx[i] for i in df[(df.user == u) & (df.rating == bound)].anime.tolist()]\n",
    "\n",
    "    #     idx = [all_item[i] for i in idx.cpu().numpy().flatten()]\n",
    "        overlap = list(set(target) & set(idx))\n",
    "\n",
    "        precise.append(len(overlap) / len(idx))\n",
    "    #     print(precise[-1])\n",
    "\n",
    "    return np.mean(precise)"
   ]
  },
  {
   "cell_type": "code",
   "execution_count": 12,
   "metadata": {},
   "outputs": [
    {
     "name": "stdout",
     "output_type": "stream",
     "text": [
      "0.0\n",
      "0.004594767070835993\n",
      "0.007743033397149542\n",
      "0.013911933631142312\n",
      "0.026717719634120403\n",
      "0.06279514996809189\n",
      "0.1315039353329079\n",
      "0.26275260582854715\n",
      "0.2631355030844501\n",
      "0.1409912784513933\n",
      "[0.0, 0.004594767070835993, 0.007743033397149542, 0.013911933631142312, 0.026717719634120403, 0.06279514996809189, 0.1315039353329079, 0.26275260582854715, 0.2631355030844501, 0.1409912784513933]\n"
     ]
    }
   ],
   "source": [
    "# model = NCF(num_users, num_animes, model = 'NCF', GMF_model = GMF_net, MLP_model = MLP_net).cuda()\n",
    "# model.load_state_dict(torch.load(\"NCF.pt\"))\n",
    "precise = []\n",
    "for bound in range(10):\n",
    "    precise.append(metrics(model, df, bound))\n",
    "    print(precise[-1])\n",
    "    \n",
    "print(precise)"
   ]
  }
 ],
 "metadata": {
  "accelerator": "GPU",
  "colab": {
   "authorship_tag": "ABX9TyMIrs4udGF4i0DSXmyPQxBf",
   "collapsed_sections": [],
   "name": "NCF.ipynb",
   "provenance": []
  },
  "kernelspec": {
   "display_name": "Python 3",
   "language": "python",
   "name": "python3"
  },
  "language_info": {
   "codemirror_mode": {
    "name": "ipython",
    "version": 3
   },
   "file_extension": ".py",
   "mimetype": "text/x-python",
   "name": "python",
   "nbconvert_exporter": "python",
   "pygments_lexer": "ipython3",
   "version": "3.7.4"
  }
 },
 "nbformat": 4,
 "nbformat_minor": 4
}
