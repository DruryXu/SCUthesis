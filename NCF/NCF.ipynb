{
 "cells": [
  {
   "cell_type": "code",
   "execution_count": 1,
   "metadata": {
    "colab": {},
    "colab_type": "code",
    "id": "-oKuADFDpu37"
   },
   "outputs": [],
   "source": [
    "import torch\n",
    "import torch.nn as nn\n",
    "import pandas as pd\n",
    "import numpy as np\n",
    "import torch.utils.data as Data\n",
    "import random\n",
    "import math"
   ]
  },
  {
   "cell_type": "code",
   "execution_count": 14,
   "metadata": {},
   "outputs": [],
   "source": [
    "def get_data(ratings, ratio):\n",
    "    uids, aids = list(set(ratings.user_id.tolist())), list(set(ratings.anime_id.tolist()))\n",
    "    train_data, test_data = [], []\n",
    "    for u in uids:\n",
    "        if not uids.index(u) % 100: print(uids.index(u))\n",
    "        for r in range(1, 11):\n",
    "            temp = ratings[(ratings.user_id == u) & (ratings.rating == r)].values.tolist()\n",
    "            if not temp: \n",
    "                continue\n",
    "            \n",
    "            test_data += temp[int(len(temp) * ratio):]\n",
    "            train_data += temp[:int(len(temp) * ratio)]\n",
    "    \n",
    "    train_data += ratings[ratings.rating == -1].values.tolist()\n",
    "    return train_data, test_data"
   ]
  },
  {
   "cell_type": "code",
   "execution_count": 2,
   "metadata": {
    "colab": {
     "base_uri": "https://localhost:8080/",
     "height": 71
    },
    "colab_type": "code",
    "executionInfo": {
     "elapsed": 9188,
     "status": "ok",
     "timestamp": 1582782823798,
     "user": {
      "displayName": "king jeff",
      "photoUrl": "",
      "userId": "00861212005360345850"
     },
     "user_tz": -480
    },
    "id": "EwPQ5D3MqnsE",
    "outputId": "3c9398ee-ec38-4bd1-c2b1-893212844791"
   },
   "outputs": [],
   "source": [
    "ratings = pd.read_csv('~/Data/clean_rating4.csv').drop([\"id\"], axis = 1)\n",
    "\n",
    "idx_to_animes = list(set(ratings['anime_id'].tolist()))\n",
    "idx_to_users = list(set(ratings['user_id'].tolist()))\n",
    "anime_to_idx = {anime: idx for idx, anime in enumerate(idx_to_animes)}\n",
    "user_to_idx = {user: idx for idx, user in enumerate(idx_to_users)}\n",
    "num_users, num_animes = len(idx_to_users), len(idx_to_animes)\n",
    "\n",
    "train_ratio = 0.9"
   ]
  },
  {
   "cell_type": "code",
   "execution_count": 3,
   "metadata": {
    "colab": {
     "base_uri": "https://localhost:8080/",
     "height": 71
    },
    "colab_type": "code",
    "executionInfo": {
     "elapsed": 9188,
     "status": "ok",
     "timestamp": 1582782823798,
     "user": {
      "displayName": "king jeff",
      "photoUrl": "",
      "userId": "00861212005360345850"
     },
     "user_tz": -480
    },
    "id": "EwPQ5D3MqnsE",
    "outputId": "3c9398ee-ec38-4bd1-c2b1-893212844791"
   },
   "outputs": [],
   "source": [
    "train_data, test_data = get_data(ratings, 0.7)"
   ]
  },
  {
   "cell_type": "code",
   "execution_count": 4,
   "metadata": {
    "colab": {
     "base_uri": "https://localhost:8080/",
     "height": 71
    },
    "colab_type": "code",
    "executionInfo": {
     "elapsed": 9188,
     "status": "ok",
     "timestamp": 1582782823798,
     "user": {
      "displayName": "king jeff",
      "photoUrl": "",
      "userId": "00861212005360345850"
     },
     "user_tz": -480
    },
    "id": "EwPQ5D3MqnsE",
    "outputId": "3c9398ee-ec38-4bd1-c2b1-893212844791"
   },
   "outputs": [],
   "source": [
    "train_df = pd.DataFrame(train_data, columns = [\"user\", \"anime\", \"rating\"])\n",
    "test_df = pd.DataFrame(test_data, columns = [\"user\", \"anime\", \"rating\"])\n",
    "\n",
    "train_df.to_csv(\"train2.csv\", index = False)\n",
    "test_df.to_csv(\"test2.csv\", index = False)"
   ]
  },
  {
   "cell_type": "code",
   "execution_count": 7,
   "metadata": {},
   "outputs": [
    {
     "name": "stdout",
     "output_type": "stream",
     "text": [
      "1636407 680100\n"
     ]
    }
   ],
   "source": [
    "print(len(train_data), len(test_data))"
   ]
  },
  {
   "cell_type": "code",
   "execution_count": 11,
   "metadata": {},
   "outputs": [],
   "source": [
    "from collections import defaultdict\n",
    "train_data = pd.read_csv(\"train.csv\").values.tolist()\n",
    "user_item_dic, data_ps_list = defaultdict(list), []\n",
    "for d in train_data:\n",
    "    user_item_dic[user_to_idx[d[0]]].append(anime_to_idx[d[1]])\n",
    "    data_ps_list.append([user_to_idx[d[0]], anime_to_idx[d[1]]])\n",
    "    \n",
    "user_item_dic, data_ps = dict(user_item_dic), data_ps_list"
   ]
  },
  {
   "cell_type": "code",
   "execution_count": 12,
   "metadata": {},
   "outputs": [],
   "source": [
    "def get_hot_items():\n",
    "    animes = pd.read_csv(\"~/Data/anime.csv\")\n",
    "    animes = animes[animes[\"anime_id\"].isin(idx_to_animes)].loc[:, [\"anime_id\", \"rating\", \"members\"]].fillna(0)\n",
    "\n",
    "    scalar = lambda x: (x - np.min(x)) / (np.max(x) - np.min(x))\n",
    "    animes[\"rating_norm\"] = animes[[\"rating\"]].apply(scalar)\n",
    "    animes[\"members_norm\"] = animes[[\"members\"]].apply(scalar)\n",
    "    animes[\"weight\"] = 0.6 * animes[\"rating_norm\"] + 0.4 * animes[\"members_norm\"]\n",
    "    animes = animes.sort_values(by = \"weight\", ascending = False)\n",
    "    \n",
    "    return [anime_to_idx[i] for i in animes.anime_id.tolist()]"
   ]
  },
  {
   "cell_type": "code",
   "execution_count": 13,
   "metadata": {
    "colab": {},
    "colab_type": "code",
    "id": "7k-YI1ajMThk"
   },
   "outputs": [],
   "source": [
    "class NCFDataset(Data.Dataset):\n",
    "    def __init__(self, data_ps, users, num_items, hot_items, dic, num_ng = 100):\n",
    "        super(NCFDataset, self).__init__()\n",
    "        self.data_ps = data_ps\n",
    "#         self.train_sample = train_sample\n",
    "        self.users = users\n",
    "        self.num_items = num_items\n",
    "        self.num_ng = num_ng\n",
    "        self.hot_items = hot_items\n",
    "        self.dic = dic\n",
    "\n",
    "    def select_ng(self):\n",
    "        self.data_ng, num = [], 0\n",
    "        for u in self.users:\n",
    "            for item in self.hot_items:\n",
    "                if item not in self.dic[u]:\n",
    "                    self.data_ng.append([u, item])\n",
    "                    num += 1\n",
    "                if num == self.num_ng: break\n",
    "            \n",
    "            num = 0\n",
    "                \n",
    "        print(len(self.data_ng))\n",
    "        self.label_ps = [1 for i in range(len(self.data_ps))]\n",
    "        self.label_ng = [0 for i in range(len(self.data_ng))]\n",
    "        self.data = self.data_ps + self.data_ng\n",
    "        self.label = self.label_ps + self.label_ng\n",
    "\n",
    "    def __getitem__(self, idx):\n",
    "        user = self.data[idx][0]\n",
    "        item = self.data[idx][1]\n",
    "        label = self.label[idx]\n",
    "\n",
    "        return user, item, label\n",
    "\n",
    "    def __len__(self):\n",
    "        return self.num_ng * len(self.users) + len(self.data_ps)"
   ]
  },
  {
   "cell_type": "code",
   "execution_count": 7,
   "metadata": {
    "colab": {},
    "colab_type": "code",
    "id": "Q4rdKXtv6Sd_",
    "jupyter": {
     "source_hidden": true
    }
   },
   "outputs": [],
   "source": [
    "def train_data_iter(train_data, batch_size = 5000):\n",
    "    user_inputs, item_inputs, labels = [], [], []\n",
    "    for u in range(len(train_data)):\n",
    "        for i in range(len(train_data[0])):\n",
    "            user_inputs.append(u)\n",
    "            item_inputs.append(i)\n",
    "            labels.append(train_data[u, i])\n",
    "            \n",
    "            if len(user_inputs) == batch_size:\n",
    "                yield torch.LongTensor(user_inputs), torch.LongTensor(item_inputs), torch.LongTensor(labels)\n",
    "            user_inputs, item_inputs, labels = [], [], []"
   ]
  },
  {
   "cell_type": "code",
   "execution_count": 8,
   "metadata": {
    "colab": {},
    "colab_type": "code",
    "id": "E0fkycKsl7k7",
    "jupyter": {
     "source_hidden": true
    }
   },
   "outputs": [],
   "source": [
    "def test_data_iter(test_data):\n",
    "    ng_items, ps_items = [], []\n",
    "    for u in range(len(test_data)):\n",
    "        for i in range(len(test_data[0])):\n",
    "            if test_data[u, i] == 0:\n",
    "                ng_items.append(i)\n",
    "            else:\n",
    "                ps_items.append(i)\n",
    "\n",
    "        yield torch.LongTensor([u for _ in range(len(ng_items))]), torch.LongTensor(ng_items), torch.LongTensor(ps_items)\n",
    "        ng_items, ps_items = [], []"
   ]
  },
  {
   "cell_type": "code",
   "execution_count": 14,
   "metadata": {
    "colab": {
     "base_uri": "https://localhost:8080/",
     "height": 35
    },
    "colab_type": "code",
    "executionInfo": {
     "elapsed": 748,
     "status": "ok",
     "timestamp": 1582783147623,
     "user": {
      "displayName": "king jeff",
      "photoUrl": "",
      "userId": "00861212005360345850"
     },
     "user_tz": -480
    },
    "id": "fx9x_lVBVOgO",
    "outputId": "9dd2b7b2-069e-4828-97d7-bdaeed34278f"
   },
   "outputs": [
    {
     "name": "stdout",
     "output_type": "stream",
     "text": [
      "470100\n"
     ]
    }
   ],
   "source": [
    "batch_size = 4096\n",
    "users = [user_to_idx[i] for i in list(set(ratings.user_id.tolist()))]\n",
    "dataset = NCFDataset(data_ps, users, num_animes, get_hot_items(), user_item_dic, num_ng = 100)\n",
    "dataset.select_ng()\n",
    "data_iter = Data.DataLoader(dataset, batch_size = batch_size, shuffle = True)"
   ]
  },
  {
   "cell_type": "code",
   "execution_count": 15,
   "metadata": {
    "colab": {
     "base_uri": "https://localhost:8080/",
     "height": 341
    },
    "colab_type": "code",
    "executionInfo": {
     "elapsed": 879,
     "status": "ok",
     "timestamp": 1582783159809,
     "user": {
      "displayName": "king jeff",
      "photoUrl": "",
      "userId": "00861212005360345850"
     },
     "user_tz": -480
    },
    "id": "gApTtGldU-Cj",
    "outputId": "d5f04ed0-993d-484f-c25c-fbb3f27d0bf3"
   },
   "outputs": [],
   "source": [
    "class NCF(nn.Module):\n",
    "    def __init__(self, num_users, num_items, model, factor_num = 8, num_layers = 3,\n",
    "               MLP_model = None, GMF_model = None, alpha = 0.5, dropout = 0.5):\n",
    "        super(NCF, self).__init__()\n",
    "        self.MLP_model = MLP_model\n",
    "        self.GMF_model = GMF_model\n",
    "        self.alpha = alpha\n",
    "        self.dropout = dropout\n",
    "        self.user_embed_GMF = nn.Embedding(num_users, factor_num)\n",
    "        self.item_embed_GMF = nn.Embedding(num_items, factor_num)\n",
    "        self.user_embed_MLP = nn.Embedding(num_users, factor_num * (2 ** (num_layers - 1)))\n",
    "        self.item_embed_MLP = nn.Embedding(num_items, factor_num * (2 ** (num_layers - 1)))\n",
    "\n",
    "        self.MLP = nn.Sequential(\n",
    "            nn.Dropout(p = self.dropout),\n",
    "            nn.Linear(factor_num * (2 ** num_layers), factor_num * (2 ** (num_layers - 1))),\n",
    "            nn.ReLU()\n",
    "        )\n",
    "        for layer in range(num_layers - 1, 0, -1):\n",
    "            self.MLP.add_module('dropout' + str(num_layers - layer), nn.Dropout(p = self.dropout))\n",
    "            self.MLP.add_module('linear' + str(num_layers - layer), nn.Linear(factor_num * (2 ** layer), factor_num * (2 ** (layer - 1))))\n",
    "            self.MLP.add_module('relu' + str(num_layers - layer), nn.ReLU())\n",
    "\n",
    "        self.model = model\n",
    "        if self.model in ['GMF', 'MLP']:\n",
    "            self.NeuMF = nn.Linear(factor_num, 1)\n",
    "        else:\n",
    "            self.NeuMF = nn.Linear(2 * factor_num, 1)\n",
    "\n",
    "        self.__init_weights__()\n",
    "\n",
    "    def __init_weights__(self):\n",
    "        if self.model in ['GMF', 'MLP']:\n",
    "            nn.init.normal_(self.user_embed_GMF.weight, std = 0.01)\n",
    "            nn.init.normal_(self.item_embed_GMF.weight, std = 0.01)\n",
    "            nn.init.normal_(self.user_embed_MLP.weight, std = 0.01)\n",
    "            nn.init.normal_(self.item_embed_MLP.weight, std = 0.01)\n",
    "\n",
    "            for layer in self.MLP:\n",
    "                if isinstance(layer, nn.Linear):\n",
    "                    nn.init.xavier_uniform_(layer.weight)\n",
    "#                   nn.init.normal_(layer.weight, std = 0.01)\n",
    "\n",
    "            nn.init.kaiming_uniform_(self.NeuMF.weight, a = 1, nonlinearity = 'sigmoid')\n",
    "#             nn.init.normal_(self.NeuMF.weight, std = 0.01)\n",
    "\n",
    "        elif self.GMF_model and self.MLP_model:\n",
    "            self.user_embed_GMF.weight.data.copy_(self.GMF_model.user_embed_GMF.weight)\n",
    "            self.item_embed_GMF.weight.data.copy_(self.GMF_model.item_embed_GMF.weight)\n",
    "            self.user_embed_MLP.weight.data.copy_(self.MLP_model.user_embed_MLP.weight)\n",
    "            self.item_embed_MLP.weight.data.copy_(self.MLP_model.item_embed_MLP.weight)\n",
    "\n",
    "            for (m1, m2) in zip(self.MLP, self.MLP_model.MLP):\n",
    "                if isinstance(m1, nn.Linear) and isinstance(m2, nn.Linear):\n",
    "                    m1.weight.data.copy_(m2.weight)\n",
    "                    m1.bias.data.copy_(m2.bias)\n",
    "\n",
    "            NeuMF_weight = torch.cat((self.alpha * self.GMF_model.NeuMF.weight, (1 - self.alpha) * self.MLP_model.NeuMF.weight), 1)\n",
    "            NeuMF_bias = self.GMF_model.NeuMF.bias + self.MLP_model.NeuMF.bias\n",
    "\n",
    "            self.NeuMF.weight.data.copy_(NeuMF_weight)\n",
    "            self.NeuMF.bias.data.copy_(NeuMF_bias)\n",
    "            \n",
    "    def forward(self, user, item):\n",
    "        if self.model is 'GMF' or 'NCF':\n",
    "            user_embed_GMF = self.user_embed_GMF(user)\n",
    "            item_embed_GMF = self.item_embed_GMF(item)\n",
    "            \n",
    "#             print(user_embed_GMF.device, item_embed_GMF.decive)\n",
    "            GMF_output = user_embed_GMF * item_embed_GMF\n",
    "\n",
    "        if self.model is 'MLP' or 'NCF':\n",
    "            user_embed_MLP = self.user_embed_MLP(user)\n",
    "            item_embed_MLP = self.item_embed_MLP(item)\n",
    "\n",
    "            MLP_input = torch.cat((user_embed_MLP, item_embed_MLP), 1)\n",
    "            MLP_output = self.MLP(MLP_input)\n",
    "\n",
    "        if self.model is 'NCF':\n",
    "            return self.NeuMF(torch.cat((MLP_output, GMF_output), 1))\n",
    "        elif self.model is 'MLP':\n",
    "            return self.NeuMF(MLP_output)\n",
    "        elif self.model is 'GMF':\n",
    "            return self.NeuMF(GMF_output)"
   ]
  },
  {
   "cell_type": "code",
   "execution_count": 16,
   "metadata": {
    "colab": {},
    "colab_type": "code",
    "id": "yMMtvfYqjBuV"
   },
   "outputs": [],
   "source": [
    "def train(net, num_epochs, lr, train_type = 'NCF'):\n",
    "    print(train_type)\n",
    "    device = torch.device('cuda' if torch.cuda.is_available() else 'cpu')\n",
    "#     device = torch.device('cpu')\n",
    "    print('train on', device)\n",
    "    net = net.to(device)\n",
    "    optimizer = torch.optim.Adam(net.parameters(), lr = lr)\n",
    "    loss = nn.BCEWithLogitsLoss()\n",
    "    for epoch in range(num_epochs):\n",
    "        l_sum,n = 0, 0\n",
    "        for user, item, label in data_iter:\n",
    "            user = user.to(device)\n",
    "            item = item.to(device)\n",
    "            label = label.to(device)\n",
    "            pred = net(user, item)\n",
    "            l = loss(pred.view(label.shape), label.float())\n",
    "\n",
    "            optimizer.zero_grad()\n",
    "            l.backward()\n",
    "            optimizer.step()\n",
    "            l_sum += l.cpu().item()\n",
    "            n += 1\n",
    "\n",
    "        print(epoch + 1, l_sum / n)"
   ]
  },
  {
   "cell_type": "code",
   "execution_count": 17,
   "metadata": {
    "colab": {
     "base_uri": "https://localhost:8080/",
     "height": 665
    },
    "colab_type": "code",
    "executionInfo": {
     "elapsed": 1626318,
     "status": "ok",
     "timestamp": 1582784794369,
     "user": {
      "displayName": "king jeff",
      "photoUrl": "",
      "userId": "00861212005360345850"
     },
     "user_tz": -480
    },
    "id": "yh7mILPNMtMf",
    "outputId": "46c39d07-b22b-4946-e0d3-ff034778924a"
   },
   "outputs": [
    {
     "name": "stdout",
     "output_type": "stream",
     "text": [
      "MLP\n",
      "train on cuda\n",
      "1 0.6772717644288702\n",
      "2 0.3193732900526917\n",
      "3 0.24635250559709604\n",
      "4 0.2297241909411347\n",
      "5 0.21995399863395876\n",
      "6 0.2138198908960935\n",
      "7 0.21006114584149665\n",
      "8 0.20722362905451394\n",
      "9 0.20497039515995286\n",
      "10 0.20336203013808982\n",
      "11 0.20182187062444037\n",
      "12 0.20056911189000584\n",
      "13 0.19908592521565632\n",
      "14 0.19753121701837745\n",
      "15 0.19595400225190282\n",
      "16 0.1943134763576452\n",
      "17 0.1930201905155645\n",
      "18 0.19164339275036044\n",
      "19 0.19067543284985625\n",
      "20 0.18951160930892796\n",
      "21 0.18850933050067678\n",
      "22 0.1876950127407185\n",
      "23 0.1864992302887648\n",
      "24 0.1856056925741214\n",
      "25 0.18477319924576768\n",
      "26 0.18394603989656688\n",
      "27 0.18291025257226332\n",
      "28 0.1820479704917056\n",
      "29 0.18118463861710818\n",
      "30 0.18042890614676244\n",
      "GMF\n",
      "train on cuda\n",
      "1 0.6850779712778851\n",
      "2 0.6692479678728048\n",
      "3 0.6405720547564979\n",
      "4 0.5980559568960689\n",
      "5 0.5463525998939588\n",
      "6 0.4908029453847015\n",
      "7 0.4366613899041148\n",
      "8 0.38788245488139034\n",
      "9 0.34657379371448627\n",
      "10 0.3131496467636627\n",
      "11 0.2868168946608756\n",
      "12 0.26631812840989494\n",
      "13 0.2504369759154551\n",
      "14 0.2380583341839244\n",
      "15 0.22832917498732075\n",
      "16 0.22062479691598022\n",
      "17 0.2144537492863183\n",
      "18 0.20945476730471677\n",
      "19 0.20533447659131393\n",
      "20 0.20199121714216992\n",
      "21 0.1991406050411243\n",
      "22 0.19676411617728112\n",
      "23 0.19472346855598746\n",
      "24 0.1929260281683172\n",
      "25 0.1914222276037179\n",
      "26 0.1900508719451219\n",
      "27 0.1887849428121326\n",
      "28 0.1876867003521873\n",
      "29 0.18665847703091148\n",
      "30 0.18569947892022365\n",
      "NCF\n",
      "train on cuda\n",
      "1 0.30216178833280954\n",
      "2 0.2183062759417932\n",
      "3 0.19601815895548144\n",
      "4 0.1874298961127846\n",
      "5 0.18223669054438768\n",
      "6 0.17850789685272475\n",
      "7 0.17550416580102976\n",
      "8 0.17348754756080295\n",
      "9 0.1720697473264435\n",
      "10 0.1706237593611467\n",
      "11 0.16942187588191726\n",
      "12 0.1684715850839337\n",
      "13 0.16740769625288768\n",
      "14 0.16667920032751213\n",
      "15 0.16570185223250714\n",
      "16 0.16515424838922557\n",
      "17 0.16444540807923066\n",
      "18 0.16370994613587278\n",
      "19 0.16287200268611168\n",
      "20 0.16245903578198073\n",
      "21 0.16209569417157219\n",
      "22 0.16150517029669678\n",
      "23 0.1610118302326758\n",
      "24 0.16053828825649705\n",
      "25 0.16000967835917057\n",
      "26 0.15961797587501192\n",
      "27 0.159325016297183\n",
      "28 0.15885408390494227\n",
      "29 0.15839482221788573\n",
      "30 0.15790066151943022\n"
     ]
    }
   ],
   "source": [
    "MLP_net = NCF(num_users, num_animes, model = 'MLP')\n",
    "train(MLP_net, 30, lr = 0.0001, train_type = 'MLP')\n",
    "\n",
    "GMF_net = NCF(num_users, num_animes, model = 'GMF')\n",
    "train(GMF_net, 30, lr = 0.0001, train_type = 'GMF')\n",
    "\n",
    "NCF_net = NCF(num_users, num_animes, model = 'NCF', GMF_model = GMF_net, MLP_model = MLP_net)\n",
    "train(NCF_net, 30, lr = 0.0001)\n"
   ]
  },
  {
   "cell_type": "code",
   "execution_count": 15,
   "metadata": {},
   "outputs": [],
   "source": [
    "torch.save(NCF_net.state_dict(), \"NCF2.pt\")"
   ]
  },
  {
   "cell_type": "code",
   "execution_count": 4,
   "metadata": {},
   "outputs": [
    {
     "data": {
      "text/plain": [
       "<All keys matched successfully>"
      ]
     },
     "execution_count": 4,
     "metadata": {},
     "output_type": "execute_result"
    }
   ],
   "source": [
    "MLP_net = NCF(num_users, num_animes, model = 'MLP')\n",
    "# train(MLP_net, epochs, lr = 0.0001, train_type = 'MLP')\n",
    "\n",
    "GMF_net = NCF(num_users, num_animes, model = 'GMF')\n",
    "# train(GMF_net, epochs, lr = 0.0001, train_type = 'GMF')\n",
    "\n",
    "\n",
    "model = NCF(num_users, num_animes, model = 'NCF', GMF_model = GMF_net, MLP_model = MLP_net).cuda()\n",
    "model.load_state_dict(torch.load(\"NCF2.pt\"))"
   ]
  },
  {
   "cell_type": "code",
   "execution_count": 5,
   "metadata": {},
   "outputs": [],
   "source": [
    "df = pd.read_csv(\"test.csv\")\n",
    "users = list(set(df.user))"
   ]
  },
  {
   "cell_type": "code",
   "execution_count": 29,
   "metadata": {},
   "outputs": [
    {
     "name": "stdout",
     "output_type": "stream",
     "text": [
      "0.08389704318230165\n"
     ]
    }
   ],
   "source": [
    "df = pd.read_csv(\"test.csv\")\n",
    "users = list(set(df.user))\n",
    "precise = []\n",
    "for u in users:\n",
    "#     print(u)\n",
    "    all_item = [anime_to_idx[i] for i in df[df.user == u].anime.tolist()]\n",
    "    all_items = torch.LongTensor(all_item).cuda()\n",
    "    test_user = torch.LongTensor([user_to_idx[u] for i in range(len(all_item))]).cuda()\n",
    "    \n",
    "#     print(all_items.shape, test_user.shape)\n",
    "    \n",
    "    pred = NCF_net(test_user, all_items)\n",
    "    pred = pred.view(1, -1).detach().cpu().numpy()[0]\n",
    "    index = [i for i in range(len(pred))]\n",
    "    idx = sorted(dict(zip(pred, index)).items(), key = lambda x: x[0], reverse = True)[:5]\n",
    "    idx = [all_item[d[1]] for d in idx]\n",
    "    \n",
    "        \n",
    "    target = [anime_to_idx[i] for i in df[(df.user == u) & (df.rating > 9)].anime.tolist()]\n",
    "    \n",
    "    \n",
    "    overlap = list(set(target) & set(idx))\n",
    "        \n",
    "    precise.append(len(overlap) / len(idx))\n",
    "#     print(precise[-1])\n",
    "    \n",
    "print(np.mean(precise))"
   ]
  },
  {
   "cell_type": "code",
   "execution_count": 9,
   "metadata": {},
   "outputs": [],
   "source": [
    "def ndcg(k, ranklist, testlist):\n",
    "    if not testlist: return 0\n",
    "    idcg_k, dcg_k = 0, 0\n",
    "    if len(testlist) < k:\n",
    "        k = len(testlist)\n",
    "    for i in range(k):\n",
    "        idcg_k += 1 / math.log(i + 2, 2)\n",
    "        \n",
    "    s = set(testlist)\n",
    "    hits = [idx for idx, val in enumerate(ranklist) if val in s]\n",
    "    count = len(hits)\n",
    "    \n",
    "    for i in range(count):\n",
    "        dcg_k += 1 / math.log(hits[i] + 2, 2)\n",
    "        \n",
    "    return float(dcg_k / idcg_k)"
   ]
  },
  {
   "cell_type": "code",
   "execution_count": 7,
   "metadata": {
    "colab": {},
    "colab_type": "code",
    "id": "IMTUjG-KlpWT"
   },
   "outputs": [],
   "source": [
    "def metrics(net, df, bound):\n",
    "    precise, ndcg_k = [], []\n",
    "    users = list(set(df.user))\n",
    "    for u in users:\n",
    "        all_item = [anime_to_idx[i] for i in df[df.user == u].anime.tolist()]\n",
    "    #     print(all_item)\n",
    "        all_items = torch.LongTensor(all_item).cuda()\n",
    "        test_user = torch.LongTensor([user_to_idx[u] for i in range(len(all_item))]).cuda()\n",
    "\n",
    "        pred = net(test_user, all_items)\n",
    "\n",
    "        pred = pred.view(1, -1).detach().cpu().numpy()[0]\n",
    "        index = [i for i in range(len(pred))]\n",
    "        idx = sorted(dict(zip(pred, index)).items(), key = lambda x: x[0], reverse = True)[:5]\n",
    "        idx = [all_item[d[1]] for d in idx]\n",
    "\n",
    "        target = [anime_to_idx[i] for i in df[(df.user == u) & (df.rating == bound)].anime.tolist()]\n",
    "\n",
    "    #     idx = [all_item[i] for i in idx.cpu().numpy().flatten()]\n",
    "        overlap = list(set(target) & set(idx))\n",
    "\n",
    "        precise.append(ndcg(10, idx, target))\n",
    "    #     print(precise[-1])\n",
    "\n",
    "    return np.mean(precise)"
   ]
  },
  {
   "cell_type": "code",
   "execution_count": 18,
   "metadata": {},
   "outputs": [
    {
     "name": "stdout",
     "output_type": "stream",
     "text": [
      "0.09185195697295856\n",
      "[0.09185195697295856]\n"
     ]
    }
   ],
   "source": [
    "# model = NCF(num_users, num_animes, model = 'NCF', GMF_model = GMF_net, MLP_model = MLP_net).cuda()\n",
    "# model.load_state_dict(torch.load(\"NCF.pt\"))\n",
    "precise = []\n",
    "for bound in range(9, 10):\n",
    "    precise.append(metrics(NCF_net, df, bound))\n",
    "    print(precise[-1])\n",
    "    \n",
    "print(precise)"
   ]
  }
 ],
 "metadata": {
  "accelerator": "GPU",
  "colab": {
   "authorship_tag": "ABX9TyMIrs4udGF4i0DSXmyPQxBf",
   "collapsed_sections": [],
   "name": "NCF.ipynb",
   "provenance": []
  },
  "kernelspec": {
   "display_name": "Python 3",
   "language": "python",
   "name": "python3"
  },
  "language_info": {
   "codemirror_mode": {
    "name": "ipython",
    "version": 3
   },
   "file_extension": ".py",
   "mimetype": "text/x-python",
   "name": "python",
   "nbconvert_exporter": "python",
   "pygments_lexer": "ipython3",
   "version": "3.7.4"
  }
 },
 "nbformat": 4,
 "nbformat_minor": 4
}
