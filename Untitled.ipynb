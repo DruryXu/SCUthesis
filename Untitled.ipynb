{
 "cells": [
  {
   "cell_type": "code",
   "execution_count": 1,
   "metadata": {},
   "outputs": [],
   "source": [
    "import pandas as pd\n",
    "import numpy as np"
   ]
  },
  {
   "cell_type": "code",
   "execution_count": 15,
   "metadata": {},
   "outputs": [
    {
     "name": "stdout",
     "output_type": "stream",
     "text": [
      "     id  anime_id                              name  \\\n",
      "40    0      1535                        Death Note   \n",
      "1     1      5114  Fullmetal Alchemist: Brotherhood   \n",
      "86    2     16498                Shingeki no Kyojin   \n",
      "804   3     11757                  Sword Art Online   \n",
      "3     4      9253                       Steins;Gate   \n",
      "\n",
      "                                                 genre type episodes  rating  \\\n",
      "40   Mystery, Police, Psychological, Supernatural, ...   TV       37    8.71   \n",
      "1    Action, Adventure, Drama, Fantasy, Magic, Mili...   TV       64    9.26   \n",
      "86        Action, Drama, Fantasy, Shounen, Super Power   TV       25    8.54   \n",
      "804          Action, Adventure, Fantasy, Game, Romance   TV       25    7.83   \n",
      "3                                     Sci-Fi, Thriller   TV       24    9.17   \n",
      "\n",
      "     members    weight  \n",
      "40   1013917  0.957737  \n",
      "1     793665  0.906062  \n",
      "86    896229  0.900421  \n",
      "804   893100  0.853722  \n",
      "3     673572  0.852919  \n"
     ]
    }
   ],
   "source": [
    "ratings = pd.read_csv('~/Data/clean_rating4.csv').drop([\"id\"], axis = 1)\n",
    "\n",
    "idx_to_animes = list(set(ratings['anime_id'].tolist()))\n",
    "idx_to_users = list(set(ratings['user_id'].tolist()))\n",
    "anime_to_idx = {anime: idx for idx, anime in enumerate(idx_to_animes)}\n",
    "user_to_idx = {user: idx for idx, user in enumerate(idx_to_users)}\n",
    "num_users, num_animes = len(idx_to_users), len(idx_to_animes)\n",
    "\n",
    "df = pd.read_csv(\"~/Data/anime.csv\")\n",
    "animes = df[df[\"anime_id\"].isin(idx_to_animes)].loc[:, [\"anime_id\", \"rating\", \"members\"]].fillna(0)\n",
    "\n",
    "scalar = lambda x: (x - np.min(x)) / (np.max(x) - np.min(x))\n",
    "animes[\"rating_norm\"] = animes[[\"rating\"]].apply(scalar)\n",
    "animes[\"members_norm\"] = animes[[\"members\"]].apply(scalar)\n",
    "animes[\"weight\"] = 0.6 * animes[\"rating_norm\"] + 0.4 * animes[\"members_norm\"]\n",
    "# animes = animes.sort_values(by = \"weight\", ascending = False)\n",
    "\n",
    "df['weight'] = animes['weight']\n",
    "df = df.sort_values(by = 'weight', ascending = False)\n",
    "df['id'] = [i for i in range(len(df))]\n",
    "df = df[['id', 'anime_id', 'name', 'genre', 'type', 'episodes', 'rating', 'members', 'weight']]\n",
    "print(df.head())\n",
    "df.to_csv(\"anime_weight.csv\", index = False)"
   ]
  }
 ],
 "metadata": {
  "kernelspec": {
   "display_name": "Python 3",
   "language": "python",
   "name": "python3"
  },
  "language_info": {
   "codemirror_mode": {
    "name": "ipython",
    "version": 3
   },
   "file_extension": ".py",
   "mimetype": "text/x-python",
   "name": "python",
   "nbconvert_exporter": "python",
   "pygments_lexer": "ipython3",
   "version": "3.7.4"
  }
 },
 "nbformat": 4,
 "nbformat_minor": 4
}
