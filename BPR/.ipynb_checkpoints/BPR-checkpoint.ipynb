{
 "cells": [
  {
   "cell_type": "code",
   "execution_count": 6,
   "metadata": {
    "colab": {},
    "colab_type": "code",
    "id": "8tnFYDve6LhG"
   },
   "outputs": [],
   "source": [
    "import torch\n",
    "from torch import nn\n",
    "import torch.nn.functional as F\n",
    "import torch.utils.data as Data\n",
    "import pandas as pd\n",
    "import numpy as np\n",
    "from collections import defaultdict"
   ]
  },
  {
   "cell_type": "code",
   "execution_count": 8,
   "metadata": {},
   "outputs": [],
   "source": [
    "train_df = pd.read_csv(\"~/Thesis/Data/train.csv\")\n",
    "ratings = pd.read_csv('~/Data/clean_rating4.csv').drop([\"id\"], axis = 1)\n",
    "\n",
    "idx_to_animes = list(set(ratings['anime_id'].tolist()))\n",
    "idx_to_users = list(set(ratings['user_id'].tolist()))\n",
    "anime_to_idx = {anime: idx for idx, anime in enumerate(idx_to_animes)}\n",
    "user_to_idx = {user: idx for idx, user in enumerate(idx_to_users)}\n",
    "num_users, num_animes = len(idx_to_users), len(idx_to_animes)\n",
    "\n",
    "train_data_raw = train_df.values.tolist()\n",
    "train_users = list(set(train_df.user))\n",
    "user_item_dic = defaultdict(list)\n",
    "\n",
    "train_data = []\n",
    "for d in train_data_raw:\n",
    "    train_data.append([user_to_idx[d[0]], anime_to_idx[d[1]]])\n",
    "    user_item_dic[user_to_idx[d[0]]].append(anime_to_idx[d[1]])"
   ]
  },
  {
   "cell_type": "code",
   "execution_count": 11,
   "metadata": {},
   "outputs": [],
   "source": [
    "class BPRDataset(Data.Dataset):\n",
    "    def __init__(self, data, num_item, num_ng, dic):\n",
    "        super(BPRDataset, self).__init__()\n",
    "        self.data = data\n",
    "        self.num_ng = num_ng\n",
    "        self.dic = dic\n",
    "        self.num_item = num_item\n",
    "        \n",
    "    def select_ng(self):\n",
    "        self.new_data = []\n",
    "        for d in self.data:\n",
    "            ng_num = 0\n",
    "            while ng_num < self.num_ng:\n",
    "                item = np.random.randint(self.num_item)   \n",
    "                if item not in self.dic[d[0]]:\n",
    "                    self.new_data.append([d[0], d[1], item])\n",
    "                    ng_num += 1\n",
    "                    \n",
    "    def __len__(self):\n",
    "        return self.num_ng * len(self.data)\n",
    "    \n",
    "    def __getitem__(self, idx):\n",
    "        user = self.data[idx][0]\n",
    "        item_i = self.data[idx][1]\n",
    "        item_j = self.data[idx][2]\n",
    "        \n",
    "        return user, item_i, item_j"
   ]
  },
  {
   "cell_type": "code",
   "execution_count": 12,
   "metadata": {},
   "outputs": [],
   "source": [
    "class BPR(nn.Module):\n",
    "    def __init__(self, num_users, num_animes, num_hidden):\n",
    "        self.user_embed = nn.Embedding(num_users, num_hidden)\n",
    "        self.anime_embed = nn.Embedding(num_anime, num_hidden)\n",
    "        \n",
    "    def forward(self, user, anime_i, anime_j):\n",
    "        point_i = torch.mm(self.user_embed(user), self.anime_embed(anime_i))\n",
    "        point_j = torch.mm(self.user_embed(user), self.anime_embed(anime_j))\n",
    "        \n",
    "        return point_i, point_j"
   ]
  },
  {
   "cell_type": "code",
   "execution_count": null,
   "metadata": {},
   "outputs": [],
   "source": [
    "batchsize = 5120\n",
    "train_dataset = Data.TensorDataset"
   ]
  }
 ],
 "metadata": {
  "accelerator": "GPU",
  "colab": {
   "authorship_tag": "ABX9TyNXgzsaFtHSg/oqqrvCKq4W",
   "collapsed_sections": [],
   "name": "AutoEncoder.ipynb",
   "provenance": []
  },
  "kernelspec": {
   "display_name": "Python 3",
   "language": "python",
   "name": "python3"
  },
  "language_info": {
   "codemirror_mode": {
    "name": "ipython",
    "version": 3
   },
   "file_extension": ".py",
   "mimetype": "text/x-python",
   "name": "python",
   "nbconvert_exporter": "python",
   "pygments_lexer": "ipython3",
   "version": "3.7.4"
  }
 },
 "nbformat": 4,
 "nbformat_minor": 4
}
