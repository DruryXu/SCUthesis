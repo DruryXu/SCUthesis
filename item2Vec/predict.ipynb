{
 "cells": [
  {
   "cell_type": "code",
   "execution_count": 9,
   "metadata": {},
   "outputs": [],
   "source": [
    "from gensim.models import Word2Vec\n",
    "import pandas as pd\n",
    "import numpy as np\n",
    "import math"
   ]
  },
  {
   "cell_type": "code",
   "execution_count": 2,
   "metadata": {},
   "outputs": [],
   "source": [
    "def recommender(positive_list = None, negative_list = None, topn = 5):\n",
    "    model = Word2Vec.load(\"item2Vec_20200328\")\n",
    "    recommend_anime_ls = [\"241\"]\n",
    "    for animeId, prob in model.wv.most_similar_cosmul(positive = positive_list, negative = negative_list, topn = topn):\n",
    "        recommend_anime_ls.append(animeId)\n",
    "\n",
    "    return recommend_anime_ls"
   ]
  },
  {
   "cell_type": "code",
   "execution_count": 5,
   "metadata": {},
   "outputs": [
    {
     "name": "stdout",
     "output_type": "stream",
     "text": [
      "      anime_id                        name  \\\n",
      "2508        53               Ai Yori Aoshi   \n",
      "3216       196                Onegai☆Twins   \n",
      "3382       193                    Maburaho   \n",
      "3728       487  Girls Bravo: Second Season   \n",
      "4105        63                       DearS   \n",
      "4551       241   Girls Bravo: First Season   \n",
      "\n",
      "                                                  genre type episodes  rating  \\\n",
      "2508       Comedy, Drama, Harem, Romance, Slice of Life   TV       24    7.24   \n",
      "3216               Comedy, Drama, Harem, School, Sci-Fi   TV       12    7.05   \n",
      "3382  Comedy, Drama, Ecchi, Harem, Magic, Romance, S...   TV       24    7.01   \n",
      "3728     Comedy, Ecchi, Fantasy, Harem, Romance, School   TV       13    6.90   \n",
      "4105              Comedy, Ecchi, Harem, Romance, Sci-Fi   TV       12    6.80   \n",
      "4551     Comedy, Ecchi, Fantasy, Harem, Romance, School   TV       11    6.69   \n",
      "\n",
      "      members  \n",
      "2508    66597  \n",
      "3216    59164  \n",
      "3382    61004  \n",
      "3728    57110  \n",
      "4105    91037  \n",
      "4551    84395  \n"
     ]
    }
   ],
   "source": [
    "anime = pd.read_csv(\"~/Data/anime.csv\")\n",
    "ls = recommender(positive_list = [\"241\"], topn = 5)\n",
    "print(anime[anime[\"anime_id\"].isin(ls)])"
   ]
  },
  {
   "cell_type": "code",
   "execution_count": 7,
   "metadata": {},
   "outputs": [],
   "source": [
    "df = pd.read_csv(\"~/Data/clean_rating4.csv\")\n",
    "train_ratio = 0.9\n",
    "test_data = df[int(len(df) * train_ratio):]"
   ]
  },
  {
   "cell_type": "code",
   "execution_count": 5,
   "metadata": {},
   "outputs": [],
   "source": [
    "def ndcg(k, ranklist, testlist):\n",
    "    idcg_k, dcg_k = 0, 0\n",
    "    if len(testlist) < k:\n",
    "        k = len(testlist)\n",
    "    for i in range(k):\n",
    "        idcg_k += 1 / math.log(i + 2, 2)\n",
    "        \n",
    "    s = set(testlist)\n",
    "    hits = [idx for idx, val in enumerate(ranklist) if val in s]\n",
    "    count = len(hits)\n",
    "    \n",
    "    for i in range(count):\n",
    "        dcg_k += 1 / math.log(hits[i] + 2, 2)\n",
    "        \n",
    "    return float(dcg_k / idcg_k)"
   ]
  },
  {
   "cell_type": "code",
   "execution_count": 10,
   "metadata": {},
   "outputs": [
    {
     "name": "stdout",
     "output_type": "stream",
     "text": [
      "0.41440766003383633\n",
      "0.4142006985395797\n",
      "0.4132643670788073\n",
      "0.413078465075223\n",
      "0.41151754066697654\n",
      "0.40885232930689897\n",
      "0.3986637612659749\n",
      "0.35710539174500555\n",
      "0.2558028601985228\n"
     ]
    },
    {
     "ename": "ZeroDivisionError",
     "evalue": "division by zero",
     "output_type": "error",
     "traceback": [
      "\u001b[0;31m---------------------------------------------------------------------------\u001b[0m",
      "\u001b[0;31mZeroDivisionError\u001b[0m                         Traceback (most recent call last)",
      "\u001b[0;32m<ipython-input-10-7773f4de214a>\u001b[0m in \u001b[0;36m<module>\u001b[0;34m\u001b[0m\n\u001b[1;32m     18\u001b[0m         \u001b[0mcur_items\u001b[0m \u001b[0;34m=\u001b[0m \u001b[0;34m[\u001b[0m\u001b[0mdata\u001b[0m\u001b[0;34m[\u001b[0m\u001b[0;36m2\u001b[0m\u001b[0;34m]\u001b[0m \u001b[0;32mfor\u001b[0m \u001b[0mdata\u001b[0m \u001b[0;32min\u001b[0m \u001b[0mtest_data\u001b[0m\u001b[0;34m[\u001b[0m\u001b[0mtest_data\u001b[0m\u001b[0;34m.\u001b[0m\u001b[0muser_id\u001b[0m \u001b[0;34m==\u001b[0m \u001b[0muser\u001b[0m\u001b[0;34m]\u001b[0m\u001b[0;34m.\u001b[0m\u001b[0mvalues\u001b[0m \u001b[0;32mif\u001b[0m \u001b[0mdata\u001b[0m\u001b[0;34m[\u001b[0m\u001b[0;36m3\u001b[0m\u001b[0;34m]\u001b[0m \u001b[0;34m>\u001b[0m \u001b[0mk\u001b[0m\u001b[0;34m]\u001b[0m\u001b[0;34m\u001b[0m\u001b[0;34m\u001b[0m\u001b[0m\n\u001b[1;32m     19\u001b[0m         \u001b[0mprecision\u001b[0m\u001b[0;34m.\u001b[0m\u001b[0mappend\u001b[0m\u001b[0;34m(\u001b[0m\u001b[0mlen\u001b[0m\u001b[0;34m(\u001b[0m\u001b[0mset\u001b[0m\u001b[0;34m(\u001b[0m\u001b[0mrec\u001b[0m\u001b[0;34m)\u001b[0m \u001b[0;34m&\u001b[0m \u001b[0mset\u001b[0m\u001b[0;34m(\u001b[0m\u001b[0mcur_items\u001b[0m\u001b[0;34m)\u001b[0m\u001b[0;34m)\u001b[0m \u001b[0;34m/\u001b[0m \u001b[0mlen\u001b[0m\u001b[0;34m(\u001b[0m\u001b[0mrec\u001b[0m\u001b[0;34m)\u001b[0m\u001b[0;34m)\u001b[0m\u001b[0;34m\u001b[0m\u001b[0;34m\u001b[0m\u001b[0m\n\u001b[0;32m---> 20\u001b[0;31m         \u001b[0mndcg_k\u001b[0m\u001b[0;34m.\u001b[0m\u001b[0mappend\u001b[0m\u001b[0;34m(\u001b[0m\u001b[0mndcg\u001b[0m\u001b[0;34m(\u001b[0m\u001b[0;36m10\u001b[0m\u001b[0;34m,\u001b[0m \u001b[0mrec\u001b[0m\u001b[0;34m,\u001b[0m \u001b[0mcur_items\u001b[0m\u001b[0;34m)\u001b[0m\u001b[0;34m)\u001b[0m\u001b[0;34m\u001b[0m\u001b[0;34m\u001b[0m\u001b[0m\n\u001b[0m\u001b[1;32m     21\u001b[0m \u001b[0;34m\u001b[0m\u001b[0m\n\u001b[1;32m     22\u001b[0m     \u001b[0mprint\u001b[0m\u001b[0;34m(\u001b[0m\u001b[0mnp\u001b[0m\u001b[0;34m.\u001b[0m\u001b[0mmean\u001b[0m\u001b[0;34m(\u001b[0m\u001b[0mndcg_k\u001b[0m\u001b[0;34m)\u001b[0m\u001b[0;34m)\u001b[0m\u001b[0;34m\u001b[0m\u001b[0;34m\u001b[0m\u001b[0m\n",
      "\u001b[0;32m<ipython-input-5-e2d967f79cf1>\u001b[0m in \u001b[0;36mndcg\u001b[0;34m(k, ranklist, testlist)\u001b[0m\n\u001b[1;32m     13\u001b[0m         \u001b[0mdcg_k\u001b[0m \u001b[0;34m+=\u001b[0m \u001b[0;36m1\u001b[0m \u001b[0;34m/\u001b[0m \u001b[0mmath\u001b[0m\u001b[0;34m.\u001b[0m\u001b[0mlog\u001b[0m\u001b[0;34m(\u001b[0m\u001b[0mhits\u001b[0m\u001b[0;34m[\u001b[0m\u001b[0mi\u001b[0m\u001b[0;34m]\u001b[0m \u001b[0;34m+\u001b[0m \u001b[0;36m2\u001b[0m\u001b[0;34m,\u001b[0m \u001b[0;36m2\u001b[0m\u001b[0;34m)\u001b[0m\u001b[0;34m\u001b[0m\u001b[0;34m\u001b[0m\u001b[0m\n\u001b[1;32m     14\u001b[0m \u001b[0;34m\u001b[0m\u001b[0m\n\u001b[0;32m---> 15\u001b[0;31m     \u001b[0;32mreturn\u001b[0m \u001b[0mfloat\u001b[0m\u001b[0;34m(\u001b[0m\u001b[0mdcg_k\u001b[0m \u001b[0;34m/\u001b[0m \u001b[0midcg_k\u001b[0m\u001b[0;34m)\u001b[0m\u001b[0;34m\u001b[0m\u001b[0;34m\u001b[0m\u001b[0m\n\u001b[0m",
      "\u001b[0;31mZeroDivisionError\u001b[0m: division by zero"
     ]
    }
   ],
   "source": [
    "users = list(set(test_data.user_id.tolist()))\n",
    "final = []\n",
    "for k in range(10):\n",
    "    precision, ndcg_k = [], []\n",
    "    for user in users:\n",
    "        target_items = [data[2] for data in test_data[test_data.user_id == user].values if data[3] == 10]\n",
    "        if not target_items: \n",
    "            for i in range(9, -1, -1):\n",
    "                target_items = [data[2] for data in test_data[test_data.user_id == user].values if data[3] == i]\n",
    "                if target_items:\n",
    "                    target_item = target_items[0]\n",
    "                    break\n",
    "        else:\n",
    "            target_item = target_items[0]\n",
    "            \n",
    "        rec = list(map(int, recommender(positive_list = [str(target_item)], topn = 5)[1:]))\n",
    "\n",
    "        cur_items = [data[2] for data in test_data[test_data.user_id == user].values if data[3] > k]\n",
    "        precision.append(len(set(rec) & set(cur_items)) / len(rec))\n",
    "        ndcg_k.append(ndcg(10, rec, cur_items))\n",
    "        \n",
    "    print(np.mean(ndcg_k))\n",
    "    final.append(np.mean(ndcg_k))"
   ]
  },
  {
   "cell_type": "code",
   "execution_count": 21,
   "metadata": {},
   "outputs": [
    {
     "name": "stdout",
     "output_type": "stream",
     "text": [
      "[0.43611111111111117, 0.43611111111111117, 0.43472222222222223, 0.4305555555555556, 0.4166666666666667, 0.3819444444444444, 0.30972222222222223, 0.18981481481481483, 0.09675925925925927, 0.033796296296296297]\n"
     ]
    }
   ],
   "source": [
    "print(final)"
   ]
  }
 ],
 "metadata": {
  "kernelspec": {
   "display_name": "Python 3",
   "language": "python",
   "name": "python3"
  },
  "language_info": {
   "codemirror_mode": {
    "name": "ipython",
    "version": 3
   },
   "file_extension": ".py",
   "mimetype": "text/x-python",
   "name": "python",
   "nbconvert_exporter": "python",
   "pygments_lexer": "ipython3",
   "version": "3.7.4"
  }
 },
 "nbformat": 4,
 "nbformat_minor": 4
}
