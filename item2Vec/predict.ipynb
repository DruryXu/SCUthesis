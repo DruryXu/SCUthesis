{
 "cells": [
  {
   "cell_type": "code",
   "execution_count": 1,
   "metadata": {},
   "outputs": [],
   "source": [
    "from gensim.models import Word2Vec\n",
    "import pandas as pd\n",
    "import numpy as np"
   ]
  },
  {
   "cell_type": "code",
   "execution_count": 2,
   "metadata": {},
   "outputs": [],
   "source": [
    "def recommender(positive_list = None, negative_list = None, topn = 5):\n",
    "    model = Word2Vec.load(\"item2Vec_20200328\")\n",
    "    recommend_anime_ls = [\"241\"]\n",
    "    for animeId, prob in model.wv.most_similar_cosmul(positive = positive_list, negative = negative_list, topn = topn):\n",
    "        recommend_anime_ls.append(animeId)\n",
    "\n",
    "    return recommend_anime_ls"
   ]
  },
  {
   "cell_type": "code",
   "execution_count": 3,
   "metadata": {},
   "outputs": [
    {
     "name": "stdout",
     "output_type": "stream",
     "text": [
      "      anime_id                        name  \\\n",
      "2508        53               Ai Yori Aoshi   \n",
      "3216       196                Onegai☆Twins   \n",
      "3382       193                    Maburaho   \n",
      "3728       487  Girls Bravo: Second Season   \n",
      "4105        63                       DearS   \n",
      "4551       241   Girls Bravo: First Season   \n",
      "\n",
      "                                                  genre type episodes  rating  \\\n",
      "2508       Comedy, Drama, Harem, Romance, Slice of Life   TV       24    7.24   \n",
      "3216               Comedy, Drama, Harem, School, Sci-Fi   TV       12    7.05   \n",
      "3382  Comedy, Drama, Ecchi, Harem, Magic, Romance, S...   TV       24    7.01   \n",
      "3728     Comedy, Ecchi, Fantasy, Harem, Romance, School   TV       13    6.90   \n",
      "4105              Comedy, Ecchi, Harem, Romance, Sci-Fi   TV       12    6.80   \n",
      "4551     Comedy, Ecchi, Fantasy, Harem, Romance, School   TV       11    6.69   \n",
      "\n",
      "      members  \n",
      "2508    66597  \n",
      "3216    59164  \n",
      "3382    61004  \n",
      "3728    57110  \n",
      "4105    91037  \n",
      "4551    84395  \n"
     ]
    }
   ],
   "source": [
    "anime = pd.read_csv(\"~/Data/anime.csv\")\n",
    "ls = recommender(positive_list = [\"241\"], topn = 5)\n",
    "print(anime[anime[\"anime_id\"].isin(ls)])"
   ]
  },
  {
   "cell_type": "code",
   "execution_count": 3,
   "metadata": {},
   "outputs": [],
   "source": [
    "df = pd.read_csv(\"~/Data/clean_rating4.csv\")\n",
    "train_ratio = 0.9\n",
    "test_data = df[int(len(df) * train_ratio):]"
   ]
  },
  {
   "cell_type": "code",
   "execution_count": 4,
   "metadata": {},
   "outputs": [
    {
     "name": "stdout",
     "output_type": "stream",
     "text": [
      "0.6304635761589404\n",
      "0.6300220750551876\n",
      "0.6282560706401766\n",
      "0.6278145695364238\n",
      "0.6251655629139073\n",
      "0.6211920529801326\n",
      "0.603532008830022\n",
      "0.5346578366445917\n",
      "0.3690949227373068\n",
      "0.17218543046357615\n"
     ]
    }
   ],
   "source": [
    "users = list(set(test_data.user_id.tolist()))\n",
    "final = []\n",
    "for k in range(10):\n",
    "    precision = []\n",
    "    for user in users:\n",
    "        target_items = [data[2] for data in test_data[test_data.user_id == user].values if data[3] == 10]\n",
    "        if not target_items: \n",
    "            continue\n",
    "        else:\n",
    "            target_item = target_items[0]\n",
    "        rec = list(map(int, recommender(positive_list = [str(target_item)], topn = 5)[1:]))\n",
    "\n",
    "        cur_items = [data[2] for data in test_data[test_data.user_id == user].values if data[3] > k]\n",
    "        precision.append(len(set(rec) & set(cur_items)) / len(rec))\n",
    "        \n",
    "    print(np.mean(precision))\n",
    "    final.append(np.mean(precision))"
   ]
  },
  {
   "cell_type": "code",
   "execution_count": 21,
   "metadata": {},
   "outputs": [
    {
     "name": "stdout",
     "output_type": "stream",
     "text": [
      "[0.43611111111111117, 0.43611111111111117, 0.43472222222222223, 0.4305555555555556, 0.4166666666666667, 0.3819444444444444, 0.30972222222222223, 0.18981481481481483, 0.09675925925925927, 0.033796296296296297]\n"
     ]
    }
   ],
   "source": [
    "print(final)"
   ]
  }
 ],
 "metadata": {
  "kernelspec": {
   "display_name": "Python 3",
   "language": "python",
   "name": "python3"
  },
  "language_info": {
   "codemirror_mode": {
    "name": "ipython",
    "version": 3
   },
   "file_extension": ".py",
   "mimetype": "text/x-python",
   "name": "python",
   "nbconvert_exporter": "python",
   "pygments_lexer": "ipython3",
   "version": "3.7.4"
  }
 },
 "nbformat": 4,
 "nbformat_minor": 4
}
