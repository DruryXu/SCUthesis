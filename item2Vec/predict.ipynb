{
 "cells": [
  {
   "cell_type": "code",
   "execution_count": 11,
   "metadata": {},
   "outputs": [],
   "source": [
    "from gensim.models import Word2Vec\n",
    "import pandas as pd\n",
    "import numpy as np\n",
    "import math"
   ]
  },
  {
   "cell_type": "code",
   "execution_count": 19,
   "metadata": {},
   "outputs": [],
   "source": [
    "def recommender(target, positive_list = None, negative_list = None, topn = 5):\n",
    "    model = Word2Vec.load(\"item2Vec_20200422\")\n",
    "    recommend_anime_ls = []\n",
    "    for animeId, prob in model.wv.most_similar_cosmul(positive = positive_list, negative = negative_list, topn = 9775):\n",
    "        if int(animeId) in target:\n",
    "            recommend_anime_ls.append(animeId)\n",
    "\n",
    "    return recommend_anime_ls"
   ]
  },
  {
   "cell_type": "code",
   "execution_count": 16,
   "metadata": {
    "collapsed": true,
    "jupyter": {
     "outputs_hidden": true
    }
   },
   "outputs": [
    {
     "name": "stdout",
     "output_type": "stream",
     "text": [
      "       anime_id                                               name  \\\n",
      "0         32281                                     Kimi no Na wa.   \n",
      "1          5114                   Fullmetal Alchemist: Brotherhood   \n",
      "2         28977                                           Gintama°   \n",
      "3          9253                                        Steins;Gate   \n",
      "4          9969                                      Gintama&#039;   \n",
      "...         ...                                                ...   \n",
      "12287      9352                             Tenshi no Habataki Jun   \n",
      "12288      5541                                   The Satisfaction   \n",
      "12289      9316       Toushindai My Lover: Minami tai Mecha-Minami   \n",
      "12290      5543                                        Under World   \n",
      "12292      6133  Violence Gekiga Shin David no Hoshi: Inma Dens...   \n",
      "\n",
      "                                                   genre   type episodes  \\\n",
      "0                   Drama, Romance, School, Supernatural  Movie        1   \n",
      "1      Action, Adventure, Drama, Fantasy, Magic, Mili...     TV       64   \n",
      "2      Action, Comedy, Historical, Parody, Samurai, S...     TV       51   \n",
      "3                                       Sci-Fi, Thriller     TV       24   \n",
      "4      Action, Comedy, Historical, Parody, Samurai, S...     TV       51   \n",
      "...                                                  ...    ...      ...   \n",
      "12287                                             Hentai    OVA        1   \n",
      "12288                                             Hentai    OVA        1   \n",
      "12289                                             Hentai    OVA        1   \n",
      "12290                                             Hentai    OVA        1   \n",
      "12292                                             Hentai    OVA        1   \n",
      "\n",
      "       rating  members  \n",
      "0        9.37   200630  \n",
      "1        9.26   793665  \n",
      "2        9.25   114262  \n",
      "3        9.17   673572  \n",
      "4        9.16   151266  \n",
      "...       ...      ...  \n",
      "12287    4.33      201  \n",
      "12288    4.37      166  \n",
      "12289    4.15      211  \n",
      "12290    4.28      183  \n",
      "12292    4.98      175  \n",
      "\n",
      "[8721 rows x 7 columns]\n"
     ]
    }
   ],
   "source": [
    "anime = pd.read_csv(\"~/Data/anime.csv\")\n",
    "ls = recommender(positive_list = [\"19859\"], topn = 5)\n",
    "print(anime[anime[\"anime_id\"].isin(ls)])"
   ]
  },
  {
   "cell_type": "code",
   "execution_count": 8,
   "metadata": {},
   "outputs": [
    {
     "name": "stdout",
     "output_type": "stream",
     "text": [
      "True\n"
     ]
    }
   ],
   "source": [
    "test_df = pd.read_csv(\"~/Thesis/Data/test.csv\")\n",
    "train_df = pd.read_csv(\"~/Thesis/Data/train.csv\")\n",
    "\n",
    "train_user_set, test_user_set = set(train_df.anime), set(test_df.anime)\n",
    "not_user = test_user_set - (train_user_set & test_user_set)\n",
    "\n",
    "animes = set(train_df[train_df.rating > 5].anime)\n",
    "print(19859 in animes)"
   ]
  },
  {
   "cell_type": "code",
   "execution_count": 28,
   "metadata": {},
   "outputs": [],
   "source": [
    "def ndcg(k, ranklist, testlist):\n",
    "    if not testlist: return 0\n",
    "    idcg_k, dcg_k = 0, 0\n",
    "    if len(testlist) < k:\n",
    "        k = len(testlist)\n",
    "    for i in range(k):\n",
    "        idcg_k += 1 / math.log(i + 2, 2)\n",
    "        \n",
    "    s = set(testlist)\n",
    "    hits = [idx for idx, val in enumerate(ranklist) if val in s]\n",
    "    count = len(hits)\n",
    "    \n",
    "    for i in range(count):\n",
    "        dcg_k += 1 / math.log(hits[i] + 2, 2)\n",
    "        \n",
    "    return float(dcg_k / idcg_k)"
   ]
  },
  {
   "cell_type": "code",
   "execution_count": null,
   "metadata": {},
   "outputs": [
    {
     "name": "stdout",
     "output_type": "stream",
     "text": [
      "0\n",
      "500\n"
     ]
    }
   ],
   "source": [
    "users = list(set(test_df.user.tolist()))\n",
    "final = []\n",
    "for k in range(9, 10):\n",
    "    precision, ndcg_k = [], []\n",
    "    for idx, user in enumerate(users):\n",
    "        if not idx % 500: print(idx)\n",
    "        target_items = test_df[(test_df.user == user)].anime.tolist()\n",
    "        for i in range(10, -1, -1):\n",
    "            items = test_df[(test_df.rating == i) & (test_df.user == user)].anime.tolist()\n",
    "            if items and items[0] not in not_user and items[0] in animes:\n",
    "                item = items[0]\n",
    "                break\n",
    "            \n",
    "        rec = list(map(int, recommender(target = set(target_items), positive_list = [str(item)], topn = 5)[1:6]))\n",
    "#         print(rec)\n",
    "        cur_items = test_df[(test_df.rating > k) & (test_df.user == user)].anime.tolist()\n",
    "#         precision.append(len(set(rec) & set(cur_items)) / len(rec))\n",
    "        ndcg_k.append(ndcg(10, rec, cur_items))\n",
    "        \n",
    "    print(np.mean(ndcg_k))\n",
    "    final.append(np.mean(ndcg_k))"
   ]
  },
  {
   "cell_type": "code",
   "execution_count": 25,
   "metadata": {},
   "outputs": [
    {
     "name": "stdout",
     "output_type": "stream",
     "text": [
      "[1.0, 0.9977877047436716, 0.9937885556264625, 0.9871516698574773, 0.9736651776217827, 0.9432461178472666, 0.8780684960646671, 0.7226972984471388, 0.47292065517974896, 0.21748564135290363]\n"
     ]
    }
   ],
   "source": [
    "print(final)"
   ]
  }
 ],
 "metadata": {
  "kernelspec": {
   "display_name": "Python 3",
   "language": "python",
   "name": "python3"
  },
  "language_info": {
   "codemirror_mode": {
    "name": "ipython",
    "version": 3
   },
   "file_extension": ".py",
   "mimetype": "text/x-python",
   "name": "python",
   "nbconvert_exporter": "python",
   "pygments_lexer": "ipython3",
   "version": "3.7.4"
  }
 },
 "nbformat": 4,
 "nbformat_minor": 4
}
