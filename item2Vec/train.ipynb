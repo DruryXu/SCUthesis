{
 "cells": [
  {
   "cell_type": "code",
   "execution_count": 1,
   "metadata": {},
   "outputs": [],
   "source": [
    "from gensim.models import Word2Vec        \n",
    "from sklearn.model_selection import train_test_split\n",
    "import pandas as pd\n",
    "import numpy as np"
   ]
  },
  {
   "cell_type": "code",
   "execution_count": 2,
   "metadata": {},
   "outputs": [],
   "source": [
    "def rating_splitter(df):\n",
    "#     df = df[df.rating > 5]\n",
    "    df['anime'] = df['anime'].astype('str')\n",
    "    gp_user_like = df.groupby(['user'])\n",
    "\n",
    "    return [gp_user_like.get_group(gp)['anime'].tolist() for gp in gp_user_like.groups]"
   ]
  },
  {
   "cell_type": "code",
   "execution_count": 6,
   "metadata": {},
   "outputs": [
    {
     "name": "stdout",
     "output_type": "stream",
     "text": [
      "true\n",
      "true\n",
      "true\n",
      "true\n",
      "true\n",
      "true\n",
      "true\n",
      "true\n",
      "true\n"
     ]
    }
   ],
   "source": [
    "df = pd.read_csv(\"~/Thesis/Data/train.csv\")\n",
    "splitted_animes = rating_splitter(df)\n",
    "for s in splitted_animes:\n",
    "    if '19859' in s:\n",
    "        print(\"true\")"
   ]
  },
  {
   "cell_type": "code",
   "execution_count": 4,
   "metadata": {},
   "outputs": [
    {
     "name": "stdout",
     "output_type": "stream",
     "text": [
      "Time passed:0:42:45.112994\n"
     ]
    }
   ],
   "source": [
    "import random\n",
    "for anime_list in splitted_animes:\n",
    "    random.shuffle(anime_list)\n",
    "\n",
    "import datetime\n",
    "start = datetime.datetime.now()\n",
    "model = Word2Vec(sentences = splitted_animes,\n",
    "                 iter = 5,\n",
    "                 min_count = 10,\n",
    "                 size = 200,\n",
    "                 workers = 4,\n",
    "                 sg = 1,\n",
    "                 hs = 0,\n",
    "                 negative = 5,\n",
    "                 window = 9999999)\n",
    "print(\"Time passed:\" + str(datetime.datetime.now() - start))\n",
    "model.save('item2Vec_20200422')"
   ]
  }
 ],
 "metadata": {
  "kernelspec": {
   "display_name": "Python 3",
   "language": "python",
   "name": "python3"
  },
  "language_info": {
   "codemirror_mode": {
    "name": "ipython",
    "version": 3
   },
   "file_extension": ".py",
   "mimetype": "text/x-python",
   "name": "python",
   "nbconvert_exporter": "python",
   "pygments_lexer": "ipython3",
   "version": "3.7.4"
  }
 },
 "nbformat": 4,
 "nbformat_minor": 4
}
