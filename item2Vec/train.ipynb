{
 "cells": [
  {
   "cell_type": "code",
   "execution_count": 1,
   "metadata": {},
   "outputs": [],
   "source": [
    "from gensim.models import Word2Vec        \n",
    "from sklearn.model_selection import train_test_split\n",
    "import pandas as pd\n",
    "import numpy as np"
   ]
  },
  {
   "cell_type": "code",
   "execution_count": 2,
   "metadata": {},
   "outputs": [],
   "source": [
    "def rating_splitter(df):\n",
    "    df['liked'] = np.where(df[\"rating\"] > 5, 1, 0)\n",
    "    df['anime_id'] = df['anime_id'].astype('str')\n",
    "    gp_user_like = df.groupby(['liked', 'user_id'])\n",
    "\n",
    "    return [gp_user_like.get_group(gp)['anime_id'].tolist() for gp in gp_user_like.groups]"
   ]
  },
  {
   "cell_type": "code",
   "execution_count": 3,
   "metadata": {},
   "outputs": [
    {
     "name": "stderr",
     "output_type": "stream",
     "text": [
      "/home/drury/anaconda3/lib/python3.7/site-packages/ipykernel_launcher.py:2: SettingWithCopyWarning: \n",
      "A value is trying to be set on a copy of a slice from a DataFrame.\n",
      "Try using .loc[row_indexer,col_indexer] = value instead\n",
      "\n",
      "See the caveats in the documentation: http://pandas.pydata.org/pandas-docs/stable/user_guide/indexing.html#returning-a-view-versus-a-copy\n",
      "  \n",
      "/home/drury/anaconda3/lib/python3.7/site-packages/ipykernel_launcher.py:3: SettingWithCopyWarning: \n",
      "A value is trying to be set on a copy of a slice from a DataFrame.\n",
      "Try using .loc[row_indexer,col_indexer] = value instead\n",
      "\n",
      "See the caveats in the documentation: http://pandas.pydata.org/pandas-docs/stable/user_guide/indexing.html#returning-a-view-versus-a-copy\n",
      "  This is separate from the ipykernel package so we can avoid doing imports until\n"
     ]
    },
    {
     "name": "stdout",
     "output_type": "stream",
     "text": [
      "8401\n",
      "Time passed:0:42:04.611413\n"
     ]
    }
   ],
   "source": [
    "df = pd.read_csv(\"~/Data/clean_rating4.csv\")\n",
    "train_ratio = 0.9\n",
    "train_data = df[:int(len(df) * train_ratio)]\n",
    "test_data = df[int(len(df) * train_ratio):]\n",
    "splitted_animes = rating_splitter(train_data)\n",
    "\n",
    "print(len(splitted_animes))\n",
    "import random\n",
    "for anime_list in splitted_animes:\n",
    "    random.shuffle(anime_list)\n",
    "\n",
    "import datetime\n",
    "start = datetime.datetime.now()\n",
    "model = Word2Vec(sentences = splitted_animes,\n",
    "                 iter = 5,\n",
    "                 min_count = 10,\n",
    "                 size = 200,\n",
    "                 workers = 4,\n",
    "                 sg = 1,\n",
    "                 hs = 0,\n",
    "                 negative = 5,\n",
    "                 window = 9999999)\n",
    "print(\"Time passed:\" + str(datetime.datetime.now() - start))\n",
    "model.save('item2Vec_20200328')"
   ]
  }
 ],
 "metadata": {
  "kernelspec": {
   "display_name": "Python 3",
   "language": "python",
   "name": "python3"
  },
  "language_info": {
   "codemirror_mode": {
    "name": "ipython",
    "version": 3
   },
   "file_extension": ".py",
   "mimetype": "text/x-python",
   "name": "python",
   "nbconvert_exporter": "python",
   "pygments_lexer": "ipython3",
   "version": "3.7.4"
  }
 },
 "nbformat": 4,
 "nbformat_minor": 4
}
