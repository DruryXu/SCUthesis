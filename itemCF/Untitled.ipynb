{
 "cells": [
  {
   "cell_type": "code",
   "execution_count": null,
   "metadata": {},
   "outputs": [],
   "source": [
    "import os\n",
    "import pandas as pd\n",
    "from surprise import Reader\n",
    "from surprise import Dataset\n",
    "from surprise.model_selection import cross_validate\n",
    "from surprise import NormalPredictor\n",
    "from surprise import KNNWithMeans\n",
    "if __name__ == \"__main__\":\n",
    "\n",
    "    rating = pd.read_csv(\"~/Data/clean_rating4.csv\").drop(['id'], axis = 1)\n",
    "    reader = Reader(rating_scale=(-1, 10))\n",
    "    data = Dataset.load_from_df(rating, reader)\n",
    "    \n",
    "\n",
    "    sim_options = {'name': 'pearson',\n",
    "                   'user_based': False}\n",
    "    algo = KNNWithMeans(sim_options = sim_options)\n",
    "    print(cross_validate(algo, data, cv = 2))"
   ]
  }
 ],
 "metadata": {
  "kernelspec": {
   "display_name": "Python 3",
   "language": "python",
   "name": "python3"
  },
  "language_info": {
   "codemirror_mode": {
    "name": "ipython",
    "version": 3
   },
   "file_extension": ".py",
   "mimetype": "text/x-python",
   "name": "python",
   "nbconvert_exporter": "python",
   "pygments_lexer": "ipython3",
   "version": "3.7.4"
  }
 },
 "nbformat": 4,
 "nbformat_minor": 4
}
