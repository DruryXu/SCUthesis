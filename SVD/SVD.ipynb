{
 "cells": [
  {
   "cell_type": "code",
   "execution_count": 8,
   "metadata": {},
   "outputs": [
    {
     "name": "stdout",
     "output_type": "stream",
     "text": [
      "(4701, 9734)\n",
      "[[0.00000000e+00 3.42094857e+00 1.22012446e+00 ... 0.00000000e+00\n",
      "  0.00000000e+00 0.00000000e+00]\n",
      " [0.00000000e+00 1.82340832e+00 8.97075285e-01 ... 0.00000000e+00\n",
      "  0.00000000e+00 0.00000000e+00]\n",
      " [0.00000000e+00 5.58474606e+00 2.54563406e+00 ... 0.00000000e+00\n",
      "  0.00000000e+00 0.00000000e+00]\n",
      " ...\n",
      " [1.47787858e-03 9.66310391e+00 7.17988790e+00 ... 2.21681787e-03\n",
      "  1.09581044e-02 3.16093864e-03]\n",
      " [8.53932467e-04 5.06315535e+00 3.84413257e+00 ... 1.28089870e-03\n",
      "  1.51936802e-02 9.93581979e-03]\n",
      " [4.75528359e-03 2.82679699e+00 1.82777382e+00 ... 7.13292538e-03\n",
      "  1.42069883e-02 1.88358895e-02]]\n"
     ]
    }
   ],
   "source": [
    "import numpy as np\n",
    "import pandas as pd\n",
    "\n",
    "def compress(data):\n",
    "    user_num = len(set(data[:, 0]))\n",
    "    item_num = len(set(data[:, 1]))\n",
    "    user_dict = dict(zip(sorted(list(set(data[:, 0]))), [i for i in range(user_num)]))\n",
    "    item_dict = dict(zip(sorted(list(set(data[:, 1]))), [i for i in range(item_num)]))\n",
    "\n",
    "    for i in data:\n",
    "        i[0] = user_dict[i[0]]\n",
    "        i[1] = item_dict[i[1]]\n",
    "\n",
    "    return data\n",
    "\n",
    "if __name__ == \"__main__\":\n",
    "    data = pd.read_csv(\"~/Data/clean_rating3.csv\")\n",
    "\n",
    "#     data = compress(rating[rating.rating > 0].values)\n",
    "    idx_to_user = list(set(data[data.rating > 0].user_id))\n",
    "    idx_to_item = list(set(data[data.rating > 0].anime_id))\n",
    "\n",
    "    user_to_idx = {user: idx for idx, user in enumerate(idx_to_user)}\n",
    "    item_to_idx = {item: idx for idx, item in enumerate(idx_to_item)}\n",
    "    n_users = len(idx_to_user)\n",
    "    n_items = len(idx_to_item)\n",
    "    data = data[data.rating > 0].values\n",
    "\n",
    "    from sklearn.model_selection import train_test_split\n",
    "    train_data, test_data = train_test_split(data, test_size = 0.3)\n",
    "\n",
    "    train_data_matrix = np.zeros((n_users, n_items))\n",
    "    for line in data:\n",
    "        train_data_matrix[user_to_idx[line[0]], item_to_idx[line[1]]] = line[2]\n",
    "\n",
    "    import scipy.sparse as sp\n",
    "    from scipy.sparse.linalg import svds\n",
    "    \n",
    "    print(train_data_matrix.shape)\n",
    "    u, s, vt = svds(train_data_matrix, k = 20)\n",
    "    s_diag_matrix = np.diag(s)\n",
    "    svd_prediction = np.dot(np.dot(u, s_diag_matrix), vt)\n",
    "\n",
    "    svd_prediction[svd_prediction < 0] = 0\n",
    "    svd_prediction[svd_prediction > 10] = 10\n",
    "    print(svd_prediction)"
   ]
  },
  {
   "cell_type": "code",
   "execution_count": null,
   "metadata": {},
   "outputs": [],
   "source": []
  }
 ],
 "metadata": {
  "kernelspec": {
   "display_name": "Python 3",
   "language": "python",
   "name": "python3"
  },
  "language_info": {
   "codemirror_mode": {
    "name": "ipython",
    "version": 3
   },
   "file_extension": ".py",
   "mimetype": "text/x-python",
   "name": "python",
   "nbconvert_exporter": "python",
   "pygments_lexer": "ipython3",
   "version": "3.7.4"
  }
 },
 "nbformat": 4,
 "nbformat_minor": 4
}
