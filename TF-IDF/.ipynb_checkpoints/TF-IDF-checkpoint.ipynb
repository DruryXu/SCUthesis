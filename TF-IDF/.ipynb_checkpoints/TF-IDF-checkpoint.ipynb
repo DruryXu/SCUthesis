{
 "cells": [
  {
   "cell_type": "code",
   "execution_count": 1,
   "metadata": {},
   "outputs": [],
   "source": [
    "import pandas as pd\n",
    "import numpy as np"
   ]
  },
  {
   "cell_type": "code",
   "execution_count": 31,
   "metadata": {
    "collapsed": true,
    "jupyter": {
     "outputs_hidden": true
    }
   },
   "outputs": [
    {
     "name": "stdout",
     "output_type": "stream",
     "text": [
      "False\n"
     ]
    }
   ],
   "source": [
    "data, item_to_genre = pd.read_csv(\"~/Data/anime.csv\")[[\"anime_id\", \"genre\"]].fillna(\"\"), {}\n",
    "for st in data.values:\n",
    "    item_to_genre[st[0]] = st[1].split(\",\")"
   ]
  },
  {
   "cell_type": "code",
   "execution_count": null,
   "metadata": {},
   "outputs": [],
   "source": [
    "user_item = pd.read_csv(\"~/Data/clean_rating3.csv\")\n",
    "grouped, corpus = user_item.groupby(\"user_id\"), []\n",
    "for gp in grouped.groups:\n",
    "    items, sentences = grouped.get_group(gp).anime_id.tolist(), []\n",
    "    for item in items:\n",
    "        sentences += item_to_genre.get(item, [])\n",
    "    \n",
    "    corpus.append(sentences)"
   ]
  },
  {
   "cell_type": "code",
   "execution_count": null,
   "metadata": {},
   "outputs": [],
   "source": []
  }
 ],
 "metadata": {
  "kernelspec": {
   "display_name": "Python 3",
   "language": "python",
   "name": "python3"
  },
  "language_info": {
   "codemirror_mode": {
    "name": "ipython",
    "version": 3
   },
   "file_extension": ".py",
   "mimetype": "text/x-python",
   "name": "python",
   "nbconvert_exporter": "python",
   "pygments_lexer": "ipython3",
   "version": "3.7.4"
  }
 },
 "nbformat": 4,
 "nbformat_minor": 4
}
