{
 "cells": [
  {
   "cell_type": "code",
   "execution_count": 17,
   "metadata": {},
   "outputs": [],
   "source": [
    "import pandas as pd\n",
    "import numpy as np\n",
    "import math\n",
    "import json\n",
    "from collections import defaultdict\n",
    "from collections import Counter"
   ]
  },
  {
   "cell_type": "code",
   "execution_count": 27,
   "metadata": {
    "collapsed": true,
    "jupyter": {
     "outputs_hidden": true
    }
   },
   "outputs": [
    {
     "name": "stdout",
     "output_type": "stream",
     "text": [
      "   anime_id                              name  \\\n",
      "0     32281                    Kimi no Na wa.   \n",
      "1      5114  Fullmetal Alchemist: Brotherhood   \n",
      "2     28977                          Gintama°   \n",
      "3      9253                       Steins;Gate   \n",
      "4      9969                     Gintama&#039;   \n",
      "\n",
      "                                               genre   type episodes  rating  \\\n",
      "0               Drama, Romance, School, Supernatural  Movie        1    9.37   \n",
      "1  Action, Adventure, Drama, Fantasy, Magic, Mili...     TV       64    9.26   \n",
      "2  Action, Comedy, Historical, Parody, Samurai, S...     TV       51    9.25   \n",
      "3                                   Sci-Fi, Thriller     TV       24    9.17   \n",
      "4  Action, Comedy, Historical, Parody, Samurai, S...     TV       51    9.16   \n",
      "\n",
      "   members  \n",
      "0   200630  \n",
      "1   793665  \n",
      "2   114262  \n",
      "3   673572  \n",
      "4   151266  \n"
     ]
    }
   ],
   "source": [
    "df = pd.read_csv(\"~/Data/anime.csv\")\n",
    "print(df.head())\n",
    "data, item_to_genre, genres = df[[\"anime_id\", \"genre\"]].fillna(\"\"), {}, []\n",
    "for st in data.values:\n",
    "    item_to_genre[st[0]] = [a.strip() for a in st[1].split(\",\") if len(a) > 0]\n",
    "    genres += st[1].split(\",\")\n",
    "\n",
    "num_genres = len(set(genres))"
   ]
  },
  {
   "cell_type": "code",
   "execution_count": 54,
   "metadata": {},
   "outputs": [],
   "source": [
    "rating_df = pd.read_csv(\"~/Data/clean_rating4.csv\").drop([\"id\"], axis = 1)"
   ]
  },
  {
   "cell_type": "code",
   "execution_count": 137,
   "metadata": {},
   "outputs": [
    {
     "name": "stdout",
     "output_type": "stream",
     "text": [
      "1\n",
      "['no', 'yes', 'no', 'no', 'no']\n",
      "2\n",
      "['yes', 'yes', 'no', 'no', 'yes']\n",
      "3\n",
      "['no', 'yes', 'yes', 'yes', 'no']\n",
      "4\n",
      "['no', 'yes', 'no', 'no', 'yes']\n",
      "5\n",
      "['yes', 'yes', 'yes', 'no', 'no']\n",
      "6\n",
      "['yes', 'yes', 'no', 'no', 'no']\n",
      "7\n",
      "['no', 'no', 'no', 'no', 'no']\n",
      "8\n",
      "['no', 'no', 'no', 'no', 'yes']\n",
      "9\n",
      "['yes', 'no', 'no', 'no', 'no']\n",
      "10\n",
      "{1425: [5114, 9253, 6547, 1575, 4181, 2904, 4224, 1535, 19815, 16498], 1942: [2001, 1575, 2904, 1, 4224, 9253, 1535, 5114, 199, 849], 137: [853, 1575, 6746, 431, 16498, 199, 1535, 2904, 9989, 5300], 4589: [9253, 5114, 2001, 1575, 2904, 1535, 4224, 16498, 5081, 6547], 4324: [1535, 1575, 4224, 226, 5114, 6547, 9253, 356, 849, 2167], 386: [1575, 1535, 2904, 6547, 5114, 4224, 9253, 2167, 11757, 4181], 332: [1535, 5114, 16498, 11757, 9253, 1575, 6547, 2904, 4224, 2001], 814: [9253, 2001, 5114, 5081, 1575, 1535, 4181, 2904, 4224, 6547], 2600: [1575, 6547, 4181, 11757, 2904, 226, 4224, 1535, 9253, 5081], 638: [1535, 5114, 16498, 11757, 9253, 1575, 6547, 2904, 4224, 2001]}\n"
     ]
    }
   ],
   "source": [
    "users = list(set(user_item.user_id.tolist()))\n",
    "tf, random, hot, inputs, results = {}, {}, {}, {}, {}\n",
    "for epoch in range(10):\n",
    "    print(epoch + 1)\n",
    "    test_user = np.random.choice(a = users, size = 1)\n",
    "    user_item = rating_df[rating_df.user_id != test_user[0]]\n",
    "    from collections import defaultdict\n",
    "    grouped, corpus, genre_to_user = user_item.groupby(\"user_id\"), {}, defaultdict(list)\n",
    "    for gp in grouped.groups:\n",
    "        items, sentences = [t[1] for t in grouped.get_group(gp).values if t[2] > 5], []\n",
    "        for item in items:\n",
    "            sentences += item_to_genre.get(item, [])\n",
    "\n",
    "        for genre in set(sentences):\n",
    "            genre_to_user[genre].append(gp)\n",
    "\n",
    "        corpus[gp] = sentences\n",
    "        \n",
    "    sorted_tf_idf, base_genres = tfidf(corpus)\n",
    "    input = get_input(test_user[0], base_genres, item_to_genre, rating_df, df)\n",
    "    \n",
    "    if inputs.get(tuple(input), None):\n",
    "        result = inputs[tuple(input)]\n",
    "    else:\n",
    "        result = recomm(input, corpus, genre_to_user, user_item, sorted_tf_idf)\n",
    "    \n",
    "    results[test_user[0]] = result\n",
    "    random[test_user[0]] = random_rec()\n",
    "    hot[test_user[0]] = rec_hot()\n",
    "    inputs[tuple(input)] = result\n",
    "\n",
    "    \n",
    "print(results)"
   ]
  },
  {
   "cell_type": "code",
   "execution_count": 138,
   "metadata": {},
   "outputs": [
    {
     "name": "stdout",
     "output_type": "stream",
     "text": [
      "re: [0.8400000000000001, 0.8400000000000001, 0.8200000000000001, 0.8200000000000001, 0.8200000000000001, 0.8000000000000002, 0.76, 0.65, 0.43000000000000005, 0.15]\n",
      "ra [0.04, 0.04, 0.04, 0.04, 0.04, 0.02, 0.02, 0.02, 0.01, 0.01]\n",
      "ho [0.77, 0.77, 0.75, 0.75, 0.75, 0.73, 0.6699999999999999, 0.55, 0.32999999999999996, 0.09999999999999999]\n"
     ]
    }
   ],
   "source": [
    "re, ra, ho = [], [], []\n",
    "for i in range(10):\n",
    "    re_tmp, ra_tmp, ho_tmp = 0, 0, 0\n",
    "    for k in results.keys():\n",
    "        a = rating_df[(rating_df.user_id == k) & (rating_df.rating > i)].anime_id.tolist()\n",
    "#         print(rating_df[(rating_df.user_id == k) & (rating_df.rating > i)])\n",
    "        re_tmp += len(set(a) & set(results[k])) / 10\n",
    "        ra_tmp += len(set(a) & set(random[k])) / 10\n",
    "        ho_tmp += len(set(a) & set(hot[k])) / 10\n",
    "    \n",
    "    re.append(re_tmp / 10)\n",
    "    ra.append(ra_tmp / 10)\n",
    "    ho.append(ho_tmp / 10)\n",
    "\n",
    "print(\"re:\", re)\n",
    "print(\"ra\", ra)\n",
    "print(\"ho\", ho)"
   ]
  },
  {
   "cell_type": "code",
   "execution_count": 83,
   "metadata": {},
   "outputs": [],
   "source": [
    "def tfidf(corpus):\n",
    "    word_frequency, doc_frequency, word_tf, word_idf = defaultdict(int), defaultdict(int), defaultdict(float), defaultdict(float)\n",
    "    for st in corpus.values():\n",
    "        for word in st:\n",
    "            word_frequency[word] += 1\n",
    "        for word in set(st):\n",
    "            doc_frequency[word] += 1\n",
    "\n",
    "    num_words = sum(word_frequency.values())\n",
    "    for word in word_frequency:\n",
    "        word_tf[word] = word_frequency[word] / num_words\n",
    "\n",
    "    for doc in doc_frequency:\n",
    "        word_idf[doc] = math.log(len(corpus) / (doc_frequency[doc] + 1))\n",
    "\n",
    "    tf_idf = {}\n",
    "    for word in word_tf:\n",
    "        tf_idf[word] = word_tf[word] * word_idf[word]\n",
    "    \n",
    "    sorted_tf_idf = sorted(tf_idf.items(), key = lambda x: x[1], reverse = True)\n",
    "    return sorted_tf_idf, [g[0] for g in sorted(tf_idf.items(), key = lambda x: x[1], reverse = True)[:5]]\n",
    "# dic = {'genre': [i[0] for i in sorted_tf_idf], 'tf_idf': [i[1] for i in sorted_tf_idf]}\n",
    "# df = pd.DataFrame(dic)\n",
    "# df.to_csv(\"tf_idf.csv\")"
   ]
  },
  {
   "cell_type": "code",
   "execution_count": 131,
   "metadata": {},
   "outputs": [],
   "source": [
    "def get_input(user, base_genres, item_to_genre, rating_df, anime_df):\n",
    "    items = [data[1] for data in rating_df[rating_df.user_id == user].values if data[2] > 5]\n",
    "#     print(user)\n",
    "    genres = sum([item_to_genre[i] for i in items], [])\n",
    "#     liked_genres = [g[0] for g in sorted(Counter(genres).items(), key = lambda x: x[1], reverse = True)[:5]]\n",
    "#     print(liked_genres)\n",
    "    result = []\n",
    "    for g in base_genres:\n",
    "        if g in genres:\n",
    "            result.append('yes')\n",
    "        else:\n",
    "            result.append('no')\n",
    "    \n",
    "    return result"
   ]
  },
  {
   "cell_type": "code",
   "execution_count": 136,
   "metadata": {},
   "outputs": [],
   "source": [
    "def recomm(input, corpus, genre_to_user, user_item, sorted_tf_idf): \n",
    "    print(input)\n",
    "    if input == ['no', 'no', 'no', 'no', 'no']: \n",
    "        return rec_hot()\n",
    "    \n",
    "    candidate, all_user = set(corpus.keys()), set(corpus.keys())\n",
    "#     print(candidate)\n",
    "    liked_genres = []\n",
    "    for idx, ans in enumerate(input):\n",
    "        if ans == \"yes\":\n",
    "            candidate &= set(genre_to_user[sorted_tf_idf[idx][0]])\n",
    "            liked_genres.append(sorted_tf_idf[idx][0])\n",
    "        else:\n",
    "            candidate &= all_user - set(genre_to_user[sorted_tf_idf[idx][0]])\n",
    "            \n",
    "#     print(len(candidate))\n",
    "    rec= defaultdict(int)\n",
    "    for user in candidate:\n",
    "        animes = user_item[user_item.user_id == user].anime_id.tolist()\n",
    "        for item in animes:\n",
    "            overlap = set(item_to_genre[item]) & set(liked_genres)\n",
    "            if overlap:\n",
    "                rec[item] += (int(user_item[(user_item.user_id == user) & (user_item.anime_id == item)].rating.values) - 5) * (len(overlap) / len(liked_genres))\n",
    "            else:\n",
    "                rec[item] += (int(user_item[(user_item.user_id == user) & (user_item.anime_id == item)].rating.values) - 5)\n",
    "    return [g[0] for g in sorted(rec.items(), key = lambda x: x[1], reverse = True)[:10]]"
   ]
  },
  {
   "cell_type": "code",
   "execution_count": 105,
   "metadata": {},
   "outputs": [],
   "source": [
    "def random_rec():\n",
    "    animes = list(set(df.anime_id))\n",
    "    rec = np.random.choice(animes, 10)\n",
    "    return rec"
   ]
  },
  {
   "cell_type": "code",
   "execution_count": 110,
   "metadata": {},
   "outputs": [],
   "source": [
    "def get_hot_items():\n",
    "    animes = pd.read_csv(\"~/Data/anime.csv\")\n",
    "    ratings = pd.read_csv('~/Data/clean_rating4.csv').drop([\"id\"], axis = 1)\n",
    "    idx_to_animes = list(set(ratings['anime_id'].tolist()))\n",
    "    animes = animes[animes[\"anime_id\"].isin(idx_to_animes)].loc[:, [\"anime_id\", \"rating\", \"members\"]].fillna(0)\n",
    "\n",
    "    scalar = lambda x: (x - np.min(x)) / (np.max(x) - np.min(x))\n",
    "    animes[\"rating_norm\"] = animes[[\"rating\"]].apply(scalar)\n",
    "    animes[\"members_norm\"] = animes[[\"members\"]].apply(scalar)\n",
    "    animes[\"weight\"] = 0.6 * animes[\"rating_norm\"] + 0.4 * animes[\"members_norm\"]\n",
    "    animes = animes.sort_values(by = \"weight\", ascending = False)\n",
    "    \n",
    "    return animes.anime_id.tolist()"
   ]
  },
  {
   "cell_type": "code",
   "execution_count": 104,
   "metadata": {},
   "outputs": [],
   "source": [
    "def rec_hot():\n",
    "    hot_items = get_hot_items()\n",
    "    return hot_items[:10]"
   ]
  }
 ],
 "metadata": {
  "kernelspec": {
   "display_name": "Python 3",
   "language": "python",
   "name": "python3"
  },
  "language_info": {
   "codemirror_mode": {
    "name": "ipython",
    "version": 3
   },
   "file_extension": ".py",
   "mimetype": "text/x-python",
   "name": "python",
   "nbconvert_exporter": "python",
   "pygments_lexer": "ipython3",
   "version": "3.7.4"
  }
 },
 "nbformat": 4,
 "nbformat_minor": 4
}
